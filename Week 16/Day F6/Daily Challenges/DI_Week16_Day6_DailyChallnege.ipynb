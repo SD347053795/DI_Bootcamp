{
  "nbformat": 4,
  "nbformat_minor": 0,
  "metadata": {
    "colab": {
      "provenance": []
    },
    "kernelspec": {
      "name": "python3",
      "display_name": "Python 3"
    },
    "language_info": {
      "name": "python"
    }
  },
  "cells": [
    {
      "cell_type": "markdown",
      "source": [
        "You are working as a chief data analyst in a famous startup. Your boss gave you the following task: to analyze the dataset and provide meaningful insights.\n",
        "\n",
        "Below you can find the first lines of the dataframe `shopping_behavior_updated`:\n",
        "\n",
        "Customer ID,Age,Gender,Item Purchased,Category,Purchase Amount (USD),Location,Size,Color,Season,Review Rating,Subscription Status,Shipping Type,Discount Applied,Promo Code Used,Previous Purchases,Payment Method,Frequency of Purchases\n",
        "1,55,Male,Blouse,Clothing,53,Kentucky,L,Gray,Winter,3.1,Yes,Express,Yes,Yes,14,Venmo,Fortnightly\n",
        "2,19,Male,Sweater,Clothing,64,Maine,L,Maroon,Winter,3.1,Yes,Express,Yes,Yes,2,Cash,Fortnightly\n",
        "3,50,Male,Jeans,Clothing,73,Massachusetts,S,Maroon,Spring,3.1,Yes,Free Shipping,Yes,Yes,23,Credit Card,Weekly\n",
        "4,21,Male,Sandals,Footwear,90,Rhode Island,M,Maroon,Spring,3.5,Yes,Next Day Air,Yes,Yes,49,PayPal,Weekly\n",
        "5,45,Male,Blouse,Clothing,49,Oregon,M,Turquoise,Spring,2.7,Yes,Free Shipping,Yes,Yes,31,PayPal,Annually\n",
        "6,46,Male,Sneakers,Footwear,20,Wyoming,M,White,Summer,2.9,Yes,Standard,Yes,Yes,14,Venmo,Weekly\n",
        "7,63,Male,Shirt,Clothing,85,Montana,M,Gray,Fall,3.2,Yes,Free Shipping,Yes,Yes,49,Cash,Quarterly\n",
        "8,27,Male,Shorts,Clothing,34,Louisiana,L,Charcoal,Winter,3.2,Yes,Free Shipping,Yes,Yes,19,Credit Card,Weekly\n",
        "9,26,Male,Coat,Outerwear,97,West Virginia,L,Silver,Summer,2.6,Yes,Express,Yes,Yes,8,Venmo,Annually\n",
        "10,57,Male,Handbag,Accessories,31,Missouri,M,Pink,Spring,4.8,Yes,2-Day Shipping,Yes,Yes,4,Cash,Quarterly\n"
      ],
      "metadata": {
        "id": "z-RYtAcM5qzW"
      }
    },
    {
      "cell_type": "markdown",
      "source": [
        "**Chat GPT Responce:**\n",
        "\n",
        "To analyze the shopping_behavior_updated dataset and provide meaningful insights, you can start by exploring various aspects of the data. Here’s a structured approach to get you started:\n",
        "\n",
        "1. Data Overview\n",
        "Basic Statistics:\n",
        "Count of unique customers, total number of purchases, average purchase amount, etc.\n",
        "Distribution Analysis:\n",
        "Age: Distribution of ages of customers.\n",
        "Gender: Count and percentage of purchases by gender.\n",
        "Category: Distribution of items purchased across different categories.\n",
        "Location: Sales distribution by location.\n",
        "Season: Sales distribution by season.\n",
        "2. Customer Segmentation\n",
        "Purchase Frequency:\n",
        "\n",
        "Analyze purchase frequency patterns (e.g., Weekly, Fortnightly, Annually).\n",
        "Purchase Amount:\n",
        "\n",
        "Segment customers based on their total purchase amount (e.g., high spenders vs. low spenders).\n",
        "Review Rating:\n",
        "\n",
        "Correlation between review ratings and purchase amount or frequency.\n",
        "3. Purchase Patterns\n",
        "Item Purchased:\n",
        "Most and least popular items.\n",
        "Category Trends:\n",
        "Analyze which categories are most popular during different seasons.\n",
        "Discounts and Promo Codes:\n",
        "Effectiveness of discounts and promo codes on purchase amounts.\n",
        "4. Geographic Insights\n",
        "Sales by Location:\n",
        "Total sales and average purchase amount by location.\n",
        "Location-based Trends:\n",
        "Preferences for categories and items in different locations.\n",
        "5. Payment Methods\n",
        "Payment Method Usage:\n",
        "\n",
        "Distribution of different payment methods used.\n",
        "Payment Method vs. Purchase Amount:\n",
        "\n",
        "Analyze if there is a relationship between payment methods and purchase amounts.\n",
        "6. Shipping and Subscription\n",
        "Shipping Type Analysis:\n",
        "\n",
        "Compare purchase amounts and frequencies for different shipping types.\n",
        "Subscription Status:\n",
        "\n",
        "Impact of subscription status on purchase behavior and review ratings.\n",
        "Example Insights\n",
        "Customer Spending Habits:\n",
        "\n",
        "Identify which age groups or genders spend the most and if there are any seasonal patterns in spending.\n",
        "Category Preferences:\n",
        "\n",
        "Determine if certain categories are more popular during specific seasons or if discounts affect the choice of category.\n",
        "Impact of Shipping and Payment Methods:\n",
        "\n",
        "Evaluate how shipping types and payment methods influence the frequency and amount of purchases.\n",
        "Review Ratings:\n",
        "\n",
        "Assess if higher review ratings correlate with higher purchase amounts or more frequent purchases.\n",
        "Next Steps\n",
        "Data Cleaning:\n",
        "\n",
        "Ensure there are no missing or inconsistent values in the dataset.\n",
        "Exploratory Data Analysis (EDA):\n",
        "\n",
        "Use visualization tools to better understand the distributions and relationships in the data.\n",
        "Statistical Analysis:\n",
        "\n",
        "Apply statistical tests to validate any observed patterns or trends.\n",
        "Reporting:\n",
        "\n",
        "Summarize the findings in a report with visualizations and actionable recommendations.\n",
        "Would you like to dive deeper into any specific area or need help with particular analyses or visualizations?"
      ],
      "metadata": {
        "id": "b4D-OdpI5wQo"
      }
    },
    {
      "cell_type": "markdown",
      "source": [
        "Key Topics to Explore\n",
        "1. Impact of Discounts and Promo Codes on Consumer Behavior\n",
        "2. Seasonal Trends in Purchase Categories\n",
        "3. Customer Segmentation Based on Purchase Frequency and Amount"
      ],
      "metadata": {
        "id": "YI_P1TSr6Dh3"
      }
    },
    {
      "cell_type": "markdown",
      "source": [
        "Prompt 1: How do different types of discounts and promo codes (e.g., percentage off, buy one get one free) influence consumer purchasing decisions and overall sales in e-commerce? Can you provide examples of how these promotions affect average order value and purchase frequency?\n",
        "\n",
        "Prompt 2: What are the key seasonal trends in e-commerce purchase categories, and how do consumer preferences shift across different seasons (e.g., summer, winter, spring, fall)? How can e-commerce businesses use these trends to optimize their inventory and marketing strategies?\n",
        "\n",
        "Prompt3: What are effective methods for segmenting e-commerce customers based on their purchase frequency and amount? How can these segments be used to tailor marketing efforts and improve customer engagement and retention?"
      ],
      "metadata": {
        "id": "bY2M47Ne71vL"
      }
    },
    {
      "cell_type": "code",
      "execution_count": 1,
      "metadata": {
        "id": "4kge6Kg74gjv"
      },
      "outputs": [],
      "source": [
        "# import pandas as pd\n",
        "# import numpy as np\n",
        "# import seaborn as sb\n",
        "# import matplotlib.pyplot as plt\n",
        "# from sklearn.preprocessing import StandardScaler\n",
        "# from sklearn.cluster import KMeans"
      ]
    },
    {
      "cell_type": "code",
      "source": [
        "# df = pd.read_csv('shopping_behavior_updated.csv')\n",
        "# df.head()\n",
        "# df.info()\n",
        "# df.columns()"
      ],
      "metadata": {
        "id": "1bxHy9-MEm8H",
        "collapsed": true,
        "colab": {
          "base_uri": "https://localhost:8080/",
          "height": 356
        },
        "outputId": "585de9cd-db60-4674-803f-60c877a979c8"
      },
      "execution_count": 2,
      "outputs": [
        {
          "output_type": "error",
          "ename": "FileNotFoundError",
          "evalue": "[Errno 2] No such file or directory: 'shopping_behavior_updated.csv'",
          "traceback": [
            "\u001b[0;31m---------------------------------------------------------------------------\u001b[0m",
            "\u001b[0;31mFileNotFoundError\u001b[0m                         Traceback (most recent call last)",
            "\u001b[0;32m<ipython-input-2-b1a07cc2440e>\u001b[0m in \u001b[0;36m<cell line: 1>\u001b[0;34m()\u001b[0m\n\u001b[0;32m----> 1\u001b[0;31m \u001b[0mdf\u001b[0m \u001b[0;34m=\u001b[0m \u001b[0mpd\u001b[0m\u001b[0;34m.\u001b[0m\u001b[0mread_csv\u001b[0m\u001b[0;34m(\u001b[0m\u001b[0;34m'shopping_behavior_updated.csv'\u001b[0m\u001b[0;34m)\u001b[0m\u001b[0;34m\u001b[0m\u001b[0;34m\u001b[0m\u001b[0m\n\u001b[0m\u001b[1;32m      2\u001b[0m \u001b[0mdf\u001b[0m\u001b[0;34m.\u001b[0m\u001b[0mhead\u001b[0m\u001b[0;34m(\u001b[0m\u001b[0;34m)\u001b[0m\u001b[0;34m\u001b[0m\u001b[0;34m\u001b[0m\u001b[0m\n\u001b[1;32m      3\u001b[0m \u001b[0mdf\u001b[0m\u001b[0;34m.\u001b[0m\u001b[0minfo\u001b[0m\u001b[0;34m(\u001b[0m\u001b[0;34m)\u001b[0m\u001b[0;34m\u001b[0m\u001b[0;34m\u001b[0m\u001b[0m\n\u001b[1;32m      4\u001b[0m \u001b[0mdf\u001b[0m\u001b[0;34m.\u001b[0m\u001b[0mcolumns\u001b[0m\u001b[0;34m(\u001b[0m\u001b[0;34m)\u001b[0m\u001b[0;34m\u001b[0m\u001b[0;34m\u001b[0m\u001b[0m\n",
            "\u001b[0;32m/usr/local/lib/python3.10/dist-packages/pandas/io/parsers/readers.py\u001b[0m in \u001b[0;36mread_csv\u001b[0;34m(filepath_or_buffer, sep, delimiter, header, names, index_col, usecols, dtype, engine, converters, true_values, false_values, skipinitialspace, skiprows, skipfooter, nrows, na_values, keep_default_na, na_filter, verbose, skip_blank_lines, parse_dates, infer_datetime_format, keep_date_col, date_parser, date_format, dayfirst, cache_dates, iterator, chunksize, compression, thousands, decimal, lineterminator, quotechar, quoting, doublequote, escapechar, comment, encoding, encoding_errors, dialect, on_bad_lines, delim_whitespace, low_memory, memory_map, float_precision, storage_options, dtype_backend)\u001b[0m\n\u001b[1;32m    946\u001b[0m     \u001b[0mkwds\u001b[0m\u001b[0;34m.\u001b[0m\u001b[0mupdate\u001b[0m\u001b[0;34m(\u001b[0m\u001b[0mkwds_defaults\u001b[0m\u001b[0;34m)\u001b[0m\u001b[0;34m\u001b[0m\u001b[0;34m\u001b[0m\u001b[0m\n\u001b[1;32m    947\u001b[0m \u001b[0;34m\u001b[0m\u001b[0m\n\u001b[0;32m--> 948\u001b[0;31m     \u001b[0;32mreturn\u001b[0m \u001b[0m_read\u001b[0m\u001b[0;34m(\u001b[0m\u001b[0mfilepath_or_buffer\u001b[0m\u001b[0;34m,\u001b[0m \u001b[0mkwds\u001b[0m\u001b[0;34m)\u001b[0m\u001b[0;34m\u001b[0m\u001b[0;34m\u001b[0m\u001b[0m\n\u001b[0m\u001b[1;32m    949\u001b[0m \u001b[0;34m\u001b[0m\u001b[0m\n\u001b[1;32m    950\u001b[0m \u001b[0;34m\u001b[0m\u001b[0m\n",
            "\u001b[0;32m/usr/local/lib/python3.10/dist-packages/pandas/io/parsers/readers.py\u001b[0m in \u001b[0;36m_read\u001b[0;34m(filepath_or_buffer, kwds)\u001b[0m\n\u001b[1;32m    609\u001b[0m \u001b[0;34m\u001b[0m\u001b[0m\n\u001b[1;32m    610\u001b[0m     \u001b[0;31m# Create the parser.\u001b[0m\u001b[0;34m\u001b[0m\u001b[0;34m\u001b[0m\u001b[0m\n\u001b[0;32m--> 611\u001b[0;31m     \u001b[0mparser\u001b[0m \u001b[0;34m=\u001b[0m \u001b[0mTextFileReader\u001b[0m\u001b[0;34m(\u001b[0m\u001b[0mfilepath_or_buffer\u001b[0m\u001b[0;34m,\u001b[0m \u001b[0;34m**\u001b[0m\u001b[0mkwds\u001b[0m\u001b[0;34m)\u001b[0m\u001b[0;34m\u001b[0m\u001b[0;34m\u001b[0m\u001b[0m\n\u001b[0m\u001b[1;32m    612\u001b[0m \u001b[0;34m\u001b[0m\u001b[0m\n\u001b[1;32m    613\u001b[0m     \u001b[0;32mif\u001b[0m \u001b[0mchunksize\u001b[0m \u001b[0;32mor\u001b[0m \u001b[0miterator\u001b[0m\u001b[0;34m:\u001b[0m\u001b[0;34m\u001b[0m\u001b[0;34m\u001b[0m\u001b[0m\n",
            "\u001b[0;32m/usr/local/lib/python3.10/dist-packages/pandas/io/parsers/readers.py\u001b[0m in \u001b[0;36m__init__\u001b[0;34m(self, f, engine, **kwds)\u001b[0m\n\u001b[1;32m   1446\u001b[0m \u001b[0;34m\u001b[0m\u001b[0m\n\u001b[1;32m   1447\u001b[0m         \u001b[0mself\u001b[0m\u001b[0;34m.\u001b[0m\u001b[0mhandles\u001b[0m\u001b[0;34m:\u001b[0m \u001b[0mIOHandles\u001b[0m \u001b[0;34m|\u001b[0m \u001b[0;32mNone\u001b[0m \u001b[0;34m=\u001b[0m \u001b[0;32mNone\u001b[0m\u001b[0;34m\u001b[0m\u001b[0;34m\u001b[0m\u001b[0m\n\u001b[0;32m-> 1448\u001b[0;31m         \u001b[0mself\u001b[0m\u001b[0;34m.\u001b[0m\u001b[0m_engine\u001b[0m \u001b[0;34m=\u001b[0m \u001b[0mself\u001b[0m\u001b[0;34m.\u001b[0m\u001b[0m_make_engine\u001b[0m\u001b[0;34m(\u001b[0m\u001b[0mf\u001b[0m\u001b[0;34m,\u001b[0m \u001b[0mself\u001b[0m\u001b[0;34m.\u001b[0m\u001b[0mengine\u001b[0m\u001b[0;34m)\u001b[0m\u001b[0;34m\u001b[0m\u001b[0;34m\u001b[0m\u001b[0m\n\u001b[0m\u001b[1;32m   1449\u001b[0m \u001b[0;34m\u001b[0m\u001b[0m\n\u001b[1;32m   1450\u001b[0m     \u001b[0;32mdef\u001b[0m \u001b[0mclose\u001b[0m\u001b[0;34m(\u001b[0m\u001b[0mself\u001b[0m\u001b[0;34m)\u001b[0m \u001b[0;34m->\u001b[0m \u001b[0;32mNone\u001b[0m\u001b[0;34m:\u001b[0m\u001b[0;34m\u001b[0m\u001b[0;34m\u001b[0m\u001b[0m\n",
            "\u001b[0;32m/usr/local/lib/python3.10/dist-packages/pandas/io/parsers/readers.py\u001b[0m in \u001b[0;36m_make_engine\u001b[0;34m(self, f, engine)\u001b[0m\n\u001b[1;32m   1703\u001b[0m                 \u001b[0;32mif\u001b[0m \u001b[0;34m\"b\"\u001b[0m \u001b[0;32mnot\u001b[0m \u001b[0;32min\u001b[0m \u001b[0mmode\u001b[0m\u001b[0;34m:\u001b[0m\u001b[0;34m\u001b[0m\u001b[0;34m\u001b[0m\u001b[0m\n\u001b[1;32m   1704\u001b[0m                     \u001b[0mmode\u001b[0m \u001b[0;34m+=\u001b[0m \u001b[0;34m\"b\"\u001b[0m\u001b[0;34m\u001b[0m\u001b[0;34m\u001b[0m\u001b[0m\n\u001b[0;32m-> 1705\u001b[0;31m             self.handles = get_handle(\n\u001b[0m\u001b[1;32m   1706\u001b[0m                 \u001b[0mf\u001b[0m\u001b[0;34m,\u001b[0m\u001b[0;34m\u001b[0m\u001b[0;34m\u001b[0m\u001b[0m\n\u001b[1;32m   1707\u001b[0m                 \u001b[0mmode\u001b[0m\u001b[0;34m,\u001b[0m\u001b[0;34m\u001b[0m\u001b[0;34m\u001b[0m\u001b[0m\n",
            "\u001b[0;32m/usr/local/lib/python3.10/dist-packages/pandas/io/common.py\u001b[0m in \u001b[0;36mget_handle\u001b[0;34m(path_or_buf, mode, encoding, compression, memory_map, is_text, errors, storage_options)\u001b[0m\n\u001b[1;32m    861\u001b[0m         \u001b[0;32mif\u001b[0m \u001b[0mioargs\u001b[0m\u001b[0;34m.\u001b[0m\u001b[0mencoding\u001b[0m \u001b[0;32mand\u001b[0m \u001b[0;34m\"b\"\u001b[0m \u001b[0;32mnot\u001b[0m \u001b[0;32min\u001b[0m \u001b[0mioargs\u001b[0m\u001b[0;34m.\u001b[0m\u001b[0mmode\u001b[0m\u001b[0;34m:\u001b[0m\u001b[0;34m\u001b[0m\u001b[0;34m\u001b[0m\u001b[0m\n\u001b[1;32m    862\u001b[0m             \u001b[0;31m# Encoding\u001b[0m\u001b[0;34m\u001b[0m\u001b[0;34m\u001b[0m\u001b[0m\n\u001b[0;32m--> 863\u001b[0;31m             handle = open(\n\u001b[0m\u001b[1;32m    864\u001b[0m                 \u001b[0mhandle\u001b[0m\u001b[0;34m,\u001b[0m\u001b[0;34m\u001b[0m\u001b[0;34m\u001b[0m\u001b[0m\n\u001b[1;32m    865\u001b[0m                 \u001b[0mioargs\u001b[0m\u001b[0;34m.\u001b[0m\u001b[0mmode\u001b[0m\u001b[0;34m,\u001b[0m\u001b[0;34m\u001b[0m\u001b[0;34m\u001b[0m\u001b[0m\n",
            "\u001b[0;31mFileNotFoundError\u001b[0m: [Errno 2] No such file or directory: 'shopping_behavior_updated.csv'"
          ]
        }
      ]
    },
    {
      "cell_type": "code",
      "source": [
        "# #Prompt 1\n",
        "# # Calculate RFM metrics\n",
        "# df['Recency'] = (pd.to_datetime('today') - pd.to_datetime(df['LastPurchaseDate'])).dt.days\n",
        "# df['Frequency'] = df.groupby('CustomerID')['InvoiceID'].transform('count')\n",
        "# df['Monetary'] = df.groupby('CustomerID')['PurchaseAmount'].transform('sum')\n",
        "\n",
        "# # Drop duplicate customer records\n",
        "# rfm_df = df[['CustomerID', 'Recency', 'Frequency', 'Monetary']].drop_duplicates()\n",
        "\n",
        "# # Standardize features\n",
        "# scaler = StandardScaler()\n",
        "# rfm_scaled = scaler.fit_transform(rfm_df[['Recency', 'Frequency', 'Monetary']])\n",
        "\n",
        "# # K-Means Clustering\n",
        "# kmeans = KMeans(n_clusters=4, random_state=0).fit(rfm_scaled)\n",
        "# rfm_df['Cluster'] = kmeans.labels_\n",
        "\n",
        "# # Analyze segments\n",
        "# for i in range(4):\n",
        "#     print(f\"Segment {i}:\\n\", rfm_df[rfm_df['Cluster'] == i].describe())"
      ],
      "metadata": {
        "id": "VFKnXETJEbQY"
      },
      "execution_count": null,
      "outputs": []
    },
    {
      "cell_type": "code",
      "source": [
        "# #Prompt 2\n",
        "# # Convert 'InvoiceDate' to datetime format\n",
        "# df['InvoiceDate'] = pd.to_datetime(df['InvoiceDate'])\n",
        "\n",
        "# # Extract month and season from 'InvoiceDate'\n",
        "# df['Month'] = df['InvoiceDate'].dt.month\n",
        "# df['Season'] = df['InvoiceDate'].dt.month % 12 // 3 + 1  # 1: Winter, 2: Spring, 3: Summer, 4: Fall\n",
        "\n",
        "# # Group by season and category to get total sales\n",
        "# seasonal_trends = df.groupby(['Season', 'Category'])['PurchaseAmount (USD)'].sum().unstack()\n",
        "\n",
        "# # Plot seasonal trends\n",
        "# seasonal_trends.plot(kind='bar', figsize=(12, 6))\n",
        "# plt.title('Seasonal Trends in Purchase Categories')\n",
        "# plt.xlabel('Season')\n",
        "# plt.ylabel('Total Sales (USD)')\n",
        "# plt.legend(title='Category')\n",
        "# plt.show()"
      ],
      "metadata": {
        "id": "v6nsN-syFIwD"
      },
      "execution_count": null,
      "outputs": []
    },
    {
      "cell_type": "code",
      "source": [
        "# #Prompt 3\n",
        "# # Convert 'InvoiceDate' to datetime format\n",
        "# df['InvoiceDate'] = pd.to_datetime(df['InvoiceDate'])\n",
        "\n",
        "# # Calculate Recency, Frequency, and Monetary values\n",
        "# snapshot_date = df['InvoiceDate'].max() + pd.DateOffset(days=1)\n",
        "# rfm_df = df.groupby('CustomerID').agg({\n",
        "#     'InvoiceDate': lambda x: (snapshot_date - x.max()).days,\n",
        "#     'InvoiceID': 'count',\n",
        "#     'PurchaseAmount (USD)': 'sum'\n",
        "# }).rename(columns={'InvoiceDate': 'Recency', 'InvoiceID': 'Frequency', 'PurchaseAmount (USD)': 'Monetary'})\n",
        "\n",
        "# # Create RFM scores\n",
        "# rfm_df['RecencyScore'] = pd.qcut(rfm_df['Recency'], 4, labels=False)\n",
        "# rfm_df['FrequencyScore'] = pd.qcut(rfm_df['Frequency'], 4, labels=False)\n",
        "# rfm_df['MonetaryScore'] = pd.qcut(rfm_df['Monetary'], 4, labels=False)\n",
        "\n",
        "# # Combine scores into a single RFM score\n",
        "# rfm_df['RFMScore'] = rfm_df['RecencyScore'].astype(str) + rfm_df['FrequencyScore'].astype(str) + rfm_df['MonetaryScore'].astype(str)\n",
        "\n",
        "# # Display segments\n",
        "# print(rfm_df.head())"
      ],
      "metadata": {
        "id": "7fGPu9IMF5WH"
      },
      "execution_count": null,
      "outputs": []
    }
  ]
}