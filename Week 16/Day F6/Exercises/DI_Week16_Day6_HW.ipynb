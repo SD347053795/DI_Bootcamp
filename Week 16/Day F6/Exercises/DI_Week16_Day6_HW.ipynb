{
  "nbformat": 4,
  "nbformat_minor": 0,
  "metadata": {
    "colab": {
      "provenance": []
    },
    "kernelspec": {
      "name": "python3",
      "display_name": "Python 3"
    },
    "language_info": {
      "name": "python"
    }
  },
  "cells": [
    {
      "cell_type": "markdown",
      "source": [
        "**Exercise 1:** Specific Customer Segmentation Based on RFM Analysis Background"
      ],
      "metadata": {
        "id": "o7f5uZW1vW6s"
      }
    },
    {
      "cell_type": "code",
      "source": [
        "#{\"username\":\"shmueldrucker\",\"key\":\"44c82064eb7e2f3f3efad509a45e9d39\"}"
      ],
      "metadata": {
        "colab": {
          "base_uri": "https://localhost:8080/"
        },
        "id": "-UUVhTGx03yG",
        "outputId": "2fc08038-a7a4-4dfc-a11e-dcc8c4d94e9a"
      },
      "execution_count": null,
      "outputs": [
        {
          "output_type": "execute_result",
          "data": {
            "text/plain": [
              "{'username': 'shmueldrucker', 'key': '44c82064eb7e2f3f3efad509a45e9d39'}"
            ]
          },
          "metadata": {},
          "execution_count": 1
        }
      ]
    },
    {
      "cell_type": "code",
      "execution_count": null,
      "metadata": {
        "colab": {
          "base_uri": "https://localhost:8080/"
        },
        "id": "HfBfzEn3FCV9",
        "outputId": "58caa344-fbcb-46ab-b6f3-1977552be793"
      },
      "outputs": [
        {
          "output_type": "stream",
          "name": "stdout",
          "text": [
            "Requirement already satisfied: kaggle in /usr/local/lib/python3.10/dist-packages (1.6.17)\n",
            "Requirement already satisfied: six>=1.10 in /usr/local/lib/python3.10/dist-packages (from kaggle) (1.16.0)\n",
            "Requirement already satisfied: certifi>=2023.7.22 in /usr/local/lib/python3.10/dist-packages (from kaggle) (2024.7.4)\n",
            "Requirement already satisfied: python-dateutil in /usr/local/lib/python3.10/dist-packages (from kaggle) (2.8.2)\n",
            "Requirement already satisfied: requests in /usr/local/lib/python3.10/dist-packages (from kaggle) (2.32.3)\n",
            "Requirement already satisfied: tqdm in /usr/local/lib/python3.10/dist-packages (from kaggle) (4.66.5)\n",
            "Requirement already satisfied: python-slugify in /usr/local/lib/python3.10/dist-packages (from kaggle) (8.0.4)\n",
            "Requirement already satisfied: urllib3 in /usr/local/lib/python3.10/dist-packages (from kaggle) (2.0.7)\n",
            "Requirement already satisfied: bleach in /usr/local/lib/python3.10/dist-packages (from kaggle) (6.1.0)\n",
            "Requirement already satisfied: webencodings in /usr/local/lib/python3.10/dist-packages (from bleach->kaggle) (0.5.1)\n",
            "Requirement already satisfied: text-unidecode>=1.3 in /usr/local/lib/python3.10/dist-packages (from python-slugify->kaggle) (1.3)\n",
            "Requirement already satisfied: charset-normalizer<4,>=2 in /usr/local/lib/python3.10/dist-packages (from requests->kaggle) (3.3.2)\n",
            "Requirement already satisfied: idna<4,>=2.5 in /usr/local/lib/python3.10/dist-packages (from requests->kaggle) (3.8)\n",
            "Requirement already satisfied: python-dotenv in /usr/local/lib/python3.10/dist-packages (1.0.1)\n",
            "Requirement already satisfied: openai==0.28 in /usr/local/lib/python3.10/dist-packages (0.28.0)\n",
            "Requirement already satisfied: requests>=2.20 in /usr/local/lib/python3.10/dist-packages (from openai==0.28) (2.32.3)\n",
            "Requirement already satisfied: tqdm in /usr/local/lib/python3.10/dist-packages (from openai==0.28) (4.66.5)\n",
            "Requirement already satisfied: aiohttp in /usr/local/lib/python3.10/dist-packages (from openai==0.28) (3.10.5)\n",
            "Requirement already satisfied: charset-normalizer<4,>=2 in /usr/local/lib/python3.10/dist-packages (from requests>=2.20->openai==0.28) (3.3.2)\n",
            "Requirement already satisfied: idna<4,>=2.5 in /usr/local/lib/python3.10/dist-packages (from requests>=2.20->openai==0.28) (3.8)\n",
            "Requirement already satisfied: urllib3<3,>=1.21.1 in /usr/local/lib/python3.10/dist-packages (from requests>=2.20->openai==0.28) (2.0.7)\n",
            "Requirement already satisfied: certifi>=2017.4.17 in /usr/local/lib/python3.10/dist-packages (from requests>=2.20->openai==0.28) (2024.7.4)\n",
            "Requirement already satisfied: aiohappyeyeballs>=2.3.0 in /usr/local/lib/python3.10/dist-packages (from aiohttp->openai==0.28) (2.4.0)\n",
            "Requirement already satisfied: aiosignal>=1.1.2 in /usr/local/lib/python3.10/dist-packages (from aiohttp->openai==0.28) (1.3.1)\n",
            "Requirement already satisfied: attrs>=17.3.0 in /usr/local/lib/python3.10/dist-packages (from aiohttp->openai==0.28) (24.2.0)\n",
            "Requirement already satisfied: frozenlist>=1.1.1 in /usr/local/lib/python3.10/dist-packages (from aiohttp->openai==0.28) (1.4.1)\n",
            "Requirement already satisfied: multidict<7.0,>=4.5 in /usr/local/lib/python3.10/dist-packages (from aiohttp->openai==0.28) (6.0.5)\n",
            "Requirement already satisfied: yarl<2.0,>=1.0 in /usr/local/lib/python3.10/dist-packages (from aiohttp->openai==0.28) (1.9.4)\n",
            "Requirement already satisfied: async-timeout<5.0,>=4.0 in /usr/local/lib/python3.10/dist-packages (from aiohttp->openai==0.28) (4.0.3)\n"
          ]
        }
      ],
      "source": [
        "# !pip install kaggle\n",
        "# #pip install openai\n",
        "# #!pip install --upgrade openai\n",
        "# !pip install python-dotenv\n",
        "# !pip install openai==0.28"
      ]
    },
    {
      "cell_type": "code",
      "source": [
        "import os\n",
        "import json\n",
        "import kaggle\n",
        "import zipfile\n",
        "import pandas as pd\n",
        "import numpy as np\n",
        "import openai\n",
        "import dotenv\n",
        "import matplotlib.pyplot as plt\n",
        "import seaborn as sns"
      ],
      "metadata": {
        "id": "a5lxJvZWnvX0"
      },
      "execution_count": null,
      "outputs": []
    },
    {
      "cell_type": "code",
      "source": [
        "# kaggle_credentials = {\n",
        "#     \"username\": \"shmueldrucker\",\n",
        "#     \"key\": \"44c82064eb7e2f3f3efad509a45e9d39\"\n",
        "# }\n",
        "\n",
        "# os.makedirs(os.path.expanduser('~/.kaggle/'), exist_ok=True)\n",
        "# with open(os.path.expanduser('~/.kaggle/kaggle.json'), 'w') as f:\n",
        "#     json.dump(kaggle_credentials, f)\n",
        "# os.chmod(os.path.expanduser('~/.kaggle/kaggle.json'), 0o600)\n",
        "# print(\"Kaggle API credentials have been set up.\")"
      ],
      "metadata": {
        "colab": {
          "base_uri": "https://localhost:8080/"
        },
        "id": "20pdULyPBXLZ",
        "outputId": "e9ff8cec-e147-4168-daf2-34f59eeb68c0"
      },
      "execution_count": null,
      "outputs": [
        {
          "output_type": "stream",
          "name": "stdout",
          "text": [
            "Kaggle API credentials have been set up.\n"
          ]
        }
      ]
    },
    {
      "cell_type": "code",
      "source": [
        "# dataset = 'mashlyn/online-retail-ii-uci'\n",
        "# download_directory = 'online_retail_ii_uci'\n",
        "# os.makedirs(download_directory, exist_ok=True)\n",
        "# kaggle.api.dataset_download_files(dataset, path=download_directory, unzip=False)\n",
        "# zip_file_path = os.path.join(download_directory, dataset.split('/')[-1] + '.zip')\n",
        "\n",
        "# with zipfile.ZipFile(zip_file_path, 'r') as zip_ref:\n",
        "#     zip_ref.extractall(download_directory)\n",
        "\n",
        "# print(f\"Dataset unzipped to {download_directory}\")\n",
        "\n",
        "# print(\"Files in directory:\")\n",
        "# for filename in os.listdir(download_directory):\n",
        "#     print(filename)"
      ],
      "metadata": {
        "colab": {
          "base_uri": "https://localhost:8080/"
        },
        "id": "v70ffvzGBY-G",
        "outputId": "de392264-18ed-41aa-e69b-ae47cdf4f0ca"
      },
      "execution_count": null,
      "outputs": [
        {
          "output_type": "stream",
          "name": "stdout",
          "text": [
            "Dataset URL: https://www.kaggle.com/datasets/mashlyn/online-retail-ii-uci\n",
            "Dataset unzipped to online_retail_ii_uci\n",
            "Files in directory:\n",
            "online_retail_II.csv\n",
            "online-retail-ii-uci.zip\n"
          ]
        }
      ]
    },
    {
      "cell_type": "code",
      "source": [
        "# csv_file = os.path.join(download_directory, 'online_retail_II.csv')\n",
        "# df = pd.read_csv(csv_file)\n",
        "# print(df.columns)\n",
        "# print(df.head())"
      ],
      "metadata": {
        "colab": {
          "base_uri": "https://localhost:8080/"
        },
        "id": "XTnJObHBkE9e",
        "outputId": "3da2c0d6-5e6d-47d0-ee73-a0994285ecbe"
      },
      "execution_count": null,
      "outputs": [
        {
          "output_type": "stream",
          "name": "stdout",
          "text": [
            "Index(['Invoice', 'StockCode', 'Description', 'Quantity', 'InvoiceDate',\n",
            "       'Price', 'Customer ID', 'Country'],\n",
            "      dtype='object')\n",
            "  Invoice StockCode                          Description  Quantity  \\\n",
            "0  489434     85048  15CM CHRISTMAS GLASS BALL 20 LIGHTS        12   \n",
            "1  489434    79323P                   PINK CHERRY LIGHTS        12   \n",
            "2  489434    79323W                  WHITE CHERRY LIGHTS        12   \n",
            "3  489434     22041         RECORD FRAME 7\" SINGLE SIZE         48   \n",
            "4  489434     21232       STRAWBERRY CERAMIC TRINKET BOX        24   \n",
            "\n",
            "           InvoiceDate  Price  Customer ID         Country  \n",
            "0  2009-12-01 07:45:00   6.95      13085.0  United Kingdom  \n",
            "1  2009-12-01 07:45:00   6.75      13085.0  United Kingdom  \n",
            "2  2009-12-01 07:45:00   6.75      13085.0  United Kingdom  \n",
            "3  2009-12-01 07:45:00   2.10      13085.0  United Kingdom  \n",
            "4  2009-12-01 07:45:00   1.25      13085.0  United Kingdom  \n"
          ]
        }
      ]
    },
    {
      "cell_type": "code",
      "source": [
        "# df['InvoiceDate'] = pd.to_datetime(df['InvoiceDate'])\n",
        "# print(df.head())"
      ],
      "metadata": {
        "colab": {
          "base_uri": "https://localhost:8080/"
        },
        "id": "phQESNcWpOFw",
        "outputId": "d7c2d90e-08fb-4810-e9b7-f330fedea4ba"
      },
      "execution_count": null,
      "outputs": [
        {
          "output_type": "stream",
          "name": "stdout",
          "text": [
            "  Invoice StockCode                          Description  Quantity  \\\n",
            "0  489434     85048  15CM CHRISTMAS GLASS BALL 20 LIGHTS        12   \n",
            "1  489434    79323P                   PINK CHERRY LIGHTS        12   \n",
            "2  489434    79323W                  WHITE CHERRY LIGHTS        12   \n",
            "3  489434     22041         RECORD FRAME 7\" SINGLE SIZE         48   \n",
            "4  489434     21232       STRAWBERRY CERAMIC TRINKET BOX        24   \n",
            "\n",
            "          InvoiceDate  Price  Customer ID         Country  \n",
            "0 2009-12-01 07:45:00   6.95      13085.0  United Kingdom  \n",
            "1 2009-12-01 07:45:00   6.75      13085.0  United Kingdom  \n",
            "2 2009-12-01 07:45:00   6.75      13085.0  United Kingdom  \n",
            "3 2009-12-01 07:45:00   2.10      13085.0  United Kingdom  \n",
            "4 2009-12-01 07:45:00   1.25      13085.0  United Kingdom  \n"
          ]
        }
      ]
    },
    {
      "cell_type": "code",
      "source": [
        "# import os\n",
        "# #Developers_Institute_Bootcamp_Test_Key"
      ],
      "metadata": {
        "id": "uvK2WPcNknSc"
      },
      "execution_count": null,
      "outputs": []
    },
    {
      "cell_type": "code",
      "source": [
        "# import openai\n",
        "\n",
        "# # Replace 'your-api-key' with your actual OpenAI API key\n",
        "\n",
        "# response = openai.ChatCompletion.create(\n",
        "#     model=\"gpt-3.5-turbo\",\n",
        "#     messages=[\n",
        "#         {\"role\": \"system\", \"content\": \"You are a helpful assistant with expertise in data analysis.\"},\n",
        "#         {\"role\": \"user\", \"content\": \"Using my dataset with columns ['Invoice', 'StockCode', 'Description', 'Quantity', 'InvoiceDate', 'Price', 'Customer ID', 'Country'], how can I calculate the Recency, Frequency, and Monetary values for RFM analysis? Can you provide Python code for each step?\"}\n",
        "#     ]\n",
        "# )\n",
        "\n",
        "# print(response['choices'][0]['message']['content'])\n"
      ],
      "metadata": {
        "id": "PBWJ5qX7ofeQ"
      },
      "execution_count": null,
      "outputs": []
    },
    {
      "cell_type": "markdown",
      "source": [
        "1. How should I calculate the Frequency value for each customer, based on the number of transactions they have made? My dataset includes the columns ‘Customer ID’ and ‘Invoice’.\n",
        "2.Can you provide Python code to calculate the Frequency value for each customer by counting the number of transactions they have made using the ‘Customer ID’ and ‘Invoice’ columns?\n",
        "3. How can I calculate the Monetary value for each customer, based on the total amount they have spent? My dataset includes the columns ‘Quantity’, ‘Price’, and ‘Customer ID’.\n",
        "4. Can you provide Python code to calculate the Monetary value for each customer by summing the total amount spent, using the ‘Quantity’ and ‘Price’ columns?\n",
        "5. Once I have calculated the Recency, Frequency, and Monetary values for each customer, how can I combine these into an overall RFM score? What is a common method for scoring and ranking customers?\n",
        "6. Can you provide Python code to assign RFM scores to each customer based on their Recency, Frequency, and Monetary values? I’d like to segment customers into categories like ‘High-Value’, ‘Loyal’, and ‘New’.\n",
        "7. How can I segment customers into different categories (e.g., High-Value, Loyal, At-Risk) based on their RFM scores? What are the typical thresholds or methods used in RFM segmentation?\n",
        "8. Can you provide Python code to segment customers into groups such as ‘High-Value’, ‘Loyal’, or ‘New’ based on their RFM scores?\n",
        "9. What are some best practices when performing RFM analysis to ensure accurate customer segmentation and insights?\n",
        "10. Once I have the RFM scores and customer segments, how can I analyze the results to make data-driven marketing decisions?\n"
      ],
      "metadata": {
        "id": "ZTzD4A8cteSQ"
      }
    },
    {
      "cell_type": "code",
      "source": [
        "# df['InvoiceDate'] = pd.to_datetime(df['InvoiceDate'])\n",
        "# most_recent_date = df['InvoiceDate'].max()\n",
        "# recency_df = df.groupby('Customer ID').agg({'InvoiceDate': lambda x: (most_recent_date - x.max()).days})\n",
        "# recency_df.columns = ['Recency']\n",
        "# frequency_df = df.groupby('Customer ID').agg({'Invoice': 'nunique'})\n",
        "# frequency_df.columns = ['Frequency']\n",
        "# df['TotalPrice'] = df['Quantity'] * df['Price']\n",
        "# monetary_df = df.groupby('Customer ID').agg({'TotalPrice': 'sum'})\n",
        "# monetary_df.columns = ['Monetary']\n",
        "# df_rfm = recency_df.join(frequency_df).join(monetary_df)\n",
        "\n",
        "# print(df_rfm.head())"
      ],
      "metadata": {
        "id": "Pg2Naynyu8FV"
      },
      "execution_count": null,
      "outputs": []
    },
    {
      "cell_type": "code",
      "source": [
        "# rfm_df['R_Quartile'] = pd.qcut(rfm_df['Recency'], 4, labels=False)\n",
        "# rfm_df['F_Quartile'] = pd.qcut(rfm_df['Frequency'], 4, labels=False)\n",
        "# rfm_df['M_Quartile'] = pd.qcut(rfm_df['TotalSpend'], 4, labels=False)\n",
        "# rfm_df['RFM_Score'] = rfm_df['R_Quartile'].astype(str) + rfm_df['F_Quartile'].astype(str) + rfm_df['M_Quartile'].astype(str)\n",
        "# conditions = [\n",
        "#     (rfm_df['RFM_Score'] == '000'),\n",
        "#     (rfm_df['RFM_Score'] == '111'),\n",
        "#     (rfm_df['RFM_Score'].str.startswith('0'))\n",
        "# ]\n",
        "# choices = ['New', 'High-Value', 'Loyal']\n",
        "# rfm_df['Segment'] = np.select(conditions, choices, default='Other')\n",
        "\n",
        "# print(rfm_df.head())"
      ],
      "metadata": {
        "colab": {
          "base_uri": "https://localhost:8080/"
        },
        "id": "yW5ELL31ppQP",
        "outputId": "ed5683bf-f6ec-4d60-e768-b06d1d95e931"
      },
      "execution_count": null,
      "outputs": [
        {
          "output_type": "stream",
          "name": "stdout",
          "text": [
            "   Customer ID  TotalSpend  Frequency  Recency  R_Quartile  F_Quartile  \\\n",
            "0      12346.0      -64.68         48      325           2           1   \n",
            "1      12347.0     5633.32        253        1           0           3   \n",
            "2      12348.0     2019.40         51       74           1           1   \n",
            "3      12349.0     4404.54        180       18           0           3   \n",
            "4      12350.0      334.40         17      309           2           0   \n",
            "\n",
            "   M_Quartile RFM_Score Segment  \n",
            "0           0       210   Other  \n",
            "1           3       033   Loyal  \n",
            "2           2       112   Other  \n",
            "3           3       033   Loyal  \n",
            "4           1       201   Other  \n"
          ]
        }
      ]
    },
    {
      "cell_type": "code",
      "source": [
        "# df['TotalSpend'] = df['Quantity'] * df['Price']\n",
        "# monetary_df = df.groupby('Customer ID')['TotalSpend'].sum().reset_index()\n",
        "# frequency_df = df.groupby('Customer ID').size().reset_index(name='Frequency')\n",
        "# last_purchase_df = df.groupby('Customer ID')['InvoiceDate'].max().reset_index()\n",
        "# last_purchase_df['Recency'] = (df['InvoiceDate'].max() - last_purchase_df['InvoiceDate']).dt.days\n",
        "# rfm_df = pd.merge(monetary_df, frequency_df, on='Customer ID')\n",
        "# rfm_df = pd.merge(rfm_df, last_purchase_df[['Customer ID', 'Recency']], on='Customer ID')\n",
        "\n",
        "# print(rfm_df.head())"
      ],
      "metadata": {
        "colab": {
          "base_uri": "https://localhost:8080/"
        },
        "id": "9FunsFHtpgiZ",
        "outputId": "37807be2-f574-40c3-e9c5-9da9fbc1868a"
      },
      "execution_count": null,
      "outputs": [
        {
          "output_type": "stream",
          "name": "stdout",
          "text": [
            "   Customer ID  TotalSpend  Frequency  Recency\n",
            "0      12346.0      -64.68         48      325\n",
            "1      12347.0     5633.32        253        1\n",
            "2      12348.0     2019.40         51       74\n",
            "3      12349.0     4404.54        180       18\n",
            "4      12350.0      334.40         17      309\n"
          ]
        }
      ]
    },
    {
      "cell_type": "code",
      "source": [
        "# df_rfm['R_rank'] = pd.qcut(df_rfm['Recency'], 5, labels=False) + 1  # 1 is the best, 5 is the worst\n",
        "# df_rfm['F_rank'] = pd.qcut(df_rfm['Frequency'], 5, labels=False, duplicates='drop') + 1  # 5 is the best, 1 is the worst\n",
        "# df_rfm['M_rank'] = pd.qcut(df_rfm['Monetary'], 5, labels=False, duplicates='drop') + 1  # 5 is the best, 1 is the worst\n",
        "# df_rfm['RFM_Score'] = df_rfm['R_rank'].astype(str) + df_rfm['F_rank'].astype(str) + df_rfm['M_rank'].astype(str)\n",
        "\n",
        "# def segment_customer(row):\n",
        "#     if row['RFM_Score'] in ['555', '554', '545', '554']:\n",
        "#         return 'High-Value'\n",
        "#     elif row['RFM_Score'] in ['544', '543', '454', '453']:\n",
        "#         return 'Loyal'\n",
        "#     elif row['RFM_Score'] in ['111', '112', '121', '122']:\n",
        "#         return 'New'\n",
        "#     elif row['RFM_Score'] in ['211', '311', '411', '221']:\n",
        "#         return 'At-Risk'\n",
        "#     else:\n",
        "#         return 'Others'\n",
        "# df_rfm['Segment'] = df_rfm.apply(segment_customer, axis=1)\n",
        "\n",
        "# print(df_rfm[['Customer ID', 'RFM_Score', 'Segment']].head())\n",
        "# segment_counts = df_rfm['Segment'].value_counts()\n",
        "# print(segment_counts)"
      ],
      "metadata": {
        "id": "R1l7-uLFujcv"
      },
      "execution_count": null,
      "outputs": []
    },
    {
      "cell_type": "markdown",
      "source": [
        "**Exercise 2:** Anonymizing Personal Data in Retail Transactions with Gemini"
      ],
      "metadata": {
        "id": "L_VCzsKHvdhE"
      }
    },
    {
      "cell_type": "code",
      "source": [
        "# import openai\n",
        "\n",
        "\n",
        "# response = openai.ChatCompletion.create(\n",
        "#     model=\"gpt-3.5-turbo\",\n",
        "#     messages=[\n",
        "#         {\"role\": \"system\", \"content\": \"You are a helpful assistant.\"},\n",
        "#         {\"role\": \"user\", \"content\": \"Generate anonymized data for the 'Customer ID' and 'Country' columns in my dataset.\"}\n",
        "#     ]\n",
        "# )\n",
        "\n",
        "# anonymized_data = response['choices'][0]['message']['content']\n",
        "# print(anonymized_data)"
      ],
      "metadata": {
        "id": "Adzqle9pvjSv"
      },
      "execution_count": null,
      "outputs": []
    },
    {
      "cell_type": "code",
      "source": [
        "# import hashlib\n",
        "\n",
        "# # Function to hash Customer IDs\n",
        "# def anonymize_customer_id(customer_id):\n",
        "#     return hashlib.sha256(str(customer_id).encode()).hexdigest()\n",
        "\n",
        "# # Apply hashing to the Customer ID column\n",
        "# df['Anonymized Customer ID'] = df['Customer ID'].apply(anonymize_customer_id)\n",
        "\n",
        "# # Optionally, drop the original Customer ID column\n",
        "# df.drop(columns=['Customer ID'], inplace=True)\n",
        "\n",
        "# # Anonymize 'Country' by replacing it with generic codes or hashes\n",
        "# df['Anonymized Country'] = df['Country'].apply(lambda x: hashlib.sha256(x.encode()).hexdigest())\n",
        "\n",
        "# # Optionally, drop the original Country column\n",
        "# df.drop(columns=['Country'], inplace=True)\n",
        "\n",
        "# # View the anonymized DataFrame\n",
        "# print(df.head())"
      ],
      "metadata": {
        "id": "T3aNteFpx0Nq"
      },
      "execution_count": null,
      "outputs": []
    },
    {
      "cell_type": "code",
      "source": [
        "# import pandas as pd\n",
        "# import hashlib\n",
        "\n",
        "# df['InvoiceDate'] = pd.to_datetime(df['InvoiceDate'])\n",
        "# def anonymize_customer_id(customer_id):\n",
        "#     return hashlib.sha256(str(customer_id).encode()).hexdigest()\n",
        "# df['Anonymized Customer ID'] = df['Customer ID'].apply(anonymize_customer_id)\n",
        "# df.drop(columns=['Customer ID'], inplace=True)\n",
        "# df['Anonymized Country'] = df['Country'].apply(lambda x: hashlib.sha256(x.encode()).hexdigest())\n",
        "# df.drop(columns=['Country'], inplace=True)\n",
        "\n",
        "\n",
        "# print(df.head())\n",
        "# grouped = df.groupby('Anonymized Customer ID').agg({'Invoice': 'count', 'TotalPrice': 'sum'})\n",
        "# print(grouped.head())"
      ],
      "metadata": {
        "id": "MLJmpFGYx3S_"
      },
      "execution_count": null,
      "outputs": []
    },
    {
      "cell_type": "markdown",
      "source": [
        "**Exercise 3:** Gemini-Assisted Querying for Time Series Sales Analysis"
      ],
      "metadata": {
        "id": "uW67XgYfyiw8"
      }
    },
    {
      "cell_type": "code",
      "source": [
        "# df['InvoiceDate'] = pd.to_datetime(df['InvoiceDate'])\n",
        "# df['TotalPrice'] = df['Quantity'] * df['Price']\n",
        "# df.set_index('InvoiceDate', inplace=True)\n",
        "# monthly_sales = df.resample('M').agg({'TotalPrice': 'sum', 'Quantity': 'sum'}).reset_index()\n",
        "# monthly_sales.columns = ['Month', 'TotalRevenue', 'TotalQuantity']\n",
        "# print(monthly_sales.head())"
      ],
      "metadata": {
        "id": "PxylJR-nyoJJ"
      },
      "execution_count": null,
      "outputs": []
    },
    {
      "cell_type": "markdown",
      "source": [
        "Query 1: \"Can you analyze the monthly sales trends in my dataset and identify any noticeable patterns or trends?\"\n",
        "\n",
        "Query 2: \"What are the typical seasonal variations in sales based on the monthly data provided? Are there any months with unusually high or low sales?\"\n",
        "\n",
        "Query 3: \"Based on the monthly sales data, can you provide insights into factors that might influence sales fluctuations throughout the year?\""
      ],
      "metadata": {
        "id": "NtcyzAzI4EEV"
      }
    },
    {
      "cell_type": "code",
      "source": [
        "# monthly_sales['SMA_3'] = monthly_sales['TotalRevenue'].rolling(window=3).mean()\n",
        "# monthly_sales['SMA_6'] = monthly_sales['TotalRevenue'].rolling(window=6).mean()\n",
        "# monthly_sales['SMA_12'] = monthly_sales['TotalRevenue'].rolling(window=12).mean()\n",
        "# last_month = monthly_sales.iloc[-1]['TotalRevenue']\n",
        "# forecast_sma = np.mean(monthly_sales['SMA_3'].dropna().tail(3))\n",
        "# print(f\"Forecast for the next quarter (SMA): {forecast_sma:.2f}\")\n",
        "# print(monthly_sales.tail())"
      ],
      "metadata": {
        "id": "FTeab-YR4Gw0"
      },
      "execution_count": null,
      "outputs": []
    },
    {
      "cell_type": "code",
      "source": [
        "# plt.figure(figsize=(12, 6))\n",
        "# plt.plot(monthly_sales['Month'], monthly_sales['TotalRevenue'], label='Total Revenue', marker='o')\n",
        "# plt.plot(monthly_sales['Month'], monthly_sales['SMA_3'], label='3-Month SMA', linestyle='--')\n",
        "\n",
        "# plt.title('Monthly Sales and Moving Average')\n",
        "# plt.xlabel('Month')\n",
        "# plt.ylabel('Total Revenue')\n",
        "# plt.legend()\n",
        "# plt.grid(True)\n",
        "# plt.xticks(rotation=45)\n",
        "# plt.tight_layout()\n",
        "\n",
        "# plt.show()"
      ],
      "metadata": {
        "id": "tCAPrxPy4P7_"
      },
      "execution_count": null,
      "outputs": []
    }
  ]
}