{
  "nbformat": 4,
  "nbformat_minor": 0,
  "metadata": {
    "colab": {
      "provenance": []
    },
    "kernelspec": {
      "name": "python3",
      "display_name": "Python 3"
    },
    "language_info": {
      "name": "python"
    }
  },
  "cells": [
    {
      "cell_type": "code",
      "execution_count": null,
      "metadata": {
        "id": "F0sdfTCAm-Ra"
      },
      "outputs": [],
      "source": [
        "import pandas as pd\n",
        "\n",
        "iris_df = pd.read_csv(\"C:/Users/Shmuel/Desktop/DI_Bootcamp/Week 7/Day F6/Daily Challenges/IRIS.csv\")\n",
        "\n",
        "missing_values = iris_df.isnull().sum()\n",
        "if missing_values.sum() == 0:\n",
        "    print(\"No missing values found.\")\n",
        "else:\n",
        "    print(\"Missing values found. Handling them...\")\n",
        "\n",
        "iris_df.columns = ['sepal_length', 'sepal_width', 'petal_length', 'petal_width', 'species']\n",
        "\n",
        "iris_df.to_excel(\"cleaned_iris.xlsx\", index=False)\n",
        "\n",
        "cleaned_iris_df = pd.read_excel(\"cleaned_iris.xlsx\")\n",
        "print(\"Imported DataFrame from Excel:\")\n",
        "print(cleaned_iris_df.head())\n",
        "\n",
        "subset_df = cleaned_iris_df.head(10)\n",
        "subset_df.to_json(\"iris_subset.json\", orient=\"records\")\n",
        "print(\"Subset saved to iris_subset.json\")\n"
      ]
    }
  ]
}