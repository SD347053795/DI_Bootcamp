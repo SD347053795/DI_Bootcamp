{
  "nbformat": 4,
  "nbformat_minor": 0,
  "metadata": {
    "colab": {
      "provenance": []
    },
    "kernelspec": {
      "name": "python3",
      "display_name": "Python 3"
    },
    "language_info": {
      "name": "python"
    }
  },
  "cells": [
    {
      "cell_type": "markdown",
      "source": [
        "In the era of digital transformation, data analysis has become an indispensable tool across virtually all fields. Defined as the process of systematically applying statistical and logical techniques to describe, summarize, and evaluate data, data analysis involves cleaning, transforming, and modeling data to uncover useful information, draw conclusions, and support decision-making. The ability to identify patterns, relationships, and trends within data sets empowers individuals and organizations to make informed decisions and predictions, thereby enhancing their effectiveness and efficiency.\n",
        "\n",
        "Data analysis holds paramount importance in modern contexts due to its capacity to drive evidence-based decision-making. In a business environment, for example, companies leverage data analysis to optimize operations, enhance customer satisfaction, and gain a competitive edge. By understanding customer behavior and preferences through data analysis, businesses can develop personalized marketing strategies that increase engagement and sales. In healthcare, data analysis plays a critical role by aiding in patient care and treatment, predicting disease outbreaks, and formulating effective public health strategies. The ability to analyze data allows healthcare professionals to identify trends, allocate resources efficiently, and ultimately improve patient outcomes.\n",
        "\n",
        "Moreover, data analysis is crucial for fostering innovation and technological advancement. As industries increasingly adopt big data and artificial intelligence, the capacity to analyze vast amounts of data becomes essential. This drives the development of new products, services, and solutions that address complex challenges. For instance, in the finance sector, data analysis aids in detecting fraudulent activities and managing risks, thus ensuring the stability and integrity of financial systems. By analyzing market trends and transaction data, financial institutions can make informed decisions that minimize risks and maximize returns. Overall, data analysis acts as a catalyst for growth and efficiency, propelling various sectors forward.\n",
        "\n",
        "Healthcare is one of the prominent areas where data analysis is applied extensively. It is used to enhance patient outcomes by predicting disease outbreaks, personalizing treatment plans, and optimizing hospital operations. Predictive analytics, a subset of data analysis, enables healthcare providers to forecast patient admissions, leading to better resource allocation and preparedness. In addition, data analysis helps in the identification of patterns in patient data that can inform treatment protocols and improve overall healthcare quality.\n",
        "\n",
        "The retail industry also significantly benefits from data analysis. Retailers use data analysis to understand consumer behavior, manage inventory, and enhance the customer experience. By analyzing sales data, retailers can forecast demand, tailor marketing efforts, and streamline supply chain management. This ensures that the right products are available at the right time, reducing wastage and improving customer satisfaction. Furthermore, data analysis helps retailers to identify trends and preferences, enabling them to offer personalized recommendations and promotions that resonate with their customers.\n",
        "\n",
        "In conclusion, data analysis is a cornerstone of modern decision-making processes across various sectors. Its ability to transform raw data into actionable insights empowers organizations to optimize their operations, innovate, and drive growth. From improving patient care in healthcare to enhancing customer experience in retail and ensuring financial stability, data analysis is a vital tool that shapes the future of industries. As the volume of data continues to grow, the importance of data analysis will only increase, making it an essential skill for the modern workforce."
      ],
      "metadata": {
        "id": "-mEY0AlYeMC-"
      }
    },
    {
      "cell_type": "code",
      "source": [
        "from google.colab import drive\n",
        "drive.mount('/content/drive')\n",
        "\n",
        "import pandas as pd\n",
        "\n",
        "Time_Americans_Spend_Sleeping_path = '/content/drive/My Drive/Developer_Institute_Data_Analytics/Time_Americans_Spend_Sleeping.csv'\n",
        "Mental_Health_Depression_Disorder_Data_path = '/content/drive/My Drive/Developer_Institute_Data_Analytics/Mental_health_Depression_Disorder_Data.csv'\n",
        "Credit_Card_Approvals_path = '/content/drive/My Drive/Developer_Institute_Data_Analytics/Credit_Card_Approvals.csv'\n",
        "\n",
        "Time_Americans_Spend_Sleeping = pd.read_csv(Time_Americans_Spend_Sleeping_path)\n",
        "Mental_health_Depression_Disorder_Data = pd.read_csv(Mental_health_Depression_Disorder_Data_path)\n",
        "Credit_Card_Approvals = pd.read_csv(Credit_Card_Approvals_path)\n",
        "\n",
        "print(\"Time Americans Spend Sleeping:\")\n",
        "print(Time_Americans_Spend_Sleeping.head())\n",
        "\n",
        "print(\"\\nMental Health Depression Disorder Data:\")\n",
        "print(Mental_health_Depression_Disorder_Data.head())\n",
        "\n",
        "print(\"\\nCredit Card Approvals:\")\n",
        "print(Credit_Card_Approvals.head())\n"
      ],
      "metadata": {
        "id": "G1hTMFojuZFY"
      },
      "execution_count": null,
      "outputs": []
    },
    {
      "cell_type": "code",
      "source": [
        "from google.colab import files\n",
        "uploaded_sleep = files.upload()\n",
        "uploaded_mental_health = files.upload()\n",
        "uploaded_credit_card = files.upload()\n",
        "\n",
        "import pandas as pd\n",
        "\n",
        "sleep_data = pd.read_csv('Time Americans Spend Sleeping.csv')\n",
        "mental_health_data = pd.read_csv('Mental Health Depression Disorder Data.csv')\n",
        "credit_card_approvals = pd.read_csv('Credit Card Approvals.csv')\n",
        "\n",
        "print(\"Sleep Data:\")\n",
        "print(sleep_data.head())\n",
        "\n",
        "print(\"\\nMental Health Data:\")\n",
        "print(mental_health_data.head())\n",
        "\n",
        "print(\"\\nCredit Card Approvals Data:\")\n",
        "print(credit_card_approvals.head())\n",
        "\n"
      ],
      "metadata": {
        "id": "tc_eK51qwwr4"
      },
      "execution_count": null,
      "outputs": []
    },
    {
      "cell_type": "markdown",
      "source": [
        "Credit Card\n",
        "\n",
        "In the card dataset, a clear distinction can be made between quantitative and qualitative data. Numerical columns such as Age, Debt, YearsEmployed, CreditScore, ZipCode, and Income provide measurable information, allowing for quantitative analysis. These values represent concrete numerical measurements, such as age, debt amount, and income level. On the other hand, qualitative columns like Gender, Married, BankCustomer, Industry, Ethnicity, PriorDefault, Employed, DriversLicense, Citizen, and Approved offer categorical data, describing attributes like gender, marital status, industry type, and approval status. These categorical variables are not measured in numerical terms but instead provide descriptive information about the individuals or transactions in the dataset. This differentiation between quantitative and qualitative data allows for a comprehensive understanding of the various attributes present in the card dataset and facilitates analysis based on different data types.\n",
        "\n",
        "Sleep Data\n",
        "\n",
        "In the time dataset, the columns present a mix of quantitative and qualitative data. Years, Average hours per day sleeping, and Standard Error are numerical columns, providing specific numerical values such as the year and the average hours slept per day. These values are measurable and expressible as numbers. In contrast, columns such as Period, Type of Days, Age Group, Activity, and Sex are qualitative, offering descriptive information rather than numerical values. These columns categorize the data based on different attributes, such as the time period (e.g., annual), type of days (e.g., all days), age group (e.g., 15 years and over), activity (e.g., sleeping), and sex (e.g., both). This combination of quantitative and qualitative data provides a comprehensive understanding of sleep patterns across different demographics and time periods.\n",
        "\n",
        "Mental Health\n",
        "\n",
        "In the mental health dataset, the columns exhibit a clear division between qualitative and quantitative data. Categorical columns such as Entity, Code, and Year serve as identifiers, categorizing the data based on the country, country code, and year of observation. These attributes are qualitative in nature as they provide descriptive information rather than numerical values. Conversely, the remaining columns—Schizophrenia (%), Bipolar disorder (%), Eating disorders (%), Anxiety disorders (%), Drug use disorders (%), Depression (%), and Alcohol use disorders (%)—contain numerical values expressed as percentages. These percentages represent the prevalence rates of various mental health disorders within each country and year, making them quantitative data. This distinction enables researchers to analyze and interpret trends and patterns in mental health disorders across different regions and over time, facilitating evidence-based interventions and policies to address mental health challenges effectively."
      ],
      "metadata": {
        "id": "VYa5OLty2qC_"
      }
    },
    {
      "cell_type": "code",
      "source": [
        "import pandas as pd\n",
        "\n",
        "from google.colab import files\n",
        "uploaded = files.upload()\n",
        "\n",
        "iris_df = pd.read_csv(\"Iris.csv\")\n",
        "\n",
        "print(iris_df.head())\n",
        "\n",
        "qualitative_columns = ['Species']\n",
        "quantitative_columns = ['SepalLengthCm', 'SepalWidthCm', 'PetalLengthCm', 'PetalWidthCm']\n",
        "\n",
        "descriptions = {\n",
        "    'SepalLengthCm': 'Quantitative - Represents the length of the sepal in centimeters.',\n",
        "    'SepalWidthCm': 'Quantitative - Represents the width of the sepal in centimeters.',\n",
        "    'PetalLengthCm': 'Quantitative - Represents the length of the petal in centimeters.',\n",
        "    'PetalWidthCm': 'Quantitative - Represents the width of the petal in centimeters.',\n",
        "    'Species': 'Qualitative - Represents the species of iris (setosa, versicolor, or virginica).'\n",
        "}\n",
        "\n",
        "print(\"\\nQualitative Columns:\")\n",
        "for column in qualitative_columns:\n",
        "    print(column + \": \" + descriptions[column])\n",
        "\n",
        "print(\"\\nQuantitative Columns:\")\n",
        "for column in quantitative_columns:\n",
        "    print(column + \": \" + descriptions[column])\n",
        "\n"
      ],
      "metadata": {
        "id": "72RJ9EgV2r7s"
      },
      "execution_count": null,
      "outputs": []
    },
    {
      "cell_type": "code",
      "source": [
        "import pandas as pd\n",
        "import matplotlib.pyplot as plt\n",
        "\n",
        "from google.colab import files\n",
        "uploaded = files.upload()\n",
        "\n",
        "iris_df = pd.read_csv(\"Iris.csv\")\n",
        "\n",
        "print(iris_df.head())\n",
        "\n",
        "quantitative_column = 'SepalLengthCm'\n",
        "mean_value = iris_df[quantitative_column].mean()\n",
        "median_value = iris_df[quantitative_column].median()\n",
        "mode_value = iris_df[quantitative_column].mode().iloc[0]\n",
        "\n",
        "print(\"\\nMean:\", mean_value)\n",
        "print(\"Median:\", median_value)\n",
        "print(\"Mode:\", mode_value)\n",
        "\n",
        "plt.hist(iris_df['SepalLengthCm'], bins=20, color='skyblue')\n",
        "plt.title('Distribution of Sepal Lengths')\n",
        "plt.xlabel('Sepal Length (cm)')\n",
        "plt.ylabel('Frequency')\n",
        "plt.show()\n"
      ],
      "metadata": {
        "id": "qW99Wkz35ibY"
      },
      "execution_count": null,
      "outputs": []
    },
    {
      "cell_type": "code",
      "source": [
        "import pandas as pd\n",
        "\n",
        "from google.colab import files\n",
        "uploaded = files.upload()\n",
        "\n",
        "# Load the dataset\n",
        "df = pd.read_csv('Time Americans Spend Sleeping.csv')\n",
        "\n",
        "# Display the first few rows to understand the structure\n",
        "print(df.head())\n",
        "\n",
        "# Check for missing values\n",
        "print(df.isnull().sum())\n",
        "\n",
        "# Explore the columns and their data types\n",
        "print(df.info())\n",
        "\n",
        "# Identify interesting columns based on your analysis objective\n",
        "interesting_columns = ['Date', 'Time', 'Age', 'Gender', 'Region']\n",
        "\n",
        "# Explain why you chose these columns\n",
        "explanation = \"\"\"\n",
        "For trend analysis, 'Date' and 'Time' columns are crucial as they allow tracking changes over time.\n",
        "For group comparison, 'Age', 'Gender', and 'Region' are important demographic variables that enable comparing different groups within the dataset.\n",
        "\"\"\"\n",
        "\n",
        "print(explanation)\n"
      ],
      "metadata": {
        "id": "rngywZ5f8MLZ"
      },
      "execution_count": null,
      "outputs": []
    }
  ]
}