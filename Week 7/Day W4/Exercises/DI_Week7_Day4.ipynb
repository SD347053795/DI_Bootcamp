{
  "nbformat": 4,
  "nbformat_minor": 0,
  "metadata": {
    "colab": {
      "provenance": []
    },
    "kernelspec": {
      "name": "python3",
      "display_name": "Python 3"
    },
    "language_info": {
      "name": "python"
    }
  },
  "cells": [
    {
      "cell_type": "markdown",
      "source": [
        "Below are various data sources. Identify whether each one is an example of structured or unstructured data.\n",
        "\n",
        "A company’s financial reports stored in an Excel file.\n",
        "    Structured data\n",
        "Photographs uploaded to a social media platform.\n",
        "    Unstructured data\n",
        "A collection of news articles on a website.\n",
        "    Unstructured data\n",
        "Inventory data in a relational database.\n",
        "    Structured data\n",
        "Recorded interviews from a market research study.\n",
        "    Unstructured data\n"
      ],
      "metadata": {
        "id": "DjBC3jZ7T6OA"
      }
    },
    {
      "cell_type": "markdown",
      "source": [
        "A series of blog posts about travel experiences:\n",
        "\n",
        "Method: Use software to read the text and pick out important details.\n",
        "Reasoning: The software can find key information like places visited, dates, activities, and feelings. This information can be put into a table with columns for author, date, location, activities, and feelings.\n",
        "Audio recordings of customer service calls:\n",
        "\n",
        "Method: Use software to turn the speech into text, then analyze the text.\n",
        "Reasoning: The software can transcribe what was said in the calls. Then, it can look at the text to find details like customer problems, solutions, call length, and emotions. This can be put into a table with columns for customer ID, problem type, solution, call length, and emotion score.\n",
        "Handwritten notes from a brainstorming session:\n",
        "\n",
        "Method: Use software to read the handwriting and check for errors.\n",
        "Reasoning: The software can turn the handwritten notes into typed text. Someone can then check the text for mistakes. The text can be organized into categories like ideas, suggestions, and action items, and put into a table with columns for category, idea, person who suggested it, and priority.\n",
        "A video tutorial on cooking:\n",
        "\n",
        "Method: Use software to analyze the video and write down the steps.\n",
        "Reasoning: The software can detect different parts of the video, identify objects, and understand speech. Then, someone can manually write down the cooking steps, ingredients, and techniques. This information can be put into a table with columns for step number, action, ingredient, quantity, and tool used."
      ],
      "metadata": {
        "id": "ifX1GoVZWEdi"
      }
    },
    {
      "cell_type": "markdown",
      "source": [
        "Transaction records:\n",
        "\n",
        "Type: Structured data\n",
        "Usage: Look at these records to see what sells well, when sales go up or down, and what needs to be restocked. This helps you keep popular items in stock, avoid overstocking, and plan marketing to boost sales.\n",
        "Customer feedback comments:\n",
        "\n",
        "Type: Unstructured data\n",
        "Usage: Read these comments to find out what customers like or dislike. This can show you what needs to be improved, what makes customers happy, and how to make better products and services.\n",
        "Social media posts about your brand:\n",
        "\n",
        "Type: Unstructured data\n",
        "Usage: Check what people are saying about your brand online. This helps you understand how people feel about your brand, spot new trends, and see if your marketing is working. It can also help you manage your brand’s reputation.\n",
        "Employee work schedules:\n",
        "\n",
        "Type: Structured data\n",
        "Usage: Look at work schedules to make sure you have enough staff during busy times and not too many during slow times. This helps improve customer service, reduce costs, and keep employees happy.\n",
        "Summary:\n",
        "Structured Data:\n",
        "\n",
        "Transaction Records: Used to see what sells, manage stock, and plan marketing.\n",
        "Employee Work Schedules: Used to manage staff, improve service, and save money.\n",
        "Unstructured Data:\n",
        "\n",
        "Customer Feedback Comments: Used to find out what customers think and improve products and services.\n",
        "Social Media Posts: Used to see how people feel about your brand, find trends, and manage your brand’s image."
      ],
      "metadata": {
        "id": "h2UxSIt3XAQf"
      }
    },
    {
      "cell_type": "code",
      "source": [
        "from faker import Faker\n",
        "import numpy as np\n",
        "import pandas as pd\n",
        "\n",
        "faker = Faker()\n",
        "Faker.seed(0)\n",
        "\n",
        "names = [faker.name() for _ in range(100)]\n",
        "addresses = [faker.address().replace(\"\\n\", \", \") for _ in range(100)]\n",
        "emails = [faker.email() for _ in range(100)]\n",
        "\n",
        "np.random.seed(0)\n",
        "ages = np.random.randint(20, 61, size=100)\n",
        "incomes = np.random.randint(30000, 120001, size=100)\n",
        "\n",
        "data = {\n",
        "    'Name': names,\n",
        "    'Address': addresses,\n",
        "    'Email': emails,\n",
        "    'Age': ages,\n",
        "    'Income': incomes\n",
        "}\n",
        "\n",
        "df = pd.DataFrame(data)\n",
        "\n",
        "print(df.head(10))\n"
      ],
      "metadata": {
        "colab": {
          "base_uri": "https://localhost:8080/"
        },
        "id": "5z7eqXZ2XlJF",
        "outputId": "7440556b-79c4-4952-ea66-0e877c092f7c"
      },
      "execution_count": 3,
      "outputs": [
        {
          "output_type": "stream",
          "name": "stdout",
          "text": [
            "                Name                                            Address  \\\n",
            "0       Norma Fisher                   Unit 1113 Box 3060, DPO AE 52118   \n",
            "1     Jorge Sullivan  7936 Micheal Green Apt. 635, North Lynntown, M...   \n",
            "2    Elizabeth Woods         76430 Cindy Cove, South Nicholas, ND 20336   \n",
            "3       Susan Wagner  96687 Bass Parks Apt. 893, West Janicemouth, G...   \n",
            "4   Peter Montgomery           9269 Robbins Valley, Jonesland, NC 05667   \n",
            "5   Theodore Mcgrath          40752 Misty Mount, Williamhaven, NY 04907   \n",
            "6  Stephanie Collins         634 Petersen Orchard, Lawsonbury, PR 03185   \n",
            "7   Stephanie Sutton                248 Cook Park, Sherriport, WI 53987   \n",
            "8     Brian Hamilton  22345 Sheri Orchard Suite 279, Lake Hollystad,...   \n",
            "9         Susan Levy   0172 Antonio River Apt. 518, Jamesfort, DE 08386   \n",
            "\n",
            "                         Email  Age  Income  \n",
            "0        qgonzales@example.com   20  116384  \n",
            "1           ojones@example.org   23  105751  \n",
            "2    stephanielong@example.com   23  106693  \n",
            "3  patriciapadilla@example.org   59   54777  \n",
            "4           aclark@example.net   29   43824  \n",
            "5       ofernandez@example.org   39   32418  \n",
            "6       alyssaknox@example.com   41   42843  \n",
            "7        estephens@example.org   56  108778  \n",
            "8         ngoodwin@example.com   43   66223  \n",
            "9          larry03@example.net   26   91570  \n"
          ]
        }
      ]
    },
    {
      "cell_type": "code",
      "source": [
        "import tensorflow as tf\n",
        "from tensorflow.keras.preprocessing.image import ImageDataGenerator\n",
        "import os\n",
        "\n",
        "input_dir = r\"C:\\Users\\Shmuel\\Desktop\\DI_Bootcamp\\Week_7\\Day_W4\\Dogs\\Input\"\n",
        "output_dir = r\"C:\\Users\\Shmuel\\Desktop\\DI_Bootcamp\\Week_7\\Day_W4\\Dogs\\Output\"\n",
        "\n",
        "datagen = ImageDataGenerator(\n",
        "    rotation_range=30,\n",
        "    horizontal_flip=True,\n",
        "    vertical_flip=True,\n",
        "    brightness_range=[0.5, 1.5]\n",
        ")\n",
        "\n",
        "generator = datagen.flow_from_directory(\n",
        "    input_dir,\n",
        "    target_size=(150, 150),\n",
        "    batch_size=32,\n",
        "    class_mode=None,\n",
        "    save_to_dir=output_dir,\n",
        "    save_prefix='aug',\n",
        "    save_format='jpeg'\n",
        ")\n",
        "\n",
        "num_batches = 10\n",
        "for i in range(num_batches):\n",
        "    generator.next()\n"
      ],
      "metadata": {
        "id": "m5TJ8h9WZenP"
      },
      "execution_count": null,
      "outputs": []
    },
    {
      "cell_type": "markdown",
      "source": [
        "Plan Your City: Start by drawing a map of your city on paper or using digital software. Include streets, intersections, and landmarks. Think about where highways, residential areas, and commercial districts would be located.\n",
        "\n",
        "Decide on Vehicles: Determine which vehicles will be in your simulation. Cars, trucks, buses, bicycles, and pedestrians are common choices. Each type should have different speeds and behaviors.\n",
        "\n",
        "Set Traffic Rules: Decide on the rules for driving in your city. For example, which side of the road do vehicles drive on? How do they merge into traffic? Do they stop at red lights and yield at stop signs?\n",
        "\n",
        "Time of Day Variation: Consider how traffic changes throughout the day. Morning and evening rush hours will have more congestion, while late at night might see fewer vehicles on the road.\n",
        "\n",
        "Traffic Lights and Signs: Place traffic lights and signs at intersections. Decide how long each light stays green, yellow, and red. This will control the flow of traffic and prevent accidents.\n",
        "\n",
        "Weather Conditions: Think about how weather affects driving. Rain and snow can reduce visibility and make roads slippery, leading to slower traffic and more accidents.\n",
        "\n",
        "Simulate Traffic Flow: Using a computer program or simulator, start running your simulation. Watch how vehicles move around the city, obeying traffic rules and reacting to each other.\n",
        "\n",
        "Collect Data: During the simulation, gather information about vehicle counts, average speeds, and congestion levels. Record this data at different times of the day to see how traffic patterns change.\n",
        "\n",
        "Analyzing Results: Look at the data you collected to understand traffic patterns in your city. Are there certain intersections that are consistently congested? Does traffic flow more smoothly during certain times of the day?\n",
        "\n",
        "Uses of the Data: Share your simulated data with urban planners and traffic engineers. They can use it to identify areas for improvement, such as adding new roads or adjusting traffic light timings. It can also help them prepare for future growth and development in the city."
      ],
      "metadata": {
        "id": "H_xEMOuOamsp"
      }
    }
  ]
}