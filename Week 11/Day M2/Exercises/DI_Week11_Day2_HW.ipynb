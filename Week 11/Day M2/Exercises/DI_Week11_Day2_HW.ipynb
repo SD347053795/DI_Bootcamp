{
  "nbformat": 4,
  "nbformat_minor": 0,
  "metadata": {
    "colab": {
      "provenance": []
    },
    "kernelspec": {
      "name": "python3",
      "display_name": "Python 3"
    },
    "language_info": {
      "name": "python"
    }
  },
  "cells": [
    {
      "cell_type": "code",
      "execution_count": 10,
      "metadata": {
        "colab": {
          "base_uri": "https://localhost:8080/"
        },
        "id": "OcxD279CYULP",
        "outputId": "bb9ea1d9-b80b-4706-885a-593bfd3fea1d"
      },
      "outputs": [
        {
          "output_type": "stream",
          "name": "stdout",
          "text": [
            "Array: [0 1 2 3 4 5 6 7 8 9]\n"
          ]
        }
      ],
      "source": [
        "import numpy as np\n",
        "\n",
        "array = np.arange(10)\n",
        "print(\"Array:\", array)"
      ]
    },
    {
      "cell_type": "code",
      "source": [
        "import numpy as np\n",
        "\n",
        "my_list = [3.14, 2.17, 0, 1, 2]\n",
        "array_int = np.array(my_list, dtype=int)\n",
        "\n",
        "print(\"Array:\", array_int)"
      ],
      "metadata": {
        "colab": {
          "base_uri": "https://localhost:8080/"
        },
        "id": "ZVJXItu0ZBor",
        "outputId": "4688f5e6-7ac4-411e-c3bf-3f2c951a87a1"
      },
      "execution_count": 9,
      "outputs": [
        {
          "output_type": "stream",
          "name": "stdout",
          "text": [
            "Array: [3 2 0 1 2]\n"
          ]
        }
      ]
    },
    {
      "cell_type": "code",
      "source": [
        "import numpy as np\n",
        "\n",
        "array_3x3 = np.arange(1, 10).reshape(3, 3)\n",
        "print(\"array:\", array_3x3)"
      ],
      "metadata": {
        "colab": {
          "base_uri": "https://localhost:8080/"
        },
        "id": "t3QqOWEzZhko",
        "outputId": "03443c6b-8eb0-441a-804e-5f77d34e20b2"
      },
      "execution_count": 11,
      "outputs": [
        {
          "output_type": "stream",
          "name": "stdout",
          "text": [
            "array: [[1 2 3]\n",
            " [4 5 6]\n",
            " [7 8 9]]\n"
          ]
        }
      ]
    },
    {
      "cell_type": "code",
      "source": [
        "import numpy as np\n",
        "\n",
        "array = np.random.rand(4, 5)\n",
        "np.set_printoptions(precision=2, suppress=True)\n",
        "\n",
        "print(\"array:\", array)"
      ],
      "metadata": {
        "colab": {
          "base_uri": "https://localhost:8080/"
        },
        "id": "DVg04e9AZxyk",
        "outputId": "39b25cd4-c4d3-47b9-d7ea-c082489e122d"
      },
      "execution_count": 13,
      "outputs": [
        {
          "output_type": "stream",
          "name": "stdout",
          "text": [
            "array: [[0.5  0.02 0.28 0.44 0.72]\n",
            " [0.27 0.71 0.99 0.89 0.6 ]\n",
            " [0.86 0.51 0.96 0.8  0.01]\n",
            " [0.8  0.28 0.91 0.42 0.32]]\n"
          ]
        }
      ]
    },
    {
      "cell_type": "code",
      "source": [
        "import numpy as np\n",
        "\n",
        "array_2d = np.array([[10, 11, 12, 13, 14],\n",
        "                     [20, 21, 22, 23, 24],\n",
        "                     [30, 31, 32, 33, 34]])\n",
        "second_row = array_2d[1]\n",
        "\n",
        "print(\"array:\", second_row)"
      ],
      "metadata": {
        "colab": {
          "base_uri": "https://localhost:8080/"
        },
        "id": "5KewDhpmaK3J",
        "outputId": "3835a9bc-9b27-4b68-d2d9-e3a021abfd85"
      },
      "execution_count": 14,
      "outputs": [
        {
          "output_type": "stream",
          "name": "stdout",
          "text": [
            "array: [20 21 22 23 24]\n"
          ]
        }
      ]
    },
    {
      "cell_type": "code",
      "source": [
        "import numpy as np\n",
        "\n",
        "array_1d = np.arange(10)\n",
        "reversed_array = array_1d[::-1]\n",
        "\n",
        "print(\"array:\", reversed_array)"
      ],
      "metadata": {
        "colab": {
          "base_uri": "https://localhost:8080/"
        },
        "id": "zIbL7aHJadmU",
        "outputId": "f217d370-264e-4c7e-9880-f1aeea9364f7"
      },
      "execution_count": 15,
      "outputs": [
        {
          "output_type": "stream",
          "name": "stdout",
          "text": [
            "array: [9 8 7 6 5 4 3 2 1 0]\n"
          ]
        }
      ]
    },
    {
      "cell_type": "code",
      "source": [
        "import numpy as np\n",
        "\n",
        "identity_matrix = np.eye(4)\n",
        "\n",
        "print(identity_matrix)"
      ],
      "metadata": {
        "colab": {
          "base_uri": "https://localhost:8080/"
        },
        "id": "c_iei_lha6fh",
        "outputId": "52466613-7f5b-4089-d0f2-6360f3edc60d"
      },
      "execution_count": 16,
      "outputs": [
        {
          "output_type": "stream",
          "name": "stdout",
          "text": [
            "[[1. 0. 0. 0.]\n",
            " [0. 1. 0. 0.]\n",
            " [0. 0. 1. 0.]\n",
            " [0. 0. 0. 1.]]\n"
          ]
        }
      ]
    },
    {
      "cell_type": "code",
      "source": [
        "import numpy as np\n",
        "\n",
        "array_1d = np.array([1, 2, 3, 4, 5, 6, 7, 8, 9, 10])\n",
        "array_sum = np.sum(array_1d)\n",
        "array_average = np.mean(array_1d)\n",
        "\n",
        "print(f\"Sum: {array_sum}, Average: {array_average}\")"
      ],
      "metadata": {
        "colab": {
          "base_uri": "https://localhost:8080/"
        },
        "id": "ju_3NxbBa_Qg",
        "outputId": "2e50263b-b9b2-4e52-91a8-6eb8fa911f03"
      },
      "execution_count": 17,
      "outputs": [
        {
          "output_type": "stream",
          "name": "stdout",
          "text": [
            "Sum: 55, Average: 5.5\n"
          ]
        }
      ]
    },
    {
      "cell_type": "code",
      "source": [
        "import numpy as np\n",
        "\n",
        "array = np.arange(1, 21)\n",
        "array_reshaped = array.reshape(4, 5)\n",
        "\n",
        "print(array_reshaped)"
      ],
      "metadata": {
        "colab": {
          "base_uri": "https://localhost:8080/"
        },
        "id": "Rkh-r5cSbK3x",
        "outputId": "ba44d8a1-f226-46fc-f7e3-57aa15239b94"
      },
      "execution_count": 18,
      "outputs": [
        {
          "output_type": "stream",
          "name": "stdout",
          "text": [
            "[[ 1  2  3  4  5]\n",
            " [ 6  7  8  9 10]\n",
            " [11 12 13 14 15]\n",
            " [16 17 18 19 20]]\n"
          ]
        }
      ]
    },
    {
      "cell_type": "code",
      "source": [
        "import numpy as np\n",
        "\n",
        "array = np.array([1, 2, 3, 4, 5, 6, 7, 8, 9, 10])\n",
        "odd_numbers = array[array % 2 != 0]\n",
        "\n",
        "print(odd_numbers)"
      ],
      "metadata": {
        "colab": {
          "base_uri": "https://localhost:8080/"
        },
        "id": "nYVFsUJzbUrl",
        "outputId": "0863fb0c-0abb-4c4d-87f5-36881d86eca9"
      },
      "execution_count": 19,
      "outputs": [
        {
          "output_type": "stream",
          "name": "stdout",
          "text": [
            "[1 3 5 7 9]\n"
          ]
        }
      ]
    }
  ]
}