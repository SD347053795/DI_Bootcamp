{
  "nbformat": 4,
  "nbformat_minor": 0,
  "metadata": {
    "colab": {
      "provenance": []
    },
    "kernelspec": {
      "name": "python3",
      "display_name": "Python 3"
    },
    "language_info": {
      "name": "python"
    }
  },
  "cells": [
    {
      "cell_type": "code",
      "execution_count": 1,
      "metadata": {
        "colab": {
          "base_uri": "https://localhost:8080/"
        },
        "id": "l8go3Rl1s11S",
        "outputId": "b5394fb9-e270-4ada-c8f1-1713935e5e9e"
      },
      "outputs": [
        {
          "output_type": "stream",
          "name": "stdout",
          "text": [
            "Determinant of A:\n",
            "0.0\n",
            "\n",
            "Matrix A is singular, it does not have an inverse.\n"
          ]
        }
      ],
      "source": [
        "#Matrix Operation\n",
        "import numpy as np\n",
        "\n",
        "A = np.array([[1, 2, 3], [4, 5, 6], [7, 8, 9]])\n",
        "\n",
        "det_A = np.linalg.det(A)\n",
        "print(f\"Determinant of A:\\n{det_A}\\n\")\n",
        "\n",
        "if det_A != 0:\n",
        "    A_inv = np.linalg.inv(A)\n",
        "    print(f\"Inverse of A:\\n{A_inv}\")\n",
        "else:\n",
        "    print(\"Matrix A is singular, it does not have an inverse.\")\n"
      ]
    },
    {
      "cell_type": "code",
      "source": [
        "#Statistical Analysis\n",
        "import numpy as np\n",
        "\n",
        "np.random.seed(0)\n",
        "data = np.random.rand(50)\n",
        "\n",
        "mean_value = np.mean(data)\n",
        "median_value = np.median(data)\n",
        "std_deviation = np.std(data)\n",
        "\n",
        "print(f\"Generated data:\\n{data}\\n\")\n",
        "print(f\"Mean: {mean_value:.4f}\")\n",
        "print(f\"Median: {median_value:.4f}\")\n",
        "print(f\"Standard Deviation: {std_deviation:.4f}\")"
      ],
      "metadata": {
        "colab": {
          "base_uri": "https://localhost:8080/"
        },
        "collapsed": true,
        "id": "0zUdmVB_13hF",
        "outputId": "584521b6-8511-47b0-e500-88195fb438a9"
      },
      "execution_count": 2,
      "outputs": [
        {
          "output_type": "stream",
          "name": "stdout",
          "text": [
            "Generated data:\n",
            "[0.5488135  0.71518937 0.60276338 0.54488318 0.4236548  0.64589411\n",
            " 0.43758721 0.891773   0.96366276 0.38344152 0.79172504 0.52889492\n",
            " 0.56804456 0.92559664 0.07103606 0.0871293  0.0202184  0.83261985\n",
            " 0.77815675 0.87001215 0.97861834 0.79915856 0.46147936 0.78052918\n",
            " 0.11827443 0.63992102 0.14335329 0.94466892 0.52184832 0.41466194\n",
            " 0.26455561 0.77423369 0.45615033 0.56843395 0.0187898  0.6176355\n",
            " 0.61209572 0.616934   0.94374808 0.6818203  0.3595079  0.43703195\n",
            " 0.6976312  0.06022547 0.66676672 0.67063787 0.21038256 0.1289263\n",
            " 0.31542835 0.36371077]\n",
            "\n",
            "Mean: 0.5380\n",
            "Median: 0.5682\n",
            "Standard Deviation: 0.2723\n"
          ]
        }
      ]
    },
    {
      "cell_type": "code",
      "source": [
        "!pip install datetime"
      ],
      "metadata": {
        "colab": {
          "base_uri": "https://localhost:8080/"
        },
        "id": "9GOZ44I631c6",
        "outputId": "d77aaa1b-845a-4b49-d02a-6e9f307c445a"
      },
      "execution_count": 4,
      "outputs": [
        {
          "output_type": "stream",
          "name": "stdout",
          "text": [
            "Collecting datetime\n",
            "  Downloading DateTime-5.5-py3-none-any.whl (52 kB)\n",
            "\u001b[2K     \u001b[90m━━━━━━━━━━━━━━━━━━━━━━━━━━━━━━━━━━━━━━━━\u001b[0m \u001b[32m52.6/52.6 kB\u001b[0m \u001b[31m1.9 MB/s\u001b[0m eta \u001b[36m0:00:00\u001b[0m\n",
            "\u001b[?25hCollecting zope.interface (from datetime)\n",
            "  Downloading zope.interface-6.4.post2-cp310-cp310-manylinux_2_5_x86_64.manylinux1_x86_64.manylinux_2_17_x86_64.manylinux2014_x86_64.whl (247 kB)\n",
            "\u001b[2K     \u001b[90m━━━━━━━━━━━━━━━━━━━━━━━━━━━━━━━━━━━━━━━━\u001b[0m \u001b[32m247.8/247.8 kB\u001b[0m \u001b[31m5.5 MB/s\u001b[0m eta \u001b[36m0:00:00\u001b[0m\n",
            "\u001b[?25hRequirement already satisfied: pytz in /usr/local/lib/python3.10/dist-packages (from datetime) (2023.4)\n",
            "Requirement already satisfied: setuptools in /usr/local/lib/python3.10/dist-packages (from zope.interface->datetime) (67.7.2)\n",
            "Installing collected packages: zope.interface, datetime\n",
            "Successfully installed datetime-5.5 zope.interface-6.4.post2\n"
          ]
        }
      ]
    },
    {
      "cell_type": "code",
      "source": [
        "#Date Manipulation\n",
        "import numpy as np\n",
        "\n",
        "start_date = np.datetime64('2023-01-01')\n",
        "end_date = np.datetime64('2023-01-31')\n",
        "dates = np.arange(start_date, end_date + np.timedelta64(1, 'D'), dtype='datetime64[D]')\n",
        "dates_formatted = np.datetime_as_string(dates, unit='D')\n",
        "\n",
        "print(\"Original dates:\")\n",
        "print(dates)\n",
        "print(\"\\nFormatted dates (YYYY/MM/DD):\")\n",
        "print(dates_formatted)"
      ],
      "metadata": {
        "colab": {
          "base_uri": "https://localhost:8080/"
        },
        "id": "-Mk2Xhps17TD",
        "outputId": "200eac1f-a7b7-46f5-ac6f-1e7f39ab5120"
      },
      "execution_count": 6,
      "outputs": [
        {
          "output_type": "stream",
          "name": "stdout",
          "text": [
            "Original dates:\n",
            "['2023-01-01' '2023-01-02' '2023-01-03' '2023-01-04' '2023-01-05'\n",
            " '2023-01-06' '2023-01-07' '2023-01-08' '2023-01-09' '2023-01-10'\n",
            " '2023-01-11' '2023-01-12' '2023-01-13' '2023-01-14' '2023-01-15'\n",
            " '2023-01-16' '2023-01-17' '2023-01-18' '2023-01-19' '2023-01-20'\n",
            " '2023-01-21' '2023-01-22' '2023-01-23' '2023-01-24' '2023-01-25'\n",
            " '2023-01-26' '2023-01-27' '2023-01-28' '2023-01-29' '2023-01-30'\n",
            " '2023-01-31']\n",
            "\n",
            "Formatted dates (YYYY/MM/DD):\n",
            "['2023-01-01' '2023-01-02' '2023-01-03' '2023-01-04' '2023-01-05'\n",
            " '2023-01-06' '2023-01-07' '2023-01-08' '2023-01-09' '2023-01-10'\n",
            " '2023-01-11' '2023-01-12' '2023-01-13' '2023-01-14' '2023-01-15'\n",
            " '2023-01-16' '2023-01-17' '2023-01-18' '2023-01-19' '2023-01-20'\n",
            " '2023-01-21' '2023-01-22' '2023-01-23' '2023-01-24' '2023-01-25'\n",
            " '2023-01-26' '2023-01-27' '2023-01-28' '2023-01-29' '2023-01-30'\n",
            " '2023-01-31']\n"
          ]
        }
      ]
    },
    {
      "cell_type": "code",
      "source": [
        "#Data Manipulation With NumPy And Pandas\n",
        "import pandas as pd\n",
        "import numpy as np\n",
        "\n",
        "np.random.seed(0)\n",
        "data = np.random.randint(0, 100, size=(10, 3))\n",
        "df = pd.DataFrame(data, columns=['A', 'B', 'C'])\n",
        "print(\"Original DataFrame:\")\n",
        "print(df)"
      ],
      "metadata": {
        "colab": {
          "base_uri": "https://localhost:8080/"
        },
        "id": "83qytc-61986",
        "outputId": "408e9f76-402e-41f8-c556-77f206e0a484"
      },
      "execution_count": 12,
      "outputs": [
        {
          "output_type": "stream",
          "name": "stdout",
          "text": [
            "Original DataFrame:\n",
            "    A   B   C\n",
            "0  44  47  64\n",
            "1  67  67   9\n",
            "2  83  21  36\n",
            "3  87  70  88\n",
            "4  88  12  58\n",
            "5  65  39  87\n",
            "6  46  88  81\n",
            "7  37  25  77\n",
            "8  72   9  20\n",
            "9  80  69  79\n"
          ]
        }
      ]
    },
    {
      "cell_type": "code",
      "source": [
        "#Image Representation\n",
        "#Images are represented in NumPy arrays where each pixel in the image corresponds to an element in the array.\n",
        "import numpy as np\n",
        "\n",
        "# Create a 5x5 grayscale image (values ranging from 0 to 255)\n",
        "gray_image = np.array([\n",
        "    [0, 64, 128, 192, 255],\n",
        "    [32, 96, 160, 224, 32],\n",
        "    [64, 128, 192, 0, 64],\n",
        "    [96, 160, 224, 32, 96],\n",
        "    [128, 192, 255, 64, 128]\n",
        "], dtype=np.uint8)\n",
        "\n",
        "print(\"Grayscale Image:\")\n",
        "print(gray_image)"
      ],
      "metadata": {
        "colab": {
          "base_uri": "https://localhost:8080/"
        },
        "id": "h7cmg3kt2Auj",
        "outputId": "c75a0b96-e60e-48aa-9b25-687de96b294b"
      },
      "execution_count": 15,
      "outputs": [
        {
          "output_type": "stream",
          "name": "stdout",
          "text": [
            "Grayscale Image:\n",
            "[[  0  64 128 192 255]\n",
            " [ 32  96 160 224  32]\n",
            " [ 64 128 192   0  64]\n",
            " [ 96 160 224  32  96]\n",
            " [128 192 255  64 128]]\n"
          ]
        }
      ]
    },
    {
      "cell_type": "code",
      "source": [
        "#Hypothesis Testing\n",
        "import numpy as np\n",
        "from scipy import stats\n",
        "\n",
        "np.random.seed(0)\n",
        "productivity_before = np.random.normal(loc=50, scale=10, size=30)\n",
        "productivity_after = productivity_before + np.random.normal(loc=5, scale=3, size=30)\n",
        "productivity_diff = productivity_after - productivity_before\n",
        "\n",
        "mean_diff = np.mean(productivity_diff)\n",
        "std_dev_diff = np.std(productivity_diff, ddof=1)  ]\n",
        "print(f\"Mean Difference: {mean_diff:.2f}\")\n",
        "print(f\"Standard Deviation of Differences: {std_dev_diff:.2f}\")\n",
        "\n",
        "t_statistic, p_value = stats.ttest_rel(productivity_after, productivity_before)\n",
        "print(f\"\\nPaired t-test:\")\n",
        "print(f\"  t-statistic: {t_statistic:.2f}\")\n",
        "print(f\"  p-value: {p_value:.4f}\")\n",
        "\n",
        "alpha = 0.05\n",
        "if p_value < alpha:\n",
        "    print(\"\\nThe training program has a significant positive effect on employee productivity (Reject H₀).\")\n",
        "else:\n",
        "    print(\"\\nThe training program does not have a significant effect on employee productivity (Fail to reject H₀).\")\n"
      ],
      "metadata": {
        "colab": {
          "base_uri": "https://localhost:8080/"
        },
        "id": "eO0BsIzr2DvV",
        "outputId": "0ba52447-c958-4587-ef75-e3f14f2fbf04"
      },
      "execution_count": 16,
      "outputs": [
        {
          "output_type": "stream",
          "name": "stdout",
          "text": [
            "Mean Difference: 4.13\n",
            "Standard Deviation of Differences: 2.74\n",
            "\n",
            "Paired t-test:\n",
            "  t-statistic: 8.25\n",
            "  p-value: 0.0000\n",
            "\n",
            "The training program has a significant positive effect on employee productivity (Reject H₀).\n"
          ]
        }
      ]
    },
    {
      "cell_type": "code",
      "source": [
        "#Complex Array Comparison\n",
        "import numpy as np\n",
        "\n",
        "array1 = np.array([1, 2, 3, 4, 5])\n",
        "array2 = np.array([1, 2, 3, 5, 8])\n",
        "\n",
        "comparison_result = array1 > array2\n",
        "\n",
        "print(\"Comparison Result (array1 > array2):\")\n",
        "print(comparison_result)\n"
      ],
      "metadata": {
        "colab": {
          "base_uri": "https://localhost:8080/"
        },
        "id": "jM2-wdnf2JRq",
        "outputId": "c0c5fd7a-aa4a-46de-ca72-c4d1082c2570"
      },
      "execution_count": 19,
      "outputs": [
        {
          "output_type": "stream",
          "name": "stdout",
          "text": [
            "Comparison Result (array1 > array2):\n",
            "[False False False False False]\n"
          ]
        }
      ]
    },
    {
      "cell_type": "code",
      "source": [
        "#Time Series Data Manipulation\n",
        "import pandas as pd\n",
        "import numpy as np\n",
        "\n",
        "dates_2023 = pd.date_range(start='2023-01-01', end='2023-12-31', freq='D')\n",
        "np.random.seed(0)\n",
        "data_2023 = np.random.randint(1, 100, size=len(dates_2023))\n",
        "df = pd.DataFrame(data=data_2023, index=dates_2023, columns=['Value'])\n",
        "\n",
        "print(\"Sample of the time series data for 2023:\")\n",
        "print(df.head())"
      ],
      "metadata": {
        "colab": {
          "base_uri": "https://localhost:8080/"
        },
        "id": "Z4AtlEoa2Lo_",
        "outputId": "a888e10d-36c5-4c89-c406-e9357214166f"
      },
      "execution_count": 20,
      "outputs": [
        {
          "output_type": "stream",
          "name": "stdout",
          "text": [
            "Sample of the time series data for 2023:\n",
            "            Value\n",
            "2023-01-01     45\n",
            "2023-01-02     48\n",
            "2023-01-03     65\n",
            "2023-01-04     68\n",
            "2023-01-05     68\n"
          ]
        }
      ]
    },
    {
      "cell_type": "code",
      "source": [
        "#Data Conversion\n",
        "import numpy as np\n",
        "import pandas as pd\n",
        "\n",
        "np_array = np.array([[1, 2, 3], [4, 5, 6], [7, 8, 9]])\n",
        "df = pd.DataFrame(np_array, columns=['A', 'B', 'C'])\n",
        "\n",
        "print(\"Pandas DataFrame:\")\n",
        "print(df)"
      ],
      "metadata": {
        "colab": {
          "base_uri": "https://localhost:8080/"
        },
        "id": "6UKYT_Lw2OGf",
        "outputId": "c095069a-7706-40d6-fd79-0be4e1d84a42"
      },
      "execution_count": 22,
      "outputs": [
        {
          "output_type": "stream",
          "name": "stdout",
          "text": [
            "Pandas DataFrame:\n",
            "   A  B  C\n",
            "0  1  2  3\n",
            "1  4  5  6\n",
            "2  7  8  9\n"
          ]
        }
      ]
    },
    {
      "cell_type": "code",
      "source": [
        "#Basic Visualization\n",
        "import numpy as np\n",
        "import matplotlib.pyplot as plt\n",
        "\n",
        "np.random.seed(0)\n",
        "x = np.arange(50)\n",
        "y = np.random.normal(loc=0, scale=1, size=50)\n",
        "\n",
        "plt.figure(figsize=(10, 6))\n",
        "plt.plot(x, y, marker='o', linestyle='-', color='b', label='Random Data')\n",
        "plt.title('Line Plot of Random Numbers')\n",
        "plt.xlabel('Index')\n",
        "plt.ylabel('Value')\n",
        "plt.grid(True)\n",
        "plt.legend()\n",
        "plt.tight_layout()\n",
        "plt.show()"
      ],
      "metadata": {
        "colab": {
          "base_uri": "https://localhost:8080/",
          "height": 607
        },
        "id": "mz_krE4P2Rak",
        "outputId": "81fee4c7-a570-4784-dab0-22c5811d3ed1"
      },
      "execution_count": 24,
      "outputs": [
        {
          "output_type": "display_data",
          "data": {
            "text/plain": [
              "<Figure size 1000x600 with 1 Axes>"
            ],
            "image/png": "[encoded data removed]"
          },
          "metadata": {}
        }
      ]
    }
  ]
}