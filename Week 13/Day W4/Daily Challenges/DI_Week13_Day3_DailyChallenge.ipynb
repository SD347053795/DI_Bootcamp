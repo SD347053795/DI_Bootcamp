{
  "nbformat": 4,
  "nbformat_minor": 0,
  "metadata": {
    "colab": {
      "provenance": []
    },
    "kernelspec": {
      "name": "python3",
      "display_name": "Python 3"
    },
    "language_info": {
      "name": "python"
    }
  },
  "cells": [
    {
      "cell_type": "code",
      "source": [
        "!pip install kaggle\n",
        "!pip install geopandas\n",
        "!pip install missingno\n",
        "!pip install shapely\n",
        "!pip install mpl_toolkits\n",
        "!pip install sklearn\n",
        "!pip install seaborn\n",
        "!pip install matplotlib\n",
        "!pip install numpy\n",
        "!pip install pandas"
      ],
      "metadata": {
        "id": "lM25Ntq3v0J1"
      },
      "execution_count": null,
      "outputs": []
    },
    {
      "cell_type": "code",
      "execution_count": null,
      "metadata": {
        "id": "0rJc_pj4gs0q"
      },
      "outputs": [],
      "source": [
        "import pandas as pd\n",
        "from sklearn.preprocessing import MinMaxScaler\n",
        "from sklearn.model_selection import train_test_split\n",
        "from sklearn.linear_model import LinearRegression\n",
        "from sklearn.metrics import mean_squared_error, r2_score\n",
        "import matplotlib.pyplot as plt\n",
        "import seaborn as sns\n",
        "import numpy as np\n",
        "import missingno as msno\n",
        "import geopandas as gpd\n",
        "from mpl_toolkits.axes_grid1 import make_axes_locatable\n",
        "from shapely.geometry import Point\n",
        "from sklearn.preprocessing import LabelEncoder\n",
        "from sklearn.preprocessing import StandardScaler\n",
        "from sklearn.decomposition import PCA\n",
        "from sklearn.cluster import KMeans\n",
        "from sklearn.metrics import silhouette_score\n",
        "from sklearn.preprocessing import OneHotEncoder"
      ]
    },
    {
      "cell_type": "code",
      "source": [
        "# from google.colab import files\n",
        "# files.upload()\n",
        "# !mkdir -p ~/.kaggle\n",
        "# !cp kaggle.json ~/.kaggle/\n",
        "# !chmod 600 ~/.kaggle/kaggle.json\n",
        "# !kaggle datasets download -d START-UMD/gtd\n",
        "# !unzip gtd.zip -d gtd_dataset\n",
        "# import pandas as pd\n",
        "# df = pd.read_csv('gtd_dataset/globalterrorismdb_0718dist.csv')\n",
        "# print(df.head())"
      ],
      "metadata": {
        "id": "zzQ4Bh4xufLo"
      },
      "execution_count": null,
      "outputs": []
    },
    {
      "cell_type": "code",
      "source": [
        "df = pd.read_csv('Global_Terrorism_DB.csv', encoding='latin-1')\n",
        "\n",
        "print(\"Dataset Info:\")\n",
        "print(df.info())\n",
        "print(\"\\nFirst Few Rows:\")\n",
        "print(df.head())"
      ],
      "metadata": {
        "colab": {
          "base_uri": "https://localhost:8080/"
        },
        "id": "c667vA-HjFH0",
        "outputId": "4feabe17-5942-413e-94fc-37452e1b1f71"
      },
      "execution_count": null,
      "outputs": [
        {
          "output_type": "stream",
          "name": "stderr",
          "text": [
            "<ipython-input-7-273a4eb19791>:1: DtypeWarning: Columns (4,6,31,33,61,62,63,76,79,90,92,94,96,114,115,121) have mixed types. Specify dtype option on import or set low_memory=False.\n",
            "  df = pd.read_csv('Global_Terrorism_DB.csv', encoding='latin-1')\n"
          ]
        },
        {
          "output_type": "stream",
          "name": "stdout",
          "text": [
            "Dataset Info:\n",
            "<class 'pandas.core.frame.DataFrame'>\n",
            "RangeIndex: 181691 entries, 0 to 181690\n",
            "Columns: 135 entries, eventid to related\n",
            "dtypes: float64(55), int64(22), object(58)\n",
            "memory usage: 187.1+ MB\n",
            "None\n",
            "\n",
            "First Few Rows:\n",
            "        eventid  iyear  imonth  iday approxdate  extended resolution  country  \\\n",
            "0  197000000001   1970       7     2        NaN         0        NaN       58   \n",
            "1  197000000002   1970       0     0        NaN         0        NaN      130   \n",
            "2  197001000001   1970       1     0        NaN         0        NaN      160   \n",
            "3  197001000002   1970       1     0        NaN         0        NaN       78   \n",
            "4  197001000003   1970       1     0        NaN         0        NaN      101   \n",
            "\n",
            "          country_txt  region  ... addnotes scite1 scite2  scite3  dbsource  \\\n",
            "0  Dominican Republic       2  ...      NaN    NaN    NaN     NaN      PGIS   \n",
            "1              Mexico       1  ...      NaN    NaN    NaN     NaN      PGIS   \n",
            "2         Philippines       5  ...      NaN    NaN    NaN     NaN      PGIS   \n",
            "3              Greece       8  ...      NaN    NaN    NaN     NaN      PGIS   \n",
            "4               Japan       4  ...      NaN    NaN    NaN     NaN      PGIS   \n",
            "\n",
            "   INT_LOG  INT_IDEO INT_MISC INT_ANY  related  \n",
            "0        0         0        0       0      NaN  \n",
            "1        0         1        1       1      NaN  \n",
            "2       -9        -9        1       1      NaN  \n",
            "3       -9        -9        1       1      NaN  \n",
            "4       -9        -9        1       1      NaN  \n",
            "\n",
            "[5 rows x 135 columns]\n"
          ]
        }
      ]
    },
    {
      "cell_type": "code",
      "source": [
        "print(df.columns.tolist())"
      ],
      "metadata": {
        "colab": {
          "base_uri": "https://localhost:8080/"
        },
        "id": "ANUxIulKphN8",
        "outputId": "d9d4a415-e6c3-4503-df3f-c174fa9b9a8e"
      },
      "execution_count": null,
      "outputs": [
        {
          "output_type": "stream",
          "name": "stdout",
          "text": [
            "['eventid', 'iyear', 'imonth', 'iday', 'approxdate', 'extended', 'resolution', 'country', 'country_txt', 'region', 'region_txt', 'provstate', 'city', 'latitude', 'longitude', 'specificity', 'vicinity', 'location', 'summary', 'crit1', 'crit2', 'crit3', 'doubtterr', 'alternative', 'alternative_txt', 'multiple', 'success', 'suicide', 'attacktype1', 'attacktype1_txt', 'attacktype2', 'attacktype2_txt', 'attacktype3', 'attacktype3_txt', 'targtype1', 'targtype1_txt', 'targsubtype1', 'targsubtype1_txt', 'corp1', 'target1', 'natlty1', 'natlty1_txt', 'targtype2', 'targtype2_txt', 'targsubtype2', 'targsubtype2_txt', 'corp2', 'target2', 'natlty2', 'natlty2_txt', 'targtype3', 'targtype3_txt', 'targsubtype3', 'targsubtype3_txt', 'corp3', 'target3', 'natlty3', 'natlty3_txt', 'gname', 'gsubname', 'gname2', 'gsubname2', 'gname3', 'gsubname3', 'motive', 'guncertain1', 'guncertain2', 'guncertain3', 'individual', 'nperps', 'nperpcap', 'claimed', 'claimmode', 'claimmode_txt', 'claim2', 'claimmode2', 'claimmode2_txt', 'claim3', 'claimmode3', 'claimmode3_txt', 'compclaim', 'weaptype1', 'weaptype1_txt', 'weapsubtype1', 'weapsubtype1_txt', 'weaptype2', 'weaptype2_txt', 'weapsubtype2', 'weapsubtype2_txt', 'weaptype3', 'weaptype3_txt', 'weapsubtype3', 'weapsubtype3_txt', 'weaptype4', 'weaptype4_txt', 'weapsubtype4', 'weapsubtype4_txt', 'weapdetail', 'nkill', 'nkillus', 'nkillter', 'nwound', 'nwoundus', 'nwoundte', 'property', 'propextent', 'propextent_txt', 'propvalue', 'propcomment', 'ishostkid', 'nhostkid', 'nhostkidus', 'nhours', 'ndays', 'divert', 'kidhijcountry', 'ransom', 'ransomamt', 'ransomamtus', 'ransompaid', 'ransompaidus', 'ransomnote', 'hostkidoutcome', 'hostkidoutcome_txt', 'nreleased', 'addnotes', 'scite1', 'scite2', 'scite3', 'dbsource', 'INT_LOG', 'INT_IDEO', 'INT_MISC', 'INT_ANY', 'related']\n"
          ]
        }
      ]
    },
    {
      "cell_type": "code",
      "source": [
        "duplicates = df.duplicated().sum()\n",
        "print(\"\\nNumber of Duplicates:\")\n",
        "print(duplicates)\n",
        "df.drop_duplicates(inplace=True)"
      ],
      "metadata": {
        "colab": {
          "base_uri": "https://localhost:8080/"
        },
        "id": "oxR7P5Ubj8N0",
        "outputId": "7b7ad72a-e3db-45ac-b53e-93687c270f63"
      },
      "execution_count": null,
      "outputs": [
        {
          "output_type": "stream",
          "name": "stdout",
          "text": [
            "\n",
            "Number of Duplicates:\n",
            "0\n"
          ]
        }
      ]
    },
    {
      "cell_type": "code",
      "source": [
        "null_cells = df.isnull().sum()\n",
        "print(\"\\nNull Cells:\")\n",
        "print(null_cells[null_cells > 0])\n",
        "\n",
        "missing_values = df.isnull().sum()\n",
        "print(\"\\nMissing Values:\")\n",
        "print(missing_values[missing_values > 0])\n",
        "df.fillna('Unknown', inplace=True)"
      ],
      "metadata": {
        "colab": {
          "base_uri": "https://localhost:8080/"
        },
        "id": "U6g76qR9jjeT",
        "outputId": "49e97578-41a6-40f0-efa0-690157aeb900"
      },
      "execution_count": null,
      "outputs": [
        {
          "output_type": "stream",
          "name": "stdout",
          "text": [
            "\n",
            "Null Cells:\n",
            "approxdate    172452\n",
            "resolution    179471\n",
            "provstate        421\n",
            "city             435\n",
            "latitude        4556\n",
            "               ...  \n",
            "addnotes      153402\n",
            "scite1         66191\n",
            "scite2        104758\n",
            "scite3        138175\n",
            "related       156653\n",
            "Length: 106, dtype: int64\n",
            "\n",
            "Missing Values:\n",
            "approxdate    172452\n",
            "resolution    179471\n",
            "provstate        421\n",
            "city             435\n",
            "latitude        4556\n",
            "               ...  \n",
            "addnotes      153402\n",
            "scite1         66191\n",
            "scite2        104758\n",
            "scite3        138175\n",
            "related       156653\n",
            "Length: 106, dtype: int64\n"
          ]
        },
        {
          "output_type": "stream",
          "name": "stderr",
          "text": [
            "<ipython-input-9-4f90dcd2b568>:9: FutureWarning: Setting an item of incompatible dtype is deprecated and will raise in a future error of pandas. Value 'Unknown' has dtype incompatible with float64, please explicitly cast to a compatible dtype first.\n",
            "  df.fillna('Unknown', inplace=True)\n"
          ]
        }
      ]
    },
    {
      "cell_type": "code",
      "source": [
        "df.columns = [col.strip().lower().replace(' ', '_') for col in df.columns]"
      ],
      "metadata": {
        "id": "po7ISJBhkSBL"
      },
      "execution_count": null,
      "outputs": []
    },
    {
      "cell_type": "code",
      "source": [
        "print(\"Data Types:\")\n",
        "print(df.dtypes)"
      ],
      "metadata": {
        "colab": {
          "base_uri": "https://localhost:8080/"
        },
        "id": "c4CeKcXJq_c6",
        "outputId": "2b921de3-4b9c-4c4a-bf3c-8d4f0dc1f5e3"
      },
      "execution_count": null,
      "outputs": [
        {
          "output_type": "stream",
          "name": "stdout",
          "text": [
            "Data Types:\n",
            "eventid        int64\n",
            "iyear          int64\n",
            "imonth         int64\n",
            "iday           int64\n",
            "approxdate    object\n",
            "               ...  \n",
            "int_log        int64\n",
            "int_ideo       int64\n",
            "int_misc       int64\n",
            "int_any        int64\n",
            "related       object\n",
            "Length: 135, dtype: object\n"
          ]
        }
      ]
    },
    {
      "cell_type": "code",
      "source": [
        "numerical_columns = df.select_dtypes(include=['int64', 'float64']).columns\n",
        "print(\"Numerical Columns:\")\n",
        "print(numerical_columns)"
      ],
      "metadata": {
        "colab": {
          "base_uri": "https://localhost:8080/"
        },
        "id": "3kDnRDVqrDiv",
        "outputId": "df06279f-6e74-41c8-a6b2-e51ec030a56b"
      },
      "execution_count": null,
      "outputs": [
        {
          "output_type": "stream",
          "name": "stdout",
          "text": [
            "Numerical Columns:\n",
            "Index(['eventid', 'iyear', 'imonth', 'iday', 'extended', 'country', 'region',\n",
            "       'vicinity', 'crit1', 'crit2', 'crit3', 'success', 'suicide',\n",
            "       'attacktype1', 'targtype1', 'individual', 'weaptype1', 'property',\n",
            "       'int_log', 'int_ideo', 'int_misc', 'int_any'],\n",
            "      dtype='object')\n"
          ]
        }
      ]
    },
    {
      "cell_type": "code",
      "source": [
        "scaler = MinMaxScaler()\n",
        "df[numerical_columns] = scaler.fit_transform(df[numerical_columns])\n",
        "print(\"Normalized numerical columns:\")\n",
        "print(df.head())"
      ],
      "metadata": {
        "colab": {
          "base_uri": "https://localhost:8080/"
        },
        "id": "-9ddjfyWrEYg",
        "outputId": "1118d703-24c2-4d01-a26d-2024f394a302"
      },
      "execution_count": null,
      "outputs": [
        {
          "output_type": "stream",
          "name": "stdout",
          "text": [
            "Normalized numerical columns:\n",
            "        eventid  iyear    imonth      iday approxdate  extended resolution  \\\n",
            "0  0.000000e+00    0.0  0.583333  0.064516    Unknown       0.0    Unknown   \n",
            "1  2.122107e-10    0.0  0.000000  0.000000    Unknown       0.0    Unknown   \n",
            "2  2.122101e-04    0.0  0.083333  0.000000    Unknown       0.0    Unknown   \n",
            "3  2.122104e-04    0.0  0.083333  0.000000    Unknown       0.0    Unknown   \n",
            "4  2.122106e-04    0.0  0.083333  0.000000    Unknown       0.0    Unknown   \n",
            "\n",
            "   country         country_txt    region  ... addnotes   scite1   scite2  \\\n",
            "0    0.054  Dominican Republic  0.090909  ...  Unknown  Unknown  Unknown   \n",
            "1    0.126              Mexico  0.000000  ...  Unknown  Unknown  Unknown   \n",
            "2    0.156         Philippines  0.363636  ...  Unknown  Unknown  Unknown   \n",
            "3    0.074              Greece  0.636364  ...  Unknown  Unknown  Unknown   \n",
            "4    0.097               Japan  0.272727  ...  Unknown  Unknown  Unknown   \n",
            "\n",
            "    scite3 dbsource int_log  int_ideo int_misc int_any  related  \n",
            "0  Unknown     PGIS     0.9       0.9      0.9     0.9  Unknown  \n",
            "1  Unknown     PGIS     0.9       1.0      1.0     1.0  Unknown  \n",
            "2  Unknown     PGIS     0.0       0.0      1.0     1.0  Unknown  \n",
            "3  Unknown     PGIS     0.0       0.0      1.0     1.0  Unknown  \n",
            "4  Unknown     PGIS     0.0       0.0      1.0     1.0  Unknown  \n",
            "\n",
            "[5 rows x 135 columns]\n"
          ]
        }
      ]
    },
    {
      "cell_type": "code",
      "source": [
        "standard_scaler = StandardScaler()\n",
        "df[numerical_columns] = standard_scaler.fit_transform(df[numerical_columns])\n",
        "print(\"Standardized numerical columns:\")\n",
        "print(df.head())"
      ],
      "metadata": {
        "colab": {
          "base_uri": "https://localhost:8080/"
        },
        "id": "RkfrRZ83rSJ0",
        "outputId": "6cb81d1a-740e-4b53-c1b3-490229f01c94"
      },
      "execution_count": null,
      "outputs": [
        {
          "output_type": "stream",
          "name": "stdout",
          "text": [
            "Standardized numerical columns:\n",
            "    eventid     iyear    imonth      iday approxdate  extended resolution  \\\n",
            "0 -2.466545 -2.461575  0.157225 -1.532291    Unknown -0.217945    Unknown   \n",
            "1 -2.466545 -2.461575 -1.908712 -1.759202    Unknown -0.217945    Unknown   \n",
            "2 -2.465791 -2.461575 -1.613578 -1.759202    Unknown -0.217945    Unknown   \n",
            "3 -2.465791 -2.461575 -1.613578 -1.759202    Unknown -0.217945    Unknown   \n",
            "4 -2.465791 -2.461575 -1.613578 -1.759202    Unknown -0.217945    Unknown   \n",
            "\n",
            "    country         country_txt    region  ... addnotes   scite1   scite2  \\\n",
            "0 -0.657999  Dominican Republic -1.759371  ...  Unknown  Unknown  Unknown   \n",
            "1 -0.017511              Mexico -2.100272  ...  Unknown  Unknown  Unknown   \n",
            "2  0.249359         Philippines -0.736667  ...  Unknown  Unknown  Unknown   \n",
            "3 -0.480086              Greece  0.286037  ...  Unknown  Unknown  Unknown   \n",
            "4 -0.275486               Japan -1.077568  ...  Unknown  Unknown  Unknown   \n",
            "\n",
            "    scite3 dbsource   int_log  int_ideo  int_misc   int_any  related  \n",
            "0  Unknown     PGIS  1.000043  0.962748 -0.158341  0.841119  Unknown  \n",
            "1  Unknown     PGIS  1.000043  1.178399  1.600811  1.054279  Unknown  \n",
            "2  Unknown     PGIS -0.980794 -0.978103  1.600811  1.054279  Unknown  \n",
            "3  Unknown     PGIS -0.980794 -0.978103  1.600811  1.054279  Unknown  \n",
            "4  Unknown     PGIS -0.980794 -0.978103  1.600811  1.054279  Unknown  \n",
            "\n",
            "[5 rows x 135 columns]\n"
          ]
        }
      ]
    },
    {
      "cell_type": "code",
      "source": [
        "categorical_columns = [\n",
        "    'country', 'region', 'provstate', 'city', 'attacktype1_txt',\n",
        "    'targtype1_txt', 'targsubtype1_txt', 'gname', 'claimmode_txt',\n",
        "    'weaptype1_txt', 'weapsubtype1_txt', 'propextent_txt', 'hostkidoutcome_txt'\n",
        "]\n",
        "\n",
        "df_encoded = pd.get_dummies(df, columns=categorical_columns)\n",
        "print(\"One-hot encoded columns:\")\n",
        "print(df_encoded.head())"
      ],
      "metadata": {
        "id": "Z-kqZLMHk3TR"
      },
      "execution_count": null,
      "outputs": []
    },
    {
      "cell_type": "code",
      "source": [
        "standard_scaler = StandardScaler()\n",
        "df[numerical_columns] = standard_scaler.fit_transform(df[numerical_columns])\n",
        "print(\"Standardized numerical columns:\")\n",
        "print(df.head())"
      ],
      "metadata": {
        "id": "GoEk37niqkws"
      },
      "execution_count": null,
      "outputs": []
    },
    {
      "cell_type": "code",
      "source": [
        "print(\"Summary Statistics:\")\n",
        "print(df.describe())\n",
        "print(\"\\nCategorical Columns Summary:\")\n",
        "print(df.select_dtypes(include=['object']).describe())"
      ],
      "metadata": {
        "id": "JMMLA-NUq7eY"
      },
      "execution_count": null,
      "outputs": []
    },
    {
      "cell_type": "code",
      "source": [
        "df['iyear'].value_counts().sort_index().plot(kind='bar')\n",
        "plt.title('Number of Attacks Per Year')\n",
        "plt.xlabel('Year')\n",
        "plt.ylabel('Number of Attacks')\n",
        "plt.show()"
      ],
      "metadata": {
        "id": "LkS1Aat7rpnd"
      },
      "execution_count": null,
      "outputs": []
    },
    {
      "cell_type": "code",
      "source": [
        "df['country_txt'].value_counts().head(10).plot(kind='bar')\n",
        "plt.title('Top 10 Countries by Number of Attacks')\n",
        "plt.xlabel('Country')\n",
        "plt.ylabel('Number of Attacks')\n",
        "plt.show()"
      ],
      "metadata": {
        "id": "ljZYuFRHrvgD"
      },
      "execution_count": null,
      "outputs": []
    },
    {
      "cell_type": "code",
      "source": [
        "correlation_matrix = df.corr()\n",
        "plt.figure(figsize=(12, 8))\n",
        "sns.heatmap(correlation_matrix, annot=True, cmap='coolwarm', center=0)\n",
        "plt.title('Correlation Matrix')\n",
        "plt.show()"
      ],
      "metadata": {
        "id": "srfULikRr0gP"
      },
      "execution_count": null,
      "outputs": []
    },
    {
      "cell_type": "code",
      "source": [
        "plt.figure(figsize=(10, 6))\n",
        "msno.matrix(df)\n",
        "plt.show()"
      ],
      "metadata": {
        "id": "jzaBoeHhr4kO"
      },
      "execution_count": null,
      "outputs": []
    },
    {
      "cell_type": "code",
      "source": [
        "df['attacktype1_txt'].value_counts().plot(kind='bar')\n",
        "plt.title('Distribution of Attack Types')\n",
        "plt.xlabel('Attack Type')\n",
        "plt.ylabel('Frequency')\n",
        "plt.show()"
      ],
      "metadata": {
        "id": "WPCoUKxtsCJX"
      },
      "execution_count": null,
      "outputs": []
    },
    {
      "cell_type": "code",
      "source": [
        "df[['nkill', 'nwound']].fillna(0).sum().plot(kind='bar')\n",
        "plt.title('Total Casualties')\n",
        "plt.xlabel('Casualty Type')\n",
        "plt.ylabel('Number of Casualties')\n",
        "plt.show()"
      ],
      "metadata": {
        "id": "j2GjhBuDsC9n"
      },
      "execution_count": null,
      "outputs": []
    },
    {
      "cell_type": "code",
      "source": [
        "world = gpd.read_file(gpd.datasets.get_path('naturalearth_lowres'))\n",
        "gdf = gpd.GeoDataFrame(df, geometry=gpd.points_from_xy(df.longitude, df.latitude))\n",
        "\n",
        "fig, ax = plt.subplots(1, 1, figsize=(15, 10))\n",
        "divider = make_axes_locatable(ax)\n",
        "cax = divider.append_axes(\"right\", size=\"5%\", pad=0.1)\n",
        "\n",
        "world.boundary.plot(ax=ax, linewidth=1)\n",
        "gdf.plot(ax=ax, markersize=10, color='red', alpha=0.5)\n",
        "plt.title('Geographical Distribution of Terrorism Events')\n",
        "plt.show()"
      ],
      "metadata": {
        "id": "iW_VQiqHsPGe"
      },
      "execution_count": null,
      "outputs": []
    },
    {
      "cell_type": "code",
      "source": [
        "df['motive'].value_counts().head(10).plot(kind='bar')\n",
        "plt.title('Top 10 Motives')\n",
        "plt.xlabel('Motive')\n",
        "plt.ylabel('Frequency')\n",
        "plt.show()"
      ],
      "metadata": {
        "id": "-mi9bGVssbU8"
      },
      "execution_count": null,
      "outputs": []
    },
    {
      "cell_type": "code",
      "source": [
        "df['gname'].value_counts().head(10).plot(kind='bar')\n",
        "plt.title('Top 10 Terrorist Groups')\n",
        "plt.xlabel('Group Name')\n",
        "plt.ylabel('Frequency')\n",
        "plt.show()"
      ],
      "metadata": {
        "id": "cyK4XrjGsPy_"
      },
      "execution_count": null,
      "outputs": []
    }
  ]
}