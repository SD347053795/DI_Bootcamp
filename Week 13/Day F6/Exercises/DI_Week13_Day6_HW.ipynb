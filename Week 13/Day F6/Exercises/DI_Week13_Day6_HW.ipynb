{
  "nbformat": 4,
  "nbformat_minor": 0,
  "metadata": {
    "colab": {
      "provenance": []
    },
    "kernelspec": {
      "name": "python3",
      "display_name": "Python 3"
    },
    "language_info": {
      "name": "python"
    }
  },
  "cells": [
    {
      "cell_type": "markdown",
      "source": [
        "**Exercise 1**\n",
        "\n",
        "1. Getting the Data: I would start by collecting data from the financial institution. This includes details about the loan applicants, like their income, age, and job history, as well as their loan history, such as how much they borrowed and whether they paid it back on time.\n",
        "\n",
        "2. Looking at the Data:  I would carefully examine the data to spot any missing or strange values. I would fix any issues, like filling in missing information or removing outliers that don’t make sense.\n",
        "Then, I would explore the data to see how different factors relate to each other. For example, I would check if people with higher incomes are less likely to miss loan payments.\n",
        "\n",
        "3. Creating Useful Information: Sometimes the existing data isn’t enough, so I would create new features that could help. For example, I might calculate a debt-to-income ratio to understand how much debt someone has compared to their income.I would also make sure all the data is in a format that the model can use, like converting text categories (such as \"employed\" or \"unemployed\") into numbers.\n",
        "\n",
        "4. Choosing a Model:  I would select a few different machine learning algorithms that might work well for predicting whether someone will default on their loan. I consider simple options like Logistic Regression or more complex ones like Random Forests or Neural Networks.\n",
        "\n",
        "5. Training the Model: I split the data into a training set and a testing set. The training set is used to teach the model, and the testing set is for checking how well the model learned. Then train the model with the training data and fine-tune it to ensure it doesn’t just memorize the data but can generalize well to new data.\n",
        "\n",
        "6. Testing the Model: I would use the testing set to evaluate how well the model predicts loan defaults. I would check its accuracy and see if it correctly identifies who might default. I would then compare different models to determine which one performs best.\n",
        "\n",
        "7. Understanding the Model: Once I have a model that works well, I would try to understand its decisions. I then would look at which factors are most important in predicting defaults, like whether someone’s income or past loan history plays a bigger role.\n",
        "\n",
        "8. Using the Model: I would deploy the model by integrating it with the financial institution’s system, so it can help in making loan decisions.\n",
        "I would then monitor how the model performs over time, updating it when necessary to keep it accurate.\n"
      ],
      "metadata": {
        "id": "p5tPj5jxIjas"
      }
    },
    {
      "cell_type": "markdown",
      "source": [
        "**Exercise 2**\n",
        "\n",
        "1. Credit Score: It’s a strong indicator of how likely someone is to repay a loan.\n",
        "\n",
        "2. Repayment History: If someone has a history of not paying on time, they’re more likely to default again.\n",
        "\n",
        "3. Income: More income means a lower risk of default, making this a key factor.\n",
        "\n",
        "4. Debt-to-Income Ratio: This ratio compares how much debt someone has to their income. A higher ratio means they’re using a lot of their income to pay off debt.\n",
        "\n",
        "5. Loan Amount: A bigger loan might be riskier for someone to pay back, especially if their income isn’t high enough.\n",
        "\n",
        "6. Employment History: Stable jobs usually mean stable income. Frequent job changes might indicate less financial stability."
      ],
      "metadata": {
        "id": "uOLkjxyoKOVM"
      }
    },
    {
      "cell_type": "markdown",
      "source": [
        "**Exercise 3**\n",
        "\n",
        "1. I’d first divide the data into two parts: one for training the model (about 80%) and another for testing it (about 20%). This way, I can see how well the model works on new data.\n",
        "\n",
        "2. To know how well the model is doing, I’d look at the following:\n",
        "\n",
        "2a. **Accuracy:** This gives a general idea of how good the model is, but it might not be enough if most people in the data don’t default.\n",
        "\n",
        "2b. **Precision:**  It’s important to know this so we don’t wrongly predict that someone will default when they actually won’t.\n",
        "\n",
        "2c. **Recall (Sensitivity):**  It’s important to identify all possible defaults to reduce the risk of missed ones.\n",
        "\n",
        "3. I’d test the model on the testing data and calculate the above metrics. This will show how well the model can predict defaults for new data it hasn’t seen before.\n",
        "\n",
        "4. I'd Fine-tuning the model can help make it more accurate and reliable. Then It helps confirm that the model is reliable and not just good at one specific split of the data.\n",
        "\n",
        "5. Look to understand the mistakes helps me figure out how to make the model better."
      ],
      "metadata": {
        "id": "bsXtQGgA8kSm"
      }
    },
    {
      "cell_type": "markdown",
      "source": [
        "**Exercise 4**\n",
        "1. Predicting Stock Prices:\n",
        "Type of Machine Learning: Supervised Learning (Regression)\n",
        "Why: To predict future stock prices, I’d use past data (like previous prices) to learn patterns. Since we’re predicting a number (the price), regression is the best fit.\n",
        "\n",
        "2. Organizing a Library of Books:\n",
        "Type of Machine Learning: Unsupervised Learning (Clustering)\n",
        "Why: If I want to group books into categories without knowing their genres beforehand, I’d use unsupervised learning. Clustering can automatically sort books into groups based on their similarities, like content or author.\n",
        "\n",
        "3. Programming a Robot to Navigate a Maze:\n",
        "Type of Machine Learning: Reinforcement Learning\n",
        "Why: To help a robot find the shortest path in a maze, I’d use reinforcement learning. The robot learns by trying different paths and getting better over time, figuring out the best route through trial and error."
      ],
      "metadata": {
        "id": "CP0vY4q--VJE"
      }
    },
    {
      "cell_type": "markdown",
      "source": [
        "**Exercise 5**\n",
        "\n",
        "1. Supervised Learning Model (e.g., Classification):\n",
        "-Accuracy: Check the percentage of correct predictions.\n",
        "\n",
        "-Precision: Measure how many predicted positives (e.g., defaults) are actually correct.\n",
        "\n",
        "-Recall: See how well the model catches all actual positives.\n",
        "\n",
        "-F1-Score: Balance between precision and recall.\n",
        "\n",
        "-ROC-AUC: See how well the model separates the classes.\n",
        "\n",
        "Challenges:Imbalanced data can make accuracy misleading.\n",
        "Overfitting can occur, but cross-validation helps.\n",
        "\n",
        "2. Unsupervised Learning Model (e.g., Clustering):\n",
        "-Silhouette Score: Measure how well the points are clustered.\n",
        "\n",
        "-Elbow Method: Find the best number of clusters.\n",
        "\n",
        "-Cluster Metrics: Use additional metrics like the Davies-Bouldin index to check cluster quality.\n",
        "\n",
        "Challenges:No labels make evaluation harder.\n",
        "Picking the right number of clusters isn’t always clear.\n",
        "\n",
        "3. Reinforcement Learning Model:\n",
        "-Cumulative Reward: See how much total reward the model earns over time.\n",
        "\n",
        "-Convergence: Check if the model’s performance stabilizes.\n",
        "\n",
        "-Exploration vs. Exploitation: Balance trying new things with using what the model already knows.\n",
        "\n",
        "Challenges:Delayed rewards make learning connections harder.\n",
        "Ensuring the model finds the best strategy can be tough."
      ],
      "metadata": {
        "id": "aF-cpLZo-2U-"
      }
    }
  ]
}