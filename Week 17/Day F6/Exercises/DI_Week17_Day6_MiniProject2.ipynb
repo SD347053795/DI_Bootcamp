{
  "nbformat": 4,
  "nbformat_minor": 0,
  "metadata": {
    "colab": {
      "provenance": []
    },
    "kernelspec": {
      "name": "python3",
      "display_name": "Python 3"
    },
    "language_info": {
      "name": "python"
    }
  },
  "cells": [
    {
      "cell_type": "code",
      "source": [
        "!pip install pandas json gzip gemini\n",
        "!pip install openai\n",
        "!pip install openai==0.28`\n",
        "!pip install openai pandas\n",
        "!pip install openai pandas numpy\n",
        "!pip install --upgrade openai pandas\n",
        "!pip uninstall openai -y\n",
        "!pip install openai --upgrade"
      ],
      "metadata": {
        "colab": {
          "base_uri": "https://localhost:8080/"
        },
        "id": "qrf2MF3829ku",
        "outputId": "d25cbea5-db37-4ff9-cbbb-c4de4864bbc6",
        "collapsed": true
      },
      "execution_count": 11,
      "outputs": [
        {
          "output_type": "stream",
          "name": "stdout",
          "text": [
            "Requirement already satisfied: openai in /usr/local/lib/python3.10/dist-packages (1.44.0)\n",
            "Requirement already satisfied: pandas in /usr/local/lib/python3.10/dist-packages (2.2.2)\n",
            "Requirement already satisfied: anyio<5,>=3.5.0 in /usr/local/lib/python3.10/dist-packages (from openai) (3.7.1)\n",
            "Requirement already satisfied: distro<2,>=1.7.0 in /usr/lib/python3/dist-packages (from openai) (1.7.0)\n",
            "Requirement already satisfied: httpx<1,>=0.23.0 in /usr/local/lib/python3.10/dist-packages (from openai) (0.27.2)\n",
            "Requirement already satisfied: jiter<1,>=0.4.0 in /usr/local/lib/python3.10/dist-packages (from openai) (0.5.0)\n",
            "Requirement already satisfied: pydantic<3,>=1.9.0 in /usr/local/lib/python3.10/dist-packages (from openai) (2.8.2)\n",
            "Requirement already satisfied: sniffio in /usr/local/lib/python3.10/dist-packages (from openai) (1.3.1)\n",
            "Requirement already satisfied: tqdm>4 in /usr/local/lib/python3.10/dist-packages (from openai) (4.66.5)\n",
            "Requirement already satisfied: typing-extensions<5,>=4.11 in /usr/local/lib/python3.10/dist-packages (from openai) (4.12.2)\n",
            "Requirement already satisfied: numpy>=1.22.4 in /usr/local/lib/python3.10/dist-packages (from pandas) (1.26.4)\n",
            "Requirement already satisfied: python-dateutil>=2.8.2 in /usr/local/lib/python3.10/dist-packages (from pandas) (2.8.2)\n",
            "Requirement already satisfied: pytz>=2020.1 in /usr/local/lib/python3.10/dist-packages (from pandas) (2024.1)\n",
            "Requirement already satisfied: tzdata>=2022.7 in /usr/local/lib/python3.10/dist-packages (from pandas) (2024.1)\n",
            "Requirement already satisfied: idna>=2.8 in /usr/local/lib/python3.10/dist-packages (from anyio<5,>=3.5.0->openai) (3.8)\n",
            "Requirement already satisfied: exceptiongroup in /usr/local/lib/python3.10/dist-packages (from anyio<5,>=3.5.0->openai) (1.2.2)\n",
            "Requirement already satisfied: certifi in /usr/local/lib/python3.10/dist-packages (from httpx<1,>=0.23.0->openai) (2024.8.30)\n",
            "Requirement already satisfied: httpcore==1.* in /usr/local/lib/python3.10/dist-packages (from httpx<1,>=0.23.0->openai) (1.0.5)\n",
            "Requirement already satisfied: h11<0.15,>=0.13 in /usr/local/lib/python3.10/dist-packages (from httpcore==1.*->httpx<1,>=0.23.0->openai) (0.14.0)\n",
            "Requirement already satisfied: annotated-types>=0.4.0 in /usr/local/lib/python3.10/dist-packages (from pydantic<3,>=1.9.0->openai) (0.7.0)\n",
            "Requirement already satisfied: pydantic-core==2.20.1 in /usr/local/lib/python3.10/dist-packages (from pydantic<3,>=1.9.0->openai) (2.20.1)\n",
            "Requirement already satisfied: six>=1.5 in /usr/local/lib/python3.10/dist-packages (from python-dateutil>=2.8.2->pandas) (1.16.0)\n",
            "Found existing installation: openai 1.44.0\n",
            "Uninstalling openai-1.44.0:\n",
            "  Successfully uninstalled openai-1.44.0\n",
            "Collecting openai\n",
            "  Using cached openai-1.44.0-py3-none-any.whl.metadata (22 kB)\n",
            "Requirement already satisfied: anyio<5,>=3.5.0 in /usr/local/lib/python3.10/dist-packages (from openai) (3.7.1)\n",
            "Requirement already satisfied: distro<2,>=1.7.0 in /usr/lib/python3/dist-packages (from openai) (1.7.0)\n",
            "Requirement already satisfied: httpx<1,>=0.23.0 in /usr/local/lib/python3.10/dist-packages (from openai) (0.27.2)\n",
            "Requirement already satisfied: jiter<1,>=0.4.0 in /usr/local/lib/python3.10/dist-packages (from openai) (0.5.0)\n",
            "Requirement already satisfied: pydantic<3,>=1.9.0 in /usr/local/lib/python3.10/dist-packages (from openai) (2.8.2)\n",
            "Requirement already satisfied: sniffio in /usr/local/lib/python3.10/dist-packages (from openai) (1.3.1)\n",
            "Requirement already satisfied: tqdm>4 in /usr/local/lib/python3.10/dist-packages (from openai) (4.66.5)\n",
            "Requirement already satisfied: typing-extensions<5,>=4.11 in /usr/local/lib/python3.10/dist-packages (from openai) (4.12.2)\n",
            "Requirement already satisfied: idna>=2.8 in /usr/local/lib/python3.10/dist-packages (from anyio<5,>=3.5.0->openai) (3.8)\n",
            "Requirement already satisfied: exceptiongroup in /usr/local/lib/python3.10/dist-packages (from anyio<5,>=3.5.0->openai) (1.2.2)\n",
            "Requirement already satisfied: certifi in /usr/local/lib/python3.10/dist-packages (from httpx<1,>=0.23.0->openai) (2024.8.30)\n",
            "Requirement already satisfied: httpcore==1.* in /usr/local/lib/python3.10/dist-packages (from httpx<1,>=0.23.0->openai) (1.0.5)\n",
            "Requirement already satisfied: h11<0.15,>=0.13 in /usr/local/lib/python3.10/dist-packages (from httpcore==1.*->httpx<1,>=0.23.0->openai) (0.14.0)\n",
            "Requirement already satisfied: annotated-types>=0.4.0 in /usr/local/lib/python3.10/dist-packages (from pydantic<3,>=1.9.0->openai) (0.7.0)\n",
            "Requirement already satisfied: pydantic-core==2.20.1 in /usr/local/lib/python3.10/dist-packages (from pydantic<3,>=1.9.0->openai) (2.20.1)\n",
            "Using cached openai-1.44.0-py3-none-any.whl (367 kB)\n",
            "Installing collected packages: openai\n",
            "Successfully installed openai-1.44.0\n"
          ]
        }
      ]
    },
    {
      "cell_type": "code",
      "source": [
        "import openai\n",
        "import gzip\n",
        "import json\n",
        "import pandas as pd\n",
        "import numpy as np\n",
        "import matplotlib.pyplot as plt\n",
        "import seaborn as sns\n",
        "import os"
      ],
      "metadata": {
        "id": "PQC1XSOuLm4j"
      },
      "execution_count": null,
      "outputs": []
    },
    {
      "cell_type": "code",
      "source": [
        "file_path = 'Music_Instruments_5.json.gz'\n",
        "\n",
        "def parse_json(file_path):\n",
        "    with gzip.open(file_path, 'rb') as f:\n",
        "        for line in f:\n",
        "            yield json.loads(line)\n",
        "\n",
        "data = list(parse_json(file_path))\n",
        "df = pd.DataFrame(data)\n",
        "df = df[['reviewText', 'overall', 'summary']]\n",
        "df.dropna(subset=['reviewText', 'overall', 'summary'], inplace=True)\n",
        "df.head()"
      ],
      "metadata": {
        "id": "W01GtAD9LnCV"
      },
      "execution_count": null,
      "outputs": []
    },
    {
      "cell_type": "code",
      "source": [
        "#openai.api_key = '___'"
      ],
      "metadata": {
        "id": "Hzc7ApUM3VZW"
      },
      "execution_count": 2,
      "outputs": []
    },
    {
      "cell_type": "code",
      "source": [
        "def analyze_reviews_with_gpt(reviews, analysis_type=\"themes\"):\n",
        "    responses = []\n",
        "\n",
        "    if analysis_type == \"themes\":\n",
        "        prompt = \"Analyze the common themes found in the following review:\\n\\n{}\"\n",
        "    elif analysis_type == \"sentiment\":\n",
        "        prompt = \"Analyze the sentiment (positive, neutral, negative) of the following review:\\n\\n{}\"\n",
        "    elif analysis_type == \"improvement_suggestions\":\n",
        "        prompt = \"Based on the following review, what improvements can be made?\\n\\n{}\"\n",
        "    else:\n",
        "        raise ValueError(\"Invalid analysis type. Choose from 'themes', 'sentiment', or 'improvement_suggestions'.\")\n",
        "    for review in reviews:\n",
        "        # Formulate the query\n",
        "        response = openai.Completion.create(\n",
        "            model=\"gpt-3.5-turbo\",\n",
        "            prompt=prompt.format(review),\n",
        "            max_tokens=100,\n",
        "            n=1,\n",
        "            stop=None,\n",
        "            temperature=0.7,\n",
        "        )\n",
        "        responses.append(response.choices[0].text.strip())\n",
        "\n",
        "    return responses\n",
        "\n",
        "sample_reviews = df['reviewText'].head(5).tolist()\n",
        "\n",
        "themes = analyze_reviews_with_gpt(sample_reviews, analysis_type=\"themes\")\n",
        "print(\"Common Themes:\", themes)\n",
        "\n",
        "sentiments = analyze_reviews_with_gpt(sample_reviews, analysis_type=\"sentiment\")\n",
        "print(\"Sentiments:\", sentiments)\n",
        "\n",
        "improvement_suggestions = analyze_reviews_with_gpt(sample_reviews, analysis_type=\"improvement_suggestions\")\n",
        "print(\"Improvement Suggestions:\", improvement_suggestions)"
      ],
      "metadata": {
        "id": "1avyq1l0NTPu"
      },
      "execution_count": null,
      "outputs": []
    },
    {
      "cell_type": "code",
      "source": [
        "df = df[['reviewText', 'summary']]\n",
        "df.dropna(subset=['reviewText', 'summary'], inplace=True)\n",
        "\n",
        "def analyze_reviews_with_gpt(reviews, analysis_type=\"themes\"):\n",
        "    responses = []\n",
        "\n",
        "    if analysis_type == \"themes\":\n",
        "        prompt = \"Analyze the common themes found in the following review:\\n\\n{}\"\n",
        "    elif analysis_type == \"sentiment\":\n",
        "        prompt = \"Analyze the sentiment (positive, neutral, negative) of the following review:\\n\\n{}\"\n",
        "    elif analysis_type == \"improvement_suggestions\":\n",
        "        prompt = \"Based on the following review, what improvements can be made?\\n\\n{}\"\n",
        "    else:\n",
        "        raise ValueError(\"Invalid analysis type. Choose from 'themes', 'sentiment', or 'improvement_suggestions'.\")\n",
        "    for review in reviews:\n",
        "        # Formulate the query\n",
        "        response = openai.Completion.create(\n",
        "            model=\"gpt-3.5-turbo\",\n",
        "            prompt=prompt.format(review),\n",
        "            max_tokens=100,\n",
        "            n=1,\n",
        "            stop=None,\n",
        "            temperature=0.7,\n",
        "        )\n",
        "        responses.append(response.choices[0].text.strip())\n",
        "\n",
        "    return responses\n",
        "\n",
        "sample_reviews = df['reviewText'].sample(50).tolist()\n",
        "themes = analyze_reviews_with_gpt(sample_reviews, analysis_type=\"themes\")\n",
        "sentiments = analyze_reviews_with_gpt(sample_reviews, analysis_type=\"sentiment\")\n",
        "result_df = pd.DataFrame({\n",
        "    'reviewText': sample_reviews,\n",
        "    'Themes': themes,\n",
        "    'Sentiment': sentiments\n",
        "})\n",
        "\n",
        "result_df.head()"
      ],
      "metadata": {
        "id": "uaiZbyDUOQwQ"
      },
      "execution_count": null,
      "outputs": []
    },
    {
      "cell_type": "code",
      "source": [
        "common_themes = result_df['Themes'].value_counts().head(10)\n",
        "sentiment_summary = result_df['Sentiment'].value_counts()\n",
        "print(\"Most Common Themes:\\n\", common_themes)\n",
        "print(\"\\nSentiment Distribution:\\n\", sentiment_summary)"
      ],
      "metadata": {
        "id": "Seie1rNFPtK4"
      },
      "execution_count": null,
      "outputs": []
    },
    {
      "cell_type": "code",
      "source": [
        "sns.set(style=\"whitegrid\")\n",
        "\n",
        "def plot_common_themes(theme_data):\n",
        "    plt.figure(figsize=(10, 6))\n",
        "    sns.barplot(x=theme_data.values, y=theme_data.index, palette=\"Blues_d\")\n",
        "    plt.title(\"Most Common Themes in Reviews\", fontsize=16)\n",
        "    plt.xlabel(\"Frequency\", fontsize=14)\n",
        "    plt.ylabel(\"Themes\", fontsize=14)\n",
        "    plt.show()\n",
        "\n",
        "def plot_sentiment_distribution(sentiment_data):\n",
        "    plt.figure(figsize=(7, 7))\n",
        "    plt.pie(sentiment_data.values, labels=sentiment_data.index, autopct='%1.1f%%', startangle=90, colors=['#4CAF50', '#FFC107', '#F44336'])\n",
        "    plt.title(\"Sentiment Distribution of Reviews\", fontsize=16)\n",
        "    plt.axis('equal')\n",
        "    plt.show()\n",
        "\n",
        "common_themes = result_df['Themes'].value_counts().head(10)\n",
        "sentiment_summary = result_df['Sentiment'].value_counts()\n",
        "plot_common_themes(common_themes)\n",
        "plot_sentiment_distribution(sentiment_summary)"
      ],
      "metadata": {
        "id": "jrEAc1-KQEtg"
      },
      "execution_count": null,
      "outputs": []
    },
    {
      "cell_type": "markdown",
      "source": [
        "Alternative Method: for uploaded the data"
      ],
      "metadata": {
        "id": "4bmrQQgpORJt"
      }
    },
    {
      "cell_type": "code",
      "source": [
        "!pip install nltk textblob"
      ],
      "metadata": {
        "colab": {
          "base_uri": "https://localhost:8080/"
        },
        "collapsed": true,
        "id": "NTx84XdHbKXR",
        "outputId": "296d55cc-4c13-4d6f-8ff4-1a7e649c8a52"
      },
      "execution_count": 14,
      "outputs": [
        {
          "output_type": "stream",
          "name": "stdout",
          "text": [
            "Requirement already satisfied: nltk in /usr/local/lib/python3.10/dist-packages (3.8.1)\n",
            "Requirement already satisfied: textblob in /usr/local/lib/python3.10/dist-packages (0.17.1)\n",
            "Requirement already satisfied: click in /usr/local/lib/python3.10/dist-packages (from nltk) (8.1.7)\n",
            "Requirement already satisfied: joblib in /usr/local/lib/python3.10/dist-packages (from nltk) (1.4.2)\n",
            "Requirement already satisfied: regex>=2021.8.3 in /usr/local/lib/python3.10/dist-packages (from nltk) (2024.5.15)\n",
            "Requirement already satisfied: tqdm in /usr/local/lib/python3.10/dist-packages (from nltk) (4.66.5)\n"
          ]
        }
      ]
    },
    {
      "cell_type": "code",
      "source": [
        "import pandas as pd\n",
        "import numpy as np\n",
        "import matplotlib.pyplot as plt\n",
        "import seaborn as sns\n",
        "import os\n",
        "from textblob import TextBlob\n",
        "import nltk\n",
        "from nltk.corpus import stopwords\n",
        "from nltk.tokenize import word_tokenize\n",
        "from collections import Counter\n",
        "\n",
        "nltk.download('punkt')\n",
        "nltk.download('stopwords')"
      ],
      "metadata": {
        "colab": {
          "base_uri": "https://localhost:8080/"
        },
        "collapsed": true,
        "id": "xEKaute1alcT",
        "outputId": "9a4a8123-b0db-4f21-9dbe-ae9d155180bb"
      },
      "execution_count": 15,
      "outputs": [
        {
          "output_type": "stream",
          "name": "stderr",
          "text": [
            "[nltk_data] Downloading package punkt to /root/nltk_data...\n",
            "[nltk_data]   Package punkt is already up-to-date!\n",
            "[nltk_data] Downloading package stopwords to /root/nltk_data...\n",
            "[nltk_data]   Package stopwords is already up-to-date!\n"
          ]
        },
        {
          "output_type": "execute_result",
          "data": {
            "text/plain": [
              "True"
            ]
          },
          "metadata": {},
          "execution_count": 15
        }
      ]
    },
    {
      "cell_type": "code",
      "execution_count": 10,
      "metadata": {
        "colab": {
          "base_uri": "https://localhost:8080/"
        },
        "id": "aQPaBmo6kzyr",
        "outputId": "56f89885-239d-40a9-91ad-be35acdaa51a",
        "collapsed": true
      },
      "outputs": [
        {
          "output_type": "stream",
          "name": "stdout",
          "text": [
            "       reviewerID        asin  \\\n",
            "0  A2IBPI20UZIR0U  1384719342   \n",
            "1  A14VAT5EAX3D9S  1384719342   \n",
            "2  A195EZSQDW3E21  1384719342   \n",
            "3  A2C00NNG1ZQQG2  1384719342   \n",
            "4   A94QU4C90B1AX  1384719342   \n",
            "\n",
            "                                       reviewerName   helpful  \\\n",
            "0  cassandra tu \"Yeah, well, that's just like, u...    [0, 0]   \n",
            "1                                              Jake  [13, 14]   \n",
            "2                     Rick Bennette \"Rick Bennette\"    [1, 1]   \n",
            "3                         RustyBill \"Sunday Rocker\"    [0, 0]   \n",
            "4                                     SEAN MASLANKA    [0, 0]   \n",
            "\n",
            "                                          reviewText  overall  \\\n",
            "0  Not much to write about here, but it does exac...      5.0   \n",
            "1  The product does exactly as it should and is q...      5.0   \n",
            "2  The primary job of this device is to block the...      5.0   \n",
            "3  Nice windscreen protects my MXL mic and preven...      5.0   \n",
            "4  This pop filter is great. It looks and perform...      5.0   \n",
            "\n",
            "                                 summary  unixReviewTime   reviewTime  \n",
            "0                                   good      1393545600  02 28, 2014  \n",
            "1                                   Jake      1363392000  03 16, 2013  \n",
            "2                   It Does The Job Well      1377648000  08 28, 2013  \n",
            "3          GOOD WINDSCREEN FOR THE MONEY      1392336000  02 14, 2014  \n",
            "4  No more pops when I record my vocals.      1392940800  02 21, 2014  \n"
          ]
        }
      ],
      "source": [
        "file_path = 'Musical_instruments_reviews.csv'\n",
        "df = pd.read_csv(file_path)\n",
        "\n",
        "print(df.head())"
      ]
    },
    {
      "cell_type": "code",
      "source": [
        "df.info()\n",
        "df.columns\n",
        "df.describe()\n",
        "df.dtypes\n",
        "df = df.dropna(subset=['reviewText', 'overall', 'summary'])\n",
        "df.drop_duplicates()\n",
        "df.head()"
      ],
      "metadata": {
        "colab": {
          "base_uri": "https://localhost:8080/",
          "height": 588
        },
        "collapsed": true,
        "id": "5d-Zixfx6EC0",
        "outputId": "f673a036-5ba6-4585-a387-d59f871a68b7"
      },
      "execution_count": 11,
      "outputs": [
        {
          "output_type": "stream",
          "name": "stdout",
          "text": [
            "<class 'pandas.core.frame.DataFrame'>\n",
            "RangeIndex: 10261 entries, 0 to 10260\n",
            "Data columns (total 9 columns):\n",
            " #   Column          Non-Null Count  Dtype  \n",
            "---  ------          --------------  -----  \n",
            " 0   reviewerID      10261 non-null  object \n",
            " 1   asin            10261 non-null  object \n",
            " 2   reviewerName    10234 non-null  object \n",
            " 3   helpful         10261 non-null  object \n",
            " 4   reviewText      10254 non-null  object \n",
            " 5   overall         10261 non-null  float64\n",
            " 6   summary         10261 non-null  object \n",
            " 7   unixReviewTime  10261 non-null  int64  \n",
            " 8   reviewTime      10261 non-null  object \n",
            "dtypes: float64(1), int64(1), object(7)\n",
            "memory usage: 721.6+ KB\n"
          ]
        },
        {
          "output_type": "execute_result",
          "data": {
            "text/plain": [
              "       reviewerID        asin  \\\n",
              "0  A2IBPI20UZIR0U  1384719342   \n",
              "1  A14VAT5EAX3D9S  1384719342   \n",
              "2  A195EZSQDW3E21  1384719342   \n",
              "3  A2C00NNG1ZQQG2  1384719342   \n",
              "4   A94QU4C90B1AX  1384719342   \n",
              "\n",
              "                                       reviewerName   helpful  \\\n",
              "0  cassandra tu \"Yeah, well, that's just like, u...    [0, 0]   \n",
              "1                                              Jake  [13, 14]   \n",
              "2                     Rick Bennette \"Rick Bennette\"    [1, 1]   \n",
              "3                         RustyBill \"Sunday Rocker\"    [0, 0]   \n",
              "4                                     SEAN MASLANKA    [0, 0]   \n",
              "\n",
              "                                          reviewText  overall  \\\n",
              "0  Not much to write about here, but it does exac...      5.0   \n",
              "1  The product does exactly as it should and is q...      5.0   \n",
              "2  The primary job of this device is to block the...      5.0   \n",
              "3  Nice windscreen protects my MXL mic and preven...      5.0   \n",
              "4  This pop filter is great. It looks and perform...      5.0   \n",
              "\n",
              "                                 summary  unixReviewTime   reviewTime  \n",
              "0                                   good      1393545600  02 28, 2014  \n",
              "1                                   Jake      1363392000  03 16, 2013  \n",
              "2                   It Does The Job Well      1377648000  08 28, 2013  \n",
              "3          GOOD WINDSCREEN FOR THE MONEY      1392336000  02 14, 2014  \n",
              "4  No more pops when I record my vocals.      1392940800  02 21, 2014  "
            ],
            "text/html": [
              "\n",
              "  <div id=\"df-ab022199-956c-4f16-ac90-dcde7ca908cb\" class=\"colab-df-container\">\n",
              "    <div>\n",
              "<style scoped>\n",
              "    .dataframe tbody tr th:only-of-type {\n",
              "        vertical-align: middle;\n",
              "    }\n",
              "\n",
              "    .dataframe tbody tr th {\n",
              "        vertical-align: top;\n",
              "    }\n",
              "\n",
              "    .dataframe thead th {\n",
              "        text-align: right;\n",
              "    }\n",
              "</style>\n",
              "<table border=\"1\" class=\"dataframe\">\n",
              "  <thead>\n",
              "    <tr style=\"text-align: right;\">\n",
              "      <th></th>\n",
              "      <th>reviewerID</th>\n",
              "      <th>asin</th>\n",
              "      <th>reviewerName</th>\n",
              "      <th>helpful</th>\n",
              "      <th>reviewText</th>\n",
              "      <th>overall</th>\n",
              "      <th>summary</th>\n",
              "      <th>unixReviewTime</th>\n",
              "      <th>reviewTime</th>\n",
              "    </tr>\n",
              "  </thead>\n",
              "  <tbody>\n",
              "    <tr>\n",
              "      <th>0</th>\n",
              "      <td>A2IBPI20UZIR0U</td>\n",
              "      <td>1384719342</td>\n",
              "      <td>cassandra tu \"Yeah, well, that's just like, u...</td>\n",
              "      <td>[0, 0]</td>\n",
              "      <td>Not much to write about here, but it does exac...</td>\n",
              "      <td>5.0</td>\n",
              "      <td>good</td>\n",
              "      <td>1393545600</td>\n",
              "      <td>02 28, 2014</td>\n",
              "    </tr>\n",
              "    <tr>\n",
              "      <th>1</th>\n",
              "      <td>A14VAT5EAX3D9S</td>\n",
              "      <td>1384719342</td>\n",
              "      <td>Jake</td>\n",
              "      <td>[13, 14]</td>\n",
              "      <td>The product does exactly as it should and is q...</td>\n",
              "      <td>5.0</td>\n",
              "      <td>Jake</td>\n",
              "      <td>1363392000</td>\n",
              "      <td>03 16, 2013</td>\n",
              "    </tr>\n",
              "    <tr>\n",
              "      <th>2</th>\n",
              "      <td>A195EZSQDW3E21</td>\n",
              "      <td>1384719342</td>\n",
              "      <td>Rick Bennette \"Rick Bennette\"</td>\n",
              "      <td>[1, 1]</td>\n",
              "      <td>The primary job of this device is to block the...</td>\n",
              "      <td>5.0</td>\n",
              "      <td>It Does The Job Well</td>\n",
              "      <td>1377648000</td>\n",
              "      <td>08 28, 2013</td>\n",
              "    </tr>\n",
              "    <tr>\n",
              "      <th>3</th>\n",
              "      <td>A2C00NNG1ZQQG2</td>\n",
              "      <td>1384719342</td>\n",
              "      <td>RustyBill \"Sunday Rocker\"</td>\n",
              "      <td>[0, 0]</td>\n",
              "      <td>Nice windscreen protects my MXL mic and preven...</td>\n",
              "      <td>5.0</td>\n",
              "      <td>GOOD WINDSCREEN FOR THE MONEY</td>\n",
              "      <td>1392336000</td>\n",
              "      <td>02 14, 2014</td>\n",
              "    </tr>\n",
              "    <tr>\n",
              "      <th>4</th>\n",
              "      <td>A94QU4C90B1AX</td>\n",
              "      <td>1384719342</td>\n",
              "      <td>SEAN MASLANKA</td>\n",
              "      <td>[0, 0]</td>\n",
              "      <td>This pop filter is great. It looks and perform...</td>\n",
              "      <td>5.0</td>\n",
              "      <td>No more pops when I record my vocals.</td>\n",
              "      <td>1392940800</td>\n",
              "      <td>02 21, 2014</td>\n",
              "    </tr>\n",
              "  </tbody>\n",
              "</table>\n",
              "</div>\n",
              "    <div class=\"colab-df-buttons\">\n",
              "\n",
              "  <div class=\"colab-df-container\">\n",
              "    <button class=\"colab-df-convert\" onclick=\"convertToInteractive('df-ab022199-956c-4f16-ac90-dcde7ca908cb')\"\n",
              "            title=\"Convert this dataframe to an interactive table.\"\n",
              "            style=\"display:none;\">\n",
              "\n",
              "  <svg xmlns=\"http://www.w3.org/2000/svg\" height=\"24px\" viewBox=\"0 -960 960 960\">\n",
              "    <path d=\"M120-120v-720h720v720H120Zm60-500h600v-160H180v160Zm220 220h160v-160H400v160Zm0 220h160v-160H400v160ZM180-400h160v-160H180v160Zm440 0h160v-160H620v160ZM180-180h160v-160H180v160Zm440 0h160v-160H620v160Z\"/>\n",
              "  </svg>\n",
              "    </button>\n",
              "\n",
              "  <style>\n",
              "    .colab-df-container {\n",
              "      display:flex;\n",
              "      gap: 12px;\n",
              "    }\n",
              "\n",
              "    .colab-df-convert {\n",
              "      background-color: #E8F0FE;\n",
              "      border: none;\n",
              "      border-radius: 50%;\n",
              "      cursor: pointer;\n",
              "      display: none;\n",
              "      fill: #1967D2;\n",
              "      height: 32px;\n",
              "      padding: 0 0 0 0;\n",
              "      width: 32px;\n",
              "    }\n",
              "\n",
              "    .colab-df-convert:hover {\n",
              "      background-color: #E2EBFA;\n",
              "      box-shadow: 0px 1px 2px rgba(60, 64, 67, 0.3), 0px 1px 3px 1px rgba(60, 64, 67, 0.15);\n",
              "      fill: #174EA6;\n",
              "    }\n",
              "\n",
              "    .colab-df-buttons div {\n",
              "      margin-bottom: 4px;\n",
              "    }\n",
              "\n",
              "    [theme=dark] .colab-df-convert {\n",
              "      background-color: #3B4455;\n",
              "      fill: #D2E3FC;\n",
              "    }\n",
              "\n",
              "    [theme=dark] .colab-df-convert:hover {\n",
              "      background-color: #434B5C;\n",
              "      box-shadow: 0px 1px 3px 1px rgba(0, 0, 0, 0.15);\n",
              "      filter: drop-shadow(0px 1px 2px rgba(0, 0, 0, 0.3));\n",
              "      fill: #FFFFFF;\n",
              "    }\n",
              "  </style>\n",
              "\n",
              "    <script>\n",
              "      const buttonEl =\n",
              "        document.querySelector('#df-ab022199-956c-4f16-ac90-dcde7ca908cb button.colab-df-convert');\n",
              "      buttonEl.style.display =\n",
              "        google.colab.kernel.accessAllowed ? 'block' : 'none';\n",
              "\n",
              "      async function convertToInteractive(key) {\n",
              "        const element = document.querySelector('#df-ab022199-956c-4f16-ac90-dcde7ca908cb');\n",
              "        const dataTable =\n",
              "          await google.colab.kernel.invokeFunction('convertToInteractive',\n",
              "                                                    [key], {});\n",
              "        if (!dataTable) return;\n",
              "\n",
              "        const docLinkHtml = 'Like what you see? Visit the ' +\n",
              "          '<a target=\"_blank\" href=https://colab.research.google.com/notebooks/data_table.ipynb>data table notebook</a>'\n",
              "          + ' to learn more about interactive tables.';\n",
              "        element.innerHTML = '';\n",
              "        dataTable['output_type'] = 'display_data';\n",
              "        await google.colab.output.renderOutput(dataTable, element);\n",
              "        const docLink = document.createElement('div');\n",
              "        docLink.innerHTML = docLinkHtml;\n",
              "        element.appendChild(docLink);\n",
              "      }\n",
              "    </script>\n",
              "  </div>\n",
              "\n",
              "\n",
              "<div id=\"df-22c75c18-8148-4021-895d-5b175890c6b7\">\n",
              "  <button class=\"colab-df-quickchart\" onclick=\"quickchart('df-22c75c18-8148-4021-895d-5b175890c6b7')\"\n",
              "            title=\"Suggest charts\"\n",
              "            style=\"display:none;\">\n",
              "\n",
              "<svg xmlns=\"http://www.w3.org/2000/svg\" height=\"24px\"viewBox=\"0 0 24 24\"\n",
              "     width=\"24px\">\n",
              "    <g>\n",
              "        <path d=\"M19 3H5c-1.1 0-2 .9-2 2v14c0 1.1.9 2 2 2h14c1.1 0 2-.9 2-2V5c0-1.1-.9-2-2-2zM9 17H7v-7h2v7zm4 0h-2V7h2v10zm4 0h-2v-4h2v4z\"/>\n",
              "    </g>\n",
              "</svg>\n",
              "  </button>\n",
              "\n",
              "<style>\n",
              "  .colab-df-quickchart {\n",
              "      --bg-color: #E8F0FE;\n",
              "      --fill-color: #1967D2;\n",
              "      --hover-bg-color: #E2EBFA;\n",
              "      --hover-fill-color: #174EA6;\n",
              "      --disabled-fill-color: #AAA;\n",
              "      --disabled-bg-color: #DDD;\n",
              "  }\n",
              "\n",
              "  [theme=dark] .colab-df-quickchart {\n",
              "      --bg-color: #3B4455;\n",
              "      --fill-color: #D2E3FC;\n",
              "      --hover-bg-color: #434B5C;\n",
              "      --hover-fill-color: #FFFFFF;\n",
              "      --disabled-bg-color: #3B4455;\n",
              "      --disabled-fill-color: #666;\n",
              "  }\n",
              "\n",
              "  .colab-df-quickchart {\n",
              "    background-color: var(--bg-color);\n",
              "    border: none;\n",
              "    border-radius: 50%;\n",
              "    cursor: pointer;\n",
              "    display: none;\n",
              "    fill: var(--fill-color);\n",
              "    height: 32px;\n",
              "    padding: 0;\n",
              "    width: 32px;\n",
              "  }\n",
              "\n",
              "  .colab-df-quickchart:hover {\n",
              "    background-color: var(--hover-bg-color);\n",
              "    box-shadow: 0 1px 2px rgba(60, 64, 67, 0.3), 0 1px 3px 1px rgba(60, 64, 67, 0.15);\n",
              "    fill: var(--button-hover-fill-color);\n",
              "  }\n",
              "\n",
              "  .colab-df-quickchart-complete:disabled,\n",
              "  .colab-df-quickchart-complete:disabled:hover {\n",
              "    background-color: var(--disabled-bg-color);\n",
              "    fill: var(--disabled-fill-color);\n",
              "    box-shadow: none;\n",
              "  }\n",
              "\n",
              "  .colab-df-spinner {\n",
              "    border: 2px solid var(--fill-color);\n",
              "    border-color: transparent;\n",
              "    border-bottom-color: var(--fill-color);\n",
              "    animation:\n",
              "      spin 1s steps(1) infinite;\n",
              "  }\n",
              "\n",
              "  @keyframes spin {\n",
              "    0% {\n",
              "      border-color: transparent;\n",
              "      border-bottom-color: var(--fill-color);\n",
              "      border-left-color: var(--fill-color);\n",
              "    }\n",
              "    20% {\n",
              "      border-color: transparent;\n",
              "      border-left-color: var(--fill-color);\n",
              "      border-top-color: var(--fill-color);\n",
              "    }\n",
              "    30% {\n",
              "      border-color: transparent;\n",
              "      border-left-color: var(--fill-color);\n",
              "      border-top-color: var(--fill-color);\n",
              "      border-right-color: var(--fill-color);\n",
              "    }\n",
              "    40% {\n",
              "      border-color: transparent;\n",
              "      border-right-color: var(--fill-color);\n",
              "      border-top-color: var(--fill-color);\n",
              "    }\n",
              "    60% {\n",
              "      border-color: transparent;\n",
              "      border-right-color: var(--fill-color);\n",
              "    }\n",
              "    80% {\n",
              "      border-color: transparent;\n",
              "      border-right-color: var(--fill-color);\n",
              "      border-bottom-color: var(--fill-color);\n",
              "    }\n",
              "    90% {\n",
              "      border-color: transparent;\n",
              "      border-bottom-color: var(--fill-color);\n",
              "    }\n",
              "  }\n",
              "</style>\n",
              "\n",
              "  <script>\n",
              "    async function quickchart(key) {\n",
              "      const quickchartButtonEl =\n",
              "        document.querySelector('#' + key + ' button');\n",
              "      quickchartButtonEl.disabled = true;  // To prevent multiple clicks.\n",
              "      quickchartButtonEl.classList.add('colab-df-spinner');\n",
              "      try {\n",
              "        const charts = await google.colab.kernel.invokeFunction(\n",
              "            'suggestCharts', [key], {});\n",
              "      } catch (error) {\n",
              "        console.error('Error during call to suggestCharts:', error);\n",
              "      }\n",
              "      quickchartButtonEl.classList.remove('colab-df-spinner');\n",
              "      quickchartButtonEl.classList.add('colab-df-quickchart-complete');\n",
              "    }\n",
              "    (() => {\n",
              "      let quickchartButtonEl =\n",
              "        document.querySelector('#df-22c75c18-8148-4021-895d-5b175890c6b7 button');\n",
              "      quickchartButtonEl.style.display =\n",
              "        google.colab.kernel.accessAllowed ? 'block' : 'none';\n",
              "    })();\n",
              "  </script>\n",
              "</div>\n",
              "\n",
              "    </div>\n",
              "  </div>\n"
            ],
            "application/vnd.google.colaboratory.intrinsic+json": {
              "type": "dataframe",
              "variable_name": "df",
              "summary": "{\n  \"name\": \"df\",\n  \"rows\": 10254,\n  \"fields\": [\n    {\n      \"column\": \"reviewerID\",\n      \"properties\": {\n        \"dtype\": \"category\",\n        \"num_unique_values\": 1429,\n        \"samples\": [\n          \"A3OJ0RGAECAGH8\",\n          \"AXMYGK3WC8BPP\",\n          \"A34WEXT7SIRFE4\"\n        ],\n        \"semantic_type\": \"\",\n        \"description\": \"\"\n      }\n    },\n    {\n      \"column\": \"asin\",\n      \"properties\": {\n        \"dtype\": \"category\",\n        \"num_unique_values\": 900,\n        \"samples\": [\n          \"B0002D0CNA\",\n          \"B007IHYBV2\",\n          \"B0002MJTZ8\"\n        ],\n        \"semantic_type\": \"\",\n        \"description\": \"\"\n      }\n    },\n    {\n      \"column\": \"reviewerName\",\n      \"properties\": {\n        \"dtype\": \"category\",\n        \"num_unique_values\": 1397,\n        \"samples\": [\n          \"K. Swanson\",\n          \"Ed Figueroa\",\n          \"Yakov Hadash\"\n        ],\n        \"semantic_type\": \"\",\n        \"description\": \"\"\n      }\n    },\n    {\n      \"column\": \"helpful\",\n      \"properties\": {\n        \"dtype\": \"category\",\n        \"num_unique_values\": 266,\n        \"samples\": [\n          \"[49, 50]\",\n          \"[6, 11]\",\n          \"[12, 14]\"\n        ],\n        \"semantic_type\": \"\",\n        \"description\": \"\"\n      }\n    },\n    {\n      \"column\": \"reviewText\",\n      \"properties\": {\n        \"dtype\": \"string\",\n        \"num_unique_values\": 10254,\n        \"samples\": [\n          \"It's hard not to love a cord that carries electrons all the way to the end. Not sure what, other than complete failure would take stars away.\",\n          \"I don't know if 39\\\" (from the top of the headstock to the bottom of the body {I know guitars are based on the size of the frets but no idea how to do that} ) is the normal size for an adult...However for $50 (its on sale at the time) even if its not I can still learn to play since thats why I bought it is to learn...The pick guard had some sort of plastic cover that was rough but doesn't really affect anything, since it seems like something was put on it to help shipping once removed the pick guard is fine.All togther whether its a full size adult or just one for kids its still pretty good.I am happy with it.Good clean sound, at least with my headphone amp (only amp I have).Comes with Whammy bar(thats what I know it as), one volume, two tone, the pickup sector switch, the cord that connects your guitar to your amp.**EDIT**So now that Amazon has grouped the guitar with many others (mostly the color differences) and that I have a little bit more knowlage of the guitar, not saying much really but a little bit, I have found that mine has two dead spots on the volume... Not much of an issue, for me at least but worth mentioning.\",\n          \"I bought this strap to use on an acoustic dreadnought guitar. I would have given this item 5 stars but even fully extended it is about 3&#34;-4&#34; too short. As for the quality of the strap, I love the look and feel of the leather. It has a worn and aged texture that looks great and it would be very comfortable to wear while playing if it were longer.My 2 cents in summary- I think for a classical acoustic guitar or for an electric, this strap would work much better. If you have a larger sized guitar, find a longer strap.\"\n        ],\n        \"semantic_type\": \"\",\n        \"description\": \"\"\n      }\n    },\n    {\n      \"column\": \"overall\",\n      \"properties\": {\n        \"dtype\": \"number\",\n        \"std\": 0.8948492079307543,\n        \"min\": 1.0,\n        \"max\": 5.0,\n        \"num_unique_values\": 5,\n        \"samples\": [\n          3.0,\n          1.0,\n          4.0\n        ],\n        \"semantic_type\": \"\",\n        \"description\": \"\"\n      }\n    },\n    {\n      \"column\": \"summary\",\n      \"properties\": {\n        \"dtype\": \"string\",\n        \"num_unique_values\": 8846,\n        \"samples\": [\n          \"Great for the money spent.\",\n          \"Great feel, Great look, LOVE IT!\",\n          \"Fantastic Mic for the Price\"\n        ],\n        \"semantic_type\": \"\",\n        \"description\": \"\"\n      }\n    },\n    {\n      \"column\": \"unixReviewTime\",\n      \"properties\": {\n        \"dtype\": \"number\",\n        \"std\": 37791719,\n        \"min\": 1095465600,\n        \"max\": 1405987200,\n        \"num_unique_values\": 1569,\n        \"samples\": [\n          1284249600,\n          1308700800,\n          1318204800\n        ],\n        \"semantic_type\": \"\",\n        \"description\": \"\"\n      }\n    },\n    {\n      \"column\": \"reviewTime\",\n      \"properties\": {\n        \"dtype\": \"object\",\n        \"num_unique_values\": 1569,\n        \"samples\": [\n          \"09 12, 2010\",\n          \"06 22, 2011\",\n          \"10 10, 2011\"\n        ],\n        \"semantic_type\": \"\",\n        \"description\": \"\"\n      }\n    }\n  ]\n}"
            }
          },
          "metadata": {},
          "execution_count": 11
        }
      ]
    },
    {
      "cell_type": "code",
      "source": [
        "print(f'Cleaned dataset shape: {df.shape}')"
      ],
      "metadata": {
        "colab": {
          "base_uri": "https://localhost:8080/"
        },
        "collapsed": true,
        "id": "zdVmdZwJa8Jq",
        "outputId": "805fad55-10d3-4147-909c-4ce9abc0759f"
      },
      "execution_count": 12,
      "outputs": [
        {
          "output_type": "stream",
          "name": "stdout",
          "text": [
            "Cleaned dataset shape: (10254, 9)\n"
          ]
        }
      ]
    },
    {
      "cell_type": "code",
      "source": [
        "def clean_text(text):\n",
        "    tokens = word_tokenize(text.lower())\n",
        "    tokens = [word for word in tokens if word.isalnum()]\n",
        "    tokens = [word for word in tokens if word not in stopwords.words('english')]\n",
        "    return tokens\n",
        "\n",
        "def analyze_sentiment(text):\n",
        "    blob = TextBlob(text)\n",
        "    return blob.sentiment.polarity\n",
        "\n",
        "df['sentiment'] = df['reviewText'].apply(analyze_sentiment)\n",
        "\n",
        "all_words = []\n",
        "for review in df['reviewText']:\n",
        "    all_words.extend(clean_text(review))\n",
        "\n",
        "word_freq = Counter(all_words)\n",
        "common_words = word_freq.most_common(10)\n",
        "\n",
        "print('Most common words:', common_words)"
      ],
      "metadata": {
        "colab": {
          "base_uri": "https://localhost:8080/"
        },
        "id": "gIhHqyu1bHJt",
        "outputId": "8733b59b-8a88-4360-e962-8f70e603fd16"
      },
      "execution_count": 17,
      "outputs": [
        {
          "output_type": "stream",
          "name": "stdout",
          "text": [
            "Most common words: [('guitar', 5472), ('one', 4402), ('great', 4026), ('like', 3897), ('use', 3724), ('good', 3720), ('sound', 3507), ('strings', 3349), ('well', 3042), ('get', 2657)]\n"
          ]
        }
      ]
    },
    {
      "cell_type": "code",
      "source": [
        "def summarize_sentiments(sentiments):\n",
        "    positive = len([s for s in sentiments if s > 0])\n",
        "    neutral = len([s for s in sentiments if s == 0])\n",
        "    negative = len([s for s in sentiments if s < 0])\n",
        "    total = len(sentiments)\n",
        "\n",
        "    return {\n",
        "        'positive': positive / total,\n",
        "        'neutral': neutral / total,\n",
        "        'negative': negative / total\n",
        "    }\n",
        "\n",
        "sentiment_summary = summarize_sentiments(df['sentiment'])\n",
        "print('Sentiment Summary:', sentiment_summary)"
      ],
      "metadata": {
        "colab": {
          "base_uri": "https://localhost:8080/"
        },
        "id": "3SyB3aOQbV6w",
        "outputId": "1312509f-1ec8-44f9-bf27-8eef2f9cb4e0"
      },
      "execution_count": 18,
      "outputs": [
        {
          "output_type": "stream",
          "name": "stdout",
          "text": [
            "Sentiment Summary: {'positive': 0.9171055197971524, 'neutral': 0.017261556465769455, 'negative': 0.06563292373707821}\n"
          ]
        }
      ]
    },
    {
      "cell_type": "code",
      "source": [
        "words, counts = zip(*common_words)\n",
        "plt.figure(figsize=(10, 5))\n",
        "plt.bar(words, counts)\n",
        "plt.xlabel('Words')\n",
        "plt.ylabel('Frequency')\n",
        "plt.title('Most Common Words in Reviews')\n",
        "plt.show()\n",
        "\n",
        "sentiment_labels = list(sentiment_summary.keys())\n",
        "sentiment_values = list(sentiment_summary.values())\n",
        "\n",
        "plt.figure(figsize=(8, 8))\n",
        "plt.pie(sentiment_values, labels=sentiment_labels, autopct='%1.1f%%', colors=['#4CAF50', '#FFC107', '#F44336'])\n",
        "plt.title('Sentiment Distribution')\n",
        "plt.show()"
      ],
      "metadata": {
        "colab": {
          "base_uri": "https://localhost:8080/",
          "height": 1000
        },
        "id": "QuEuLP9nbZDp",
        "outputId": "8a94f406-ce0c-46b8-8045-93fa460d0a2a"
      },
      "execution_count": 20,
      "outputs": [
        {
          "output_type": "display_data",
          "data": {
            "text/plain": [
              "<Figure size 1000x500 with 1 Axes>"
            ],
            "image/png": "[encoded data removed]"
          },
          "metadata": {}
        },
        {
          "output_type": "display_data",
          "data": {
            "text/plain": [
              "<Figure size 800x800 with 1 Axes>"
            ],
            "image/png": "[encoded data removed]"
          },
          "metadata": {}
        }
      ]
    }
  ]
}