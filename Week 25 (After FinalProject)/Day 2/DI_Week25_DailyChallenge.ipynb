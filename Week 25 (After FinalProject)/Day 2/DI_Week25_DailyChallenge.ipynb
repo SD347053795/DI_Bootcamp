{
  "nbformat": 4,
  "nbformat_minor": 0,
  "metadata": {
    "colab": {
      "provenance": []
    },
    "kernelspec": {
      "name": "python3",
      "display_name": "Python 3"
    },
    "language_info": {
      "name": "python"
    }
  },
  "cells": [
    {
      "cell_type": "code",
      "execution_count": null,
      "metadata": {
        "id": "1CRvIzf8L_t7"
      },
      "outputs": [],
      "source": [
        "import pandas as pd\n",
        "import sqlite3\n"
      ]
    },
    {
      "cell_type": "code",
      "source": [
        "conn = sqlite3.connect('Premier_League_dataset.sql')\n",
        "master_table = pd.read_sql_query(\"SELECT * FROM master\", conn)\n",
        "print(master_table.head())\n",
        "conn.close()"
      ],
      "metadata": {
        "id": "xOPhLBT2M854"
      },
      "execution_count": null,
      "outputs": []
    },
    {
      "cell_type": "code",
      "source": [
        "conn = sqlite3.connect('Premier_League_dataset.sql')\n",
        "query = \"SELECT * FROM Player_Match\"\n",
        "player_match_df = pd.read_sql_query(query, conn)\n",
        "print(player_match_df.head())\n",
        "conn.close()"
      ],
      "metadata": {
        "id": "6FPTNcBzODLC"
      },
      "execution_count": null,
      "outputs": []
    },
    {
      "cell_type": "code",
      "source": [
        "conn = sqlite3.connect('Premier_League_dataset.sql')\n",
        "query = \"\"\"\n",
        "SELECT batsman, SUM(runs) AS total_runs\n",
        "FROM Player_Match\n",
        "GROUP BY batsman\n",
        "ORDER BY total_runs DESC\n",
        "\"\"\"\n",
        "\n",
        "batsman_runs_df = pd.read_sql_query(query, conn)\n",
        "print(batsman_runs_df)\n",
        "conn.close()"
      ],
      "metadata": {
        "id": "dgfmUbM0ORTG"
      },
      "execution_count": null,
      "outputs": []
    },
    {
      "cell_type": "code",
      "source": [
        "conn = sqlite3.connect('Premier_League_dataset.sql')\n",
        "query = \"\"\"\n",
        "SELECT batsman,\n",
        "       SUM(CASE WHEN runs >= 50 AND runs < 100 THEN 1 ELSE 0 END) AS fifties,\n",
        "       SUM(CASE WHEN runs >= 100 THEN 1 ELSE 0 END) AS hundreds\n",
        "FROM Player_Match\n",
        "GROUP BY batsman\n",
        "ORDER BY batsman\n",
        "\"\"\"\n",
        "\n",
        "fifties_hundreds_df = pd.read_sql_query(query, conn)\n",
        "print(fifties_hundreds_df)\n",
        "conn.close()"
      ],
      "metadata": {
        "id": "VE9N74PdOT49"
      },
      "execution_count": null,
      "outputs": []
    },
    {
      "cell_type": "code",
      "source": [
        "conn = sqlite3.connect('Premier_League_dataset.sql')\n",
        "query = \"\"\"\n",
        "SELECT bowler,\n",
        "       MIN(runs_given) AS best_runs_given,\n",
        "       MAX(wickets) AS best_wickets\n",
        "FROM Player_Match\n",
        "GROUP BY bowler\n",
        "ORDER BY best_runs_given\n",
        "\"\"\"\n",
        "\n",
        "best_bowling_figures_df = pd.read_sql_query(query, conn)\n",
        "print(best_bowling_figures_df)\n",
        "conn.close()"
      ],
      "metadata": {
        "id": "ca49-rlsOntD"
      },
      "execution_count": null,
      "outputs": []
    },
    {
      "cell_type": "code",
      "source": [
        "conn = sqlite3.connect('Premier_League_dataset.sql')\n",
        "query = \"\"\"\n",
        "SELECT\n",
        "    batsman,\n",
        "    SUM(runs) AS total_runs,\n",
        "    SUM(CASE WHEN runs >= 50 AND runs < 100 THEN 1 ELSE 0 END) AS fifties,\n",
        "    SUM(CASE WHEN runs >= 100 THEN 1 ELSE 0 END) AS hundreds,\n",
        "    bowler,\n",
        "    MIN(runs_given) AS best_runs_given,\n",
        "    MAX(wickets) AS best_wickets\n",
        "FROM\n",
        "    Player_Match\n",
        "GROUP BY\n",
        "    batsman, bowler\n",
        "ORDER BY\n",
        "    total_runs DESC, best_runs_given\n",
        "\"\"\"\n",
        "\n",
        "comprehensive_metrics_df = pd.read_sql_query(query, conn)\n",
        "print(comprehensive_metrics_df)\n",
        "conn.close()"
      ],
      "metadata": {
        "id": "CZxo1GUFO6Dk"
      },
      "execution_count": null,
      "outputs": []
    }
  ]
}