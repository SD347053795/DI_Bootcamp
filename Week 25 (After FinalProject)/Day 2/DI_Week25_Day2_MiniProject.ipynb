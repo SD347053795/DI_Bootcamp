{
  "nbformat": 4,
  "nbformat_minor": 0,
  "metadata": {
    "colab": {
      "provenance": []
    },
    "kernelspec": {
      "name": "python3",
      "display_name": "Python 3"
    },
    "language_info": {
      "name": "python"
    }
  },
  "cells": [
    {
      "cell_type": "code",
      "source": [
        "import pandas as pd\n",
        "import numpy as np\n",
        "import sqlite3"
      ],
      "metadata": {
        "id": "a10TKcsrCUdK"
      },
      "execution_count": null,
      "outputs": []
    },
    {
      "cell_type": "code",
      "execution_count": null,
      "metadata": {
        "id": "TAu3ef7c_S0M"
      },
      "outputs": [],
      "source": [
        "df_olist_customers = pd.read_csv('/kaggle/input/brazilian-ecommerce/olist_customers_dataset.csv')\n",
        "df_olist_sellers = pd.read_csv('/kaggle/input/brazilian-ecommerce/olist_sellers_dataset.csv')\n",
        "df_olist_order_reviews= pd.read_csv('/kaggle/input/brazilian-ecommerce/olist_order_reviews_dataset.csv')\n",
        "df_olist_order_items= pd.read_csv('/kaggle/input/brazilian-ecommerce/olist_order_items_dataset.csv')\n",
        "df_olist_products= pd.read_csv('/kaggle/input/brazilian-ecommerce/olist_products_dataset.csv')\n",
        "df_olist_geolocation= pd.read_csv('/kaggle/input/brazilian-ecommerce/olist_geolocation_dataset.csv')\n",
        "df_product_category_name_translation= pd.read_csv('/kaggle/input/brazilian-ecommerce/product_category_name_translation.csv')\n",
        "df_olist_orders = pd.read_csv('/kaggle/input/brazilian-ecommerce/olist_orders_dataset.csv')\n",
        "df_olist_order_payments= pd.read_csv('/kaggle/input/brazilian-ecommerce/olist_order_payments_dataset.csv')\n",
        "\n",
        "df_olist_customers.head()\n",
        "\n",
        "from sqlalchemy import create_engine\n",
        "engine = create_engine('sqlite://', echo=False)\n",
        "\n",
        "# export the dataframe as a table 'playstore' to the sqlite engine\n",
        "df_olist_customers.to_sql(\"olist_customers\", con =engine)\n",
        "df_olist_sellers.to_sql(\"olist_sellers\", con =engine)\n",
        "df_olist_order_reviews.to_sql(\"olist_order_reviews\", con =engine)\n",
        "df_olist_order_items.to_sql(\"olist_order_items\", con =engine)\n",
        "df_olist_products.to_sql(\"olist_products_dataset\", con =engine)\n",
        "df_olist_geolocation.to_sql(\"olist_geolocation\", con =engine)\n",
        "df_product_category_name_translation.to_sql(\"product_category_name_translation\", con =engine)\n",
        "df_olist_orders.to_sql(\"olist_orders\", con =engine)\n",
        "df_olist_order_payments.to_sql(\"olist_order_payments\", con =engine)\n",
        "df_olist_order_payments.head()"
      ]
    },
    {
      "cell_type": "code",
      "source": [
        "sql='''\n",
        "\n",
        "Select * from olist_customers\n",
        "limit 5\n",
        "\n",
        "\n",
        "''';\n",
        "\n",
        "\n",
        "df_sql = pd.read_sql_query(sql,con=engine)\n",
        "df_sql.head()"
      ],
      "metadata": {
        "id": "LLtVHk3GIuxz"
      },
      "execution_count": null,
      "outputs": []
    },
    {
      "cell_type": "code",
      "source": [
        "# SQL query to count and calculate percentage of 5-star orders in January 2018\n",
        "sql = '''\n",
        "SELECT\n",
        "    COUNT(*) AS count_5_star_orders,\n",
        "    ROUND( (COUNT(*) * 100.0 / (SELECT COUNT(*) FROM olist_orders o\n",
        "                                WHERE strftime('%Y-%m', o.order_purchase_timestamp) = '2018-01')), 2) AS percentage_5_star_orders\n",
        "FROM olist_orders o\n",
        "JOIN olist_order_reviews r ON o.order_id = r.order_id\n",
        "WHERE strftime('%Y-%m', o.order_purchase_timestamp) = '2018-01'\n",
        "  AND r.review_score = 5;\n",
        "'''\n",
        "\n",
        "df_result = pd.read_sql_query(sql, con=engine)\n",
        "df_result"
      ],
      "metadata": {
        "id": "jIfMM5ISJLQd"
      },
      "execution_count": null,
      "outputs": []
    },
    {
      "cell_type": "code",
      "source": [
        "# SQL query to analyze customer purchase trend year-on-year\n",
        "sql = '''\n",
        "SELECT\n",
        "    strftime('%Y', o.order_purchase_timestamp) AS purchase_year,\n",
        "    COUNT(DISTINCT c.customer_unique_id) AS unique_customers\n",
        "FROM olist_orders o\n",
        "JOIN olist_customers c ON o.customer_id = c.customer_id\n",
        "GROUP BY purchase_year\n",
        "ORDER BY purchase_year;\n",
        "'''\n",
        "\n",
        "df_purchase_trend = pd.read_sql_query(sql, con=engine)\n",
        "df_purchase_trend"
      ],
      "metadata": {
        "id": "wpzmZfzXJQle"
      },
      "execution_count": null,
      "outputs": []
    },
    {
      "cell_type": "code",
      "source": [
        "# SQL query to calculate average order values of customers\n",
        "sql = '''\n",
        "SELECT\n",
        "    c.customer_unique_id,\n",
        "    AVG(oi.price) AS avg_order_value\n",
        "FROM olist_orders o\n",
        "JOIN olist_customers c ON o.customer_id = c.customer_id\n",
        "JOIN olist_order_items oi ON o.order_id = oi.order_id\n",
        "GROUP BY c.customer_unique_id\n",
        "ORDER BY avg_order_value DESC;\n",
        "'''\n",
        "\n",
        "df_avg_order_values = pd.read_sql_query(sql, con=engine)\n",
        "df_avg_order_values.head()"
      ],
      "metadata": {
        "id": "fvNTVtv3Ja5g"
      },
      "execution_count": null,
      "outputs": []
    },
    {
      "cell_type": "code",
      "source": [
        "# SQL query to find the top 5 cities with the highest revenue from 2016 to 2018\n",
        "sql = '''\n",
        "SELECT\n",
        "    g.geolocation_city AS city,\n",
        "    SUM(oi.price) AS total_revenue\n",
        "FROM olist_orders o\n",
        "JOIN olist_order_items oi ON o.order_id = oi.order_id\n",
        "JOIN olist_customers c ON o.customer_id = c.customer_id\n",
        "JOIN olist_geolocation g ON c.customer_zip_code_prefix = g.geolocation_zip_code_prefix\n",
        "WHERE strftime('%Y', o.order_purchase_timestamp) BETWEEN '2016' AND '2018'\n",
        "GROUP BY g.geolocation_city\n",
        "ORDER BY total_revenue DESC\n",
        "LIMIT 5;\n",
        "'''\n",
        "\n",
        "df_top_cities = pd.read_sql_query(sql, con=engine)\n",
        "df_top_cities"
      ],
      "metadata": {
        "id": "JegT7FfhJk4w"
      },
      "execution_count": null,
      "outputs": []
    },
    {
      "cell_type": "code",
      "source": [
        "# SQL query to create a state-wise revenue table between 2016 to 2018\n",
        "sql = '''\n",
        "SELECT\n",
        "    g.geolocation_state AS state,\n",
        "    SUM(oi.price) AS total_revenue\n",
        "FROM olist_orders o\n",
        "JOIN olist_order_items oi ON o.order_id = oi.order_id\n",
        "JOIN olist_customers c ON o.customer_id = c.customer_id\n",
        "JOIN olist_geolocation g ON c.customer_zip_code_prefix = g.geolocation_zip_code_prefix\n",
        "WHERE strftime('%Y', o.order_purchase_timestamp) BETWEEN '2016' AND '2018'\n",
        "GROUP BY g.geolocation_state\n",
        "ORDER BY total_revenue DESC;\n",
        "'''\n",
        "\n",
        "df_state_wise_revenue = pd.read_sql_query(sql, con=engine)\n",
        "df_state_wise_revenue"
      ],
      "metadata": {
        "id": "mqHpOKypJuwS"
      },
      "execution_count": null,
      "outputs": []
    },
    {
      "cell_type": "code",
      "source": [
        "# SQL query to identify top successful sellers in terms of goods sold, revenue, customer count, and 5-star ratings\n",
        "sql = '''\n",
        "SELECT\n",
        "    s.seller_id,\n",
        "    COUNT(DISTINCT oi.order_id) AS total_orders,\n",
        "    SUM(oi.price) AS total_revenue,\n",
        "    COUNT(DISTINCT o.customer_id) AS unique_customers,\n",
        "    SUM(CASE WHEN r.review_score = 5 THEN 1 ELSE 0 END) AS five_star_ratings\n",
        "FROM olist_order_items oi\n",
        "JOIN olist_orders o ON oi.order_id = o.order_id\n",
        "JOIN olist_sellers s ON oi.seller_id = s.seller_id\n",
        "JOIN olist_order_reviews r ON o.order_id = r.order_id\n",
        "GROUP BY s.seller_id\n",
        "ORDER BY total_revenue DESC, five_star_ratings DESC, total_orders DESC, unique_customers DESC\n",
        "LIMIT 10;\n",
        "'''\n",
        "\n",
        "df_top_sellers = pd.read_sql_query(sql, con=engine)\n",
        "df_top_sellers"
      ],
      "metadata": {
        "id": "B_fIn0aWJ4cb"
      },
      "execution_count": null,
      "outputs": []
    },
    {
      "cell_type": "code",
      "source": [
        "# SQL query to calculate the delivery success rate across different states\n",
        "sql = '''\n",
        "SELECT\n",
        "    g.geolocation_state AS state,\n",
        "    COUNT(o.order_id) AS total_orders,\n",
        "    SUM(CASE WHEN o.order_status = 'delivered' THEN 1 ELSE 0 END) AS delivered_orders,\n",
        "    ROUND((SUM(CASE WHEN o.order_status = 'delivered' THEN 1 ELSE 0 END) * 100.0 / COUNT(o.order_id)), 2) AS delivery_success_rate\n",
        "FROM olist_orders o\n",
        "JOIN olist_customers c ON o.customer_id = c.customer_id\n",
        "JOIN olist_geolocation g ON c.customer_zip_code_prefix = g.geolocation_zip_code_prefix\n",
        "GROUP BY g.geolocation_state\n",
        "ORDER BY delivery_success_rate DESC;\n",
        "'''\n",
        "\n",
        "df_delivery_success_rate = pd.read_sql_query(sql, con=engine)\n",
        "df_delivery_success_rate"
      ],
      "metadata": {
        "id": "57rQeJs0KGIx"
      },
      "execution_count": null,
      "outputs": []
    },
    {
      "cell_type": "code",
      "source": [
        "# SQL query to find the preferred form of payment for different product categories\n",
        "sql = '''\n",
        "SELECT\n",
        "    p.product_category_name,\n",
        "    p.payment_type,\n",
        "    COUNT(o.order_id) AS total_orders\n",
        "FROM olist_order_payments op\n",
        "JOIN olist_orders o ON op.order_id = o.order_id\n",
        "JOIN olist_order_items oi ON o.order_id = oi.order_id\n",
        "JOIN olist_products p ON oi.product_id = p.product_id\n",
        "GROUP BY p.product_category_name, op.payment_type\n",
        "ORDER BY p.product_category_name, total_orders DESC;\n",
        "'''\n",
        "\n",
        "df_preferred_payment = pd.read_sql_query(sql, con=engine)\n",
        "df_preferred_payment"
      ],
      "metadata": {
        "id": "J4YxRRpDKT_S"
      },
      "execution_count": null,
      "outputs": []
    },
    {
      "cell_type": "code",
      "source": [
        "# SQL query to calculate the distance between cities using the Haversine formula\n",
        "sql = '''\n",
        "WITH city_coordinates AS (\n",
        "    SELECT\n",
        "        g1.geolocation_city AS city1,\n",
        "        g1.geolocation_lat AS lat1,\n",
        "        g1.geolocation_lng AS lng1,\n",
        "        g2.geolocation_city AS city2,\n",
        "        g2.geolocation_lat AS lat2,\n",
        "        g2.geolocation_lng AS lng2\n",
        "    FROM olist_geolocation g1\n",
        "    JOIN olist_geolocation g2 ON g1.geolocation_city <> g2.geolocation_city\n",
        ")\n",
        "\n",
        "SELECT\n",
        "    city1,\n",
        "    city2,\n",
        "    ROUND(6371 *\n",
        "        acos(\n",
        "            cos(radians(lat1)) * cos(radians(lat2)) *\n",
        "            cos(radians(lng2) - radians(lng1)) +\n",
        "            sin(radians(lat1)) * sin(radians(lat2))\n",
        "        ), 2) AS distance_km\n",
        "FROM city_coordinates\n",
        "ORDER BY distance_km;\n",
        "'''\n",
        "\n",
        "df_city_distances = pd.read_sql_query(sql, con=engine)\n",
        "df_city_distances"
      ],
      "metadata": {
        "id": "sh3dG3s3Kchz"
      },
      "execution_count": null,
      "outputs": []
    }
  ]
}