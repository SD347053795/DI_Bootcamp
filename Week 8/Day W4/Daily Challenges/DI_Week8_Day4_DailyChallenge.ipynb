{
  "nbformat": 4,
  "nbformat_minor": 0,
  "metadata": {
    "colab": {
      "provenance": []
    },
    "kernelspec": {
      "name": "python3",
      "display_name": "Python 3"
    },
    "language_info": {
      "name": "python"
    }
  },
  "cells": [
    {
      "cell_type": "code",
      "execution_count": null,
      "metadata": {
        "id": "J9N7id1M6Csg"
      },
      "outputs": [],
      "source": [
        "import pandas as pd\n",
        "import matplotlib.pyplot as plt\n",
        "\n",
        "file_path = r\"C:\\Users\\Shmuel\\Desktop\\DI_Bootcamp\\Week 8\\Day M2\\Daily Challenges\\datascience_salaries.csv\"\n",
        "df = pd.read_csv(file_path)\n",
        "\n",
        "print(df.isnull().sum())\n",
        "\n",
        "print(df.duplicated().sum())\n",
        "\n",
        "df.dropna(inplace=True)\n",
        "\n",
        "df.drop_duplicates(inplace=True)\n",
        "\n",
        "salary_stats = df.groupby('experience_level')['salary'].agg(['mean', 'median'])\n",
        "\n",
        "fig, ax = plt.subplots(figsize=(10, 6))\n",
        "\n",
        "salary_stats['mean'].plot(kind='bar', color='skyblue', alpha=0.8, label='Mean Salary')\n",
        "salary_stats['median'].plot(kind='bar', color='orange', alpha=0.8, label='Median Salary')\n",
        "\n",
        "ax.set_title('Average Salaries by Experience Level')\n",
        "ax.set_xlabel('Experience Level')\n",
        "ax.set_ylabel('Salary')\n",
        "ax.legend()\n",
        "\n",
        "plt.tight_layout()\n",
        "plt.xticks(rotation=45)\n",
        "plt.show()"
      ]
    }
  ]
}