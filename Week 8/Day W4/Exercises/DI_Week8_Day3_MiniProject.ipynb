{
  "nbformat": 4,
  "nbformat_minor": 0,
  "metadata": {
    "colab": {
      "provenance": []
    },
    "kernelspec": {
      "name": "python3",
      "display_name": "Python 3"
    },
    "language_info": {
      "name": "python"
    }
  },
  "cells": [
    {
      "cell_type": "code",
      "execution_count": null,
      "metadata": {
        "id": "BGE-CFtb6qCl"
      },
      "outputs": [],
      "source": [
        "#Mental Health in Tech Survey\n",
        "import pandas as pd\n",
        "\n",
        "file_path = \"C:\\\\Users\\\\Shmuel\\\\Desktop\\\\DI_Bootcamp\\\\Week 8\\\\Day W4\\\\Exercises\\\\Mental_Health_in_Tech_Survey.csv\"\n",
        "df = pd.read_csv(file_path)\n",
        "\n",
        "df_cleaned = df.drop_duplicates()\n",
        "print(\"\\nDataFrame after removing duplicates:\")\n",
        "print(df_cleaned.shape)\n",
        "\n",
        "print(\"\\nDataFrame after handling null cells:\")\n",
        "print(df_cleaned.shape)\n",
        "\n",
        "cleaned_file_path = \"C:\\\\Users\\\\Shmuel\\\\Desktop\\\\DI_Bootcamp\\\\Week 8\\\\Day W4\\\\Exercises\\\\Mental_Health_in_Tech_Survey_Cleaned.csv\"\n",
        "df_cleaned.to_csv(cleaned_file_path, index=False)\n",
        "\n",
        "print(f\"\\nCleaned data has been saved to {cleaned_file_path}\")"
      ]
    },
    {
      "cell_type": "code",
      "source": [
        "#1. What is the distribution of mental health conditions among different age groups in the tech industry?\n",
        "import pandas as pd\n",
        "\n",
        "file_path = \"C:\\\\Users\\\\Shmuel\\\\Desktop\\\\DI_Bootcamp\\\\Week 8\\\\Day W4\\\\Exercises\\\\Mental_Health_in_Tech_Survey_Cleaned.csv\"\n",
        "df = pd.read_csv(file_path)\n",
        "\n",
        "df.dropna(subset=['mental_health_condition'], inplace=True)\n",
        "\n",
        "df = df[(df['age'] > 0) & (df['age'] < 100)]\n",
        "\n",
        "bins = [0, 18, 25, 35, 45, 55, 65, 100]\n",
        "labels = ['0-18', '19-25', '26-35', '36-45', '46-55', '56-65', '66-100']\n",
        "df['age_group'] = pd.cut(df['age'], bins=bins, labels=labels, right=False)\n",
        "\n",
        "grouped_age_mental_health = df.groupby(['age_group', 'mental_health_condition']).size().unstack()\n",
        "\n",
        "print(\"\\nDistribution of mental health conditions among different age groups:\")\n",
        "print(grouped_age_mental_health)\n"
      ],
      "metadata": {
        "id": "h_ilobkIUl89"
      },
      "execution_count": null,
      "outputs": []
    },
    {
      "cell_type": "code",
      "source": [
        "#2. How does the frequency of mental health issues vary by gender?\n",
        "import pandas as pd\n",
        "\n",
        "file_path = \"C:\\\\Users\\\\Shmuel\\\\Desktop\\\\DI_Bootcamp\\\\Week 8\\\\Day W4\\\\Exercises\\\\Mental_Health_in_Tech_Survey_Cleaned.csv\"\n",
        "df = pd.read_csv(file_path)\n",
        "\n",
        "df.dropna(subset=['mental_health_condition', 'gender'], inplace=True)\n",
        "\n",
        "df['gender'] = df['gender'].str.lower().str.strip()\n",
        "df['gender'] = df['gender'].replace({\n",
        "    'female': 'Female', 'male': 'Male', 'f': 'Female', 'm': 'Male',\n",
        "    'woman': 'Female', 'man': 'Male'\n",
        "})\n",
        "\n",
        "df['gender'] = df['gender'].apply(lambda x: x if x in ['Male', 'Female'] else 'Other')\n",
        "\n",
        "grouped_gender_mental_health = df.groupby(['gender', 'mental_health_condition']).size().unstack()\n",
        "\n",
        "print(\"\\nFrequency of mental health issues by gender:\")\n",
        "print(grouped_gender_mental_health)\n",
        "\n",
        "import matplotlib.pyplot as plt\n",
        "\n",
        "grouped_gender_mental_health.plot(kind='bar', stacked=True)\n",
        "plt.title('Frequency of Mental Health Issues by Gender')\n",
        "plt.xlabel('Gender')\n",
        "plt.ylabel('Count')\n",
        "plt.legend(title='Mental Health Condition')\n",
        "plt.show()"
      ],
      "metadata": {
        "id": "F_wtkjr7VW0m"
      },
      "execution_count": null,
      "outputs": []
    },
    {
      "cell_type": "code",
      "source": [
        "#3. Identify the countries with the highest and lowest reported rates of mental health issues in the tech industry.\n",
        "import pandas as pd\n",
        "\n",
        "file_path = \"C:\\\\Users\\\\Shmuel\\\\Desktop\\\\DI_Bootcamp\\\\Week 8\\\\Day W4\\\\Exercises\\\\Mental_Health_in_Tech_Survey_Cleaned.csv\"\n",
        "df = pd.read_csv(file_path)\n",
        "\n",
        "df.dropna(subset=['mental_health_condition', 'country'], inplace=True)\n",
        "\n",
        "df['country'] = df['country'].str.strip()\n",
        "\n",
        "country_mental_health = df.groupby('country')['mental_health_condition'].value_counts().unstack(fill_value=0)\n",
        "\n",
        "country_mental_health['total'] = country_mental_health.sum(axis=1)\n",
        "\n",
        "highest_country = country_mental_health['total'].idxmax()\n",
        "lowest_country = country_mental_health['total'].idxmin()\n",
        "\n",
        "print(\"\\nCountry with the highest reported rates of mental health issues:\")\n",
        "print(highest_country, country_mental_health.loc[highest_country])\n",
        "\n",
        "print(\"\\nCountry with the lowest reported rates of mental health issues:\")\n",
        "print(lowest_country, country_mental_health.loc[lowest_country])\n",
        "\n",
        "print(\"\\nReported mental health issues by country:\")\n",
        "print(country_mental_health)\n"
      ],
      "metadata": {
        "id": "-sVhpo_5VtbA"
      },
      "execution_count": null,
      "outputs": []
    },
    {
      "cell_type": "code",
      "source": [
        "#Wine\n",
        "import pandas as pd\n",
        "\n",
        "file_path_red = \"C:\\\\Users\\\\Shmuel\\\\Desktop\\\\DI_Bootcamp\\\\Week 8\\\\Day W4\\\\Exercises\\\\Wine_Quality_Red_Only.csv\"\n",
        "file_path_red_white = \"C:\\\\Users\\\\Shmuel\\\\Desktop\\\\DI_Bootcamp\\\\Week 8\\\\Day W4\\\\Exercises\\\\Wine_Quality_Red_vs_White.csv\"\n",
        "\n",
        "\n",
        "def clean_and_save(file_path, cleaned_file_path):\n",
        "    df = pd.read_csv(file_path)\n",
        "    df_cleaned = df.drop_duplicates()\n",
        "\n",
        "    df_cleaned.to_csv(cleaned_file_path, index=False)\n",
        "    print(f\"Cleaned data saved to {cleaned_file_path}\")\n",
        "\n",
        "cleaned_file_path_red = \"C:\\\\Users\\\\Shmuel\\\\Desktop\\\\DI_Bootcamp\\\\Week 8\\\\Day W4\\\\Exercises\\\\Wine_Quality_Red_Only_Cleaned.csv\"\n",
        "clean_and_save(file_path_red, cleaned_file_path_red)\n",
        "cleaned_file_path_red_white = \"C:\\\\Users\\\\Shmuel\\\\Desktop\\\\DI_Bootcamp\\\\Week 8\\\\Day W4\\\\Exercises\\\\Wine_Quality_Red_vs_White_Cleaned.csv\"\n",
        "clean_and_save(file_path_red_white, cleaned_file_path_red_white)\n",
        "\n",
        "print(\"Data cleaning process completed for all files.\")\n"
      ],
      "metadata": {
        "id": "NajnSe5T-kZX"
      },
      "execution_count": null,
      "outputs": []
    },
    {
      "cell_type": "code",
      "source": [
        "#1. How do different chemical properties correlate with the quality of wine?\n",
        "import pandas as pd\n",
        "import matplotlib.pyplot as plt\n",
        "import seaborn as sns\n",
        "\n",
        "file_path_red = r\"C:\\Users\\Shmuel\\Desktop\\DI_Bootcamp\\Week 8\\Day W4\\Exercises\\Wine_Quality_Red_Only_Cleaned.csv\"\n",
        "file_path_red_white = r\"C:\\Users\\Shmuel\\Desktop\\DI_Bootcamp\\Week 8\\Day W4\\Exercises\\Wine_Quality_Red_vs_White_Cleaned.csv\"\n",
        "\n",
        "wine_red = pd.read_csv(file_path_red)\n",
        "wine_red_white = pd.read_csv(file_path_red_white)\n",
        "\n",
        "wine_combined = pd.concat([wine_red, wine_red_white], ignore_index=True)\n",
        "\n",
        "correlation_matrix = wine_combined.corr()\n",
        "\n",
        "correlations_with_quality = correlation_matrix['quality'].drop('quality')\n",
        "\n",
        "print(\"Correlations of different chemical properties with wine quality:\")\n",
        "print(correlations_with_quality)\n",
        "\n",
        "plt.figure(figsize=(10, 6))\n",
        "sns.heatmap(correlation_matrix, annot=True, cmap='coolwarm', fmt=\".2f\", linewidths=0.5)\n",
        "plt.title(\"Correlation Matrix of Wine Properties\")\n",
        "plt.show()\n",
        "\n",
        "plt.figure(figsize=(10, 6))\n",
        "correlations_with_quality.sort_values().plot(kind='bar')\n",
        "plt.title(\"Correlation of Chemical Properties with Wine Quality\")\n",
        "plt.ylabel(\"Correlation Coefficient\")\n",
        "plt.xlabel(\"Chemical Properties\")\n",
        "plt.show()\n"
      ],
      "metadata": {
        "id": "jtnEm3OhWHpc"
      },
      "execution_count": null,
      "outputs": []
    },
    {
      "cell_type": "code",
      "source": [
        "#2. Is there a significant difference in quality between red and white wines?\n",
        "import pandas as pd\n",
        "from scipy.stats import ttest_ind\n",
        "\n",
        "file_path_red = r\"C:\\Users\\Shmuel\\Desktop\\DI_Bootcamp\\Week 8\\Day W4\\Exercises\\Wine_Quality_Red_Only_Cleaned.csv\"\n",
        "file_path_red_white = r\"C:\\Users\\Shmuel\\Desktop\\DI_Bootcamp\\Week 8\\Day W4\\Exercises\\Wine_Quality_Red_vs_White_Cleaned.csv\"\n",
        "\n",
        "wine_red = pd.read_csv(file_path_red)\n",
        "wine_red_white = pd.read_csv(file_path_red_white)\n",
        "\n",
        "print(wine_red.head())\n",
        "print(wine_red_white.head())\n",
        "\n",
        "red_quality = wine_red['quality']\n",
        "white_quality = wine_red_white[wine_red_white['type'] == 'white']['quality']\n",
        "\n",
        "t_stat, p_value = ttest_ind(red_quality, white_quality, equal_var=False)\n",
        "\n",
        "print(f\"Mean quality of red wines: {red_quality.mean()}\")\n",
        "print(f\"Mean quality of white wines: {white_quality.mean()}\")\n",
        "print(f\"T-test result - t-statistic: {t_stat}, p-value: {p_value}\")\n",
        "\n",
        "if p_value < 0.05:\n",
        "    print(\"There is a significant difference in quality between red and white wines.\")\n",
        "else:\n",
        "    print(\"There is no significant difference in quality between red and white wines.\")\n"
      ],
      "metadata": {
        "id": "Bd6zj-OyWK_n"
      },
      "execution_count": null,
      "outputs": []
    }
  ]
}