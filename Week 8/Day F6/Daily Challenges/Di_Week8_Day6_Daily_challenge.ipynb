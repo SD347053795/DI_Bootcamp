{
  "nbformat": 4,
  "nbformat_minor": 0,
  "metadata": {
    "colab": {
      "provenance": []
    },
    "kernelspec": {
      "name": "python3",
      "display_name": "Python 3"
    },
    "language_info": {
      "name": "python"
    }
  },
  "cells": [
    {
      "cell_type": "code",
      "source": [
        "import pandas as pd\n",
        "\n",
        "\n",
        "file_path = '2019.csv'\n",
        "df = pd.read_csv(file_path)\n",
        "\n",
        "print(df.columns)\n",
        "print(df['Country or region'].head())\n",
        "print(\"\\nMissing values in the entire dataset:\")\n",
        "print(df.isnull().sum())\n",
        "df.fillna(df.mean(), inplace=True)\n",
        "print(\"\\nMissing values after filling:\")\n",
        "print(df.isnull().sum())"
      ],
      "metadata": {
        "id": "0peYi8HBLCrV"
      },
      "execution_count": null,
      "outputs": []
    },
    {
      "cell_type": "code",
      "source": [
        "import pandas as pd\n",
        "import matplotlib.pyplot as plt\n",
        "\n",
        "file_path = '2019.csv'\n",
        "df = pd.read_csv(file_path)\n",
        "print(df.columns)\n",
        "df.columns = df.columns.str.strip()\n",
        "print(df.columns)\n",
        "plt.figure(figsize=(10, 6))\n",
        "plt.scatter(df['Social support'], df['Score'], alpha=0.5)\n",
        "plt.title('Relationship between Social Support and Happiness Score')\n",
        "plt.xlabel('Social Support')\n",
        "plt.ylabel('Happiness Score')\n",
        "plt.grid(True)\n",
        "plt.show()\n"
      ],
      "metadata": {
        "collapsed": true,
        "id": "SL9DiltBNSmt"
      },
      "execution_count": null,
      "outputs": []
    },
    {
      "cell_type": "code",
      "source": [
        "import pandas as pd\n",
        "import matplotlib.pyplot as plt\n",
        "\n",
        "\n",
        "file_path = '2019.csv'\n",
        "df = pd.read_csv(file_path)\n",
        "print(df.columns)\n",
        "df.columns = df.columns.str.strip()\n",
        "print(df.columns)\n",
        "\n",
        "region_means = df.groupby('Country or region').mean()\n",
        "\n",
        "region_means = region_means.sort_values(by='GDP per capita', ascending=False)\n",
        "\n",
        "fig, ax1 = plt.subplots(figsize=(12, 8))\n",
        "\n",
        "ax1.bar(region_means.index, region_means['GDP per capita'], color='blue', alpha=0.7, label='GDP per capita')\n",
        "\n",
        "ax1.set_ylabel('GDP per capita', color='blue')\n",
        "ax1.tick_params(axis='y', labelcolor='blue')\n",
        "\n",
        "ax2 = ax1.twinx()\n",
        "\n",
        "ax2.plot(region_means.index, region_means['Healthy life expectancy'], color='green', marker='o', linestyle='-', label='Healthy life expectancy')\n",
        "\n",
        "ax2.set_ylabel('Healthy life expectancy', color='green')\n",
        "ax2.tick_params(axis='y', labelcolor='green')\n",
        "\n",
        "plt.title('Comparison of GDP per capita and Healthy life expectancy Across Regions')\n",
        "plt.xlabel('Region')\n",
        "\n",
        "plt.xticks(rotation=90)\n",
        "\n",
        "ax1.legend(loc='upper left')\n",
        "ax2.legend(loc='upper right')\n",
        "\n",
        "plt.tight_layout()\n",
        "plt.show()\n"
      ],
      "metadata": {
        "id": "yeh4QN_4NXzh"
      },
      "execution_count": null,
      "outputs": []
    }
  ]
}