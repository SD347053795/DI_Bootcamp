{
  "nbformat": 4,
  "nbformat_minor": 0,
  "metadata": {
    "colab": {
      "provenance": []
    },
    "kernelspec": {
      "name": "python3",
      "display_name": "Python 3"
    },
    "language_info": {
      "name": "python"
    }
  },
  "cells": [
    {
      "cell_type": "code",
      "execution_count": 3,
      "metadata": {
        "colab": {
          "base_uri": "https://localhost:8080/"
        },
        "id": "AuEEnwH1U4u_",
        "outputId": "b6fd63fd-f197-45ae-8a51-bc1435bb85ba"
      },
      "outputs": [
        {
          "output_type": "stream",
          "name": "stdout",
          "text": [
            "Predicted price for a 90 sqm house: $228972.60\n",
            "Predicted price for a 110 sqm house: $265547.95\n",
            "Slope (Coefficient): 1828.77\n",
            "Intercept: 64383.56\n",
            "Predicted price for a 90 sqm house: $228972.60\n"
          ]
        }
      ],
      "source": [
        "#Question 1\n",
        "import numpy as np\n",
        "from sklearn.linear_model import LinearRegression\n",
        "\n",
        "house_sizes = np.array([50, 70, 80, 100, 120])\n",
        "house_prices = np.array([150000, 200000, 210000, 250000, 280000])\n",
        "\n",
        "\n",
        "X = house_sizes.reshape(-1, 1)\n",
        "y = house_prices\n",
        "model = LinearRegression()\n",
        "model.fit(X, y)\n",
        "new_house_sizes = np.array([90, 110]).reshape(-1, 1)\n",
        "predicted_prices = model.predict(new_house_sizes)\n",
        "\n",
        "for size, price in zip(new_house_sizes.flatten(), predicted_prices):\n",
        "    print(f\"Predicted price for a {size} sqm house: ${price:.2f}\")\n",
        "\n",
        "#Slope\n",
        "slope = model.coef_[0]\n",
        "intercept = model.intercept_\n",
        "print(f\"Slope (Coefficient): {slope:.2f}\")\n",
        "print(f\"Intercept: {intercept:.2f}\")\n",
        "size_90_sqm = np.array([[90]])\n",
        "predicted_price_90_sqm = model.predict(size_90_sqm)[0]\n",
        "print(f\"Predicted price for a 90 sqm house: ${predicted_price_90_sqm:.2f}\")\n",
        "\n",
        "\n",
        "# The slope of the regression line is 1425.\n",
        "# Slope (Coefficient): 1425.00\n",
        "# Predicted price for a 90 sqm house: $211750.00\n",
        "# The slope indicates that each additional square meter increases the house price by 1425 currency units.\n",
        "    #The intercept represents the baseline price when the house size is zero, although it's not practically meaningful in this context."
      ]
    },
    {
      "cell_type": "code",
      "source": [
        "#Question 2\n",
        "import numpy as np\n",
        "from scipy import stats\n",
        "\n",
        "fertilizer_1 = np.array([5, 6, 7, 6, 5])\n",
        "fertilizer_2 = np.array([7, 8, 7, 9, 8])\n",
        "fertilizer_3 = np.array([4, 5, 4, 3, 4])\n",
        "\n",
        "F_value, P_value = stats.f_oneway(fertilizer_1, fertilizer_2, fertilizer_3)\n",
        "print(f\"F-value: {F_value:.2f}\")\n",
        "print(f\"P-value: {P_value:.4f}\")\n",
        "\n",
        "alpha = 0.05\n",
        "if P_value < alpha:\n",
        "    print(\"The fertilizers have significantly different effects on plant growth.\")\n",
        "else:\n",
        "    print(\"The fertilizers do not have significantly different effects on plant growth.\")\n",
        "\n",
        "# Since the P-value (0.0003) is less than the significance level (0.05), we reject the null hypothesis (H0).\n",
        "# Conclusion: The fertilizers have significantly different effects on plant growth.\n",
        "#If the P-value were greater than 0.05, we would fail to reject the null hypothesis.\n",
        "    # This would mean that there is no statistically significant difference between the effects of the three fertilizers on plant growth."
      ],
      "metadata": {
        "colab": {
          "base_uri": "https://localhost:8080/"
        },
        "id": "xsK1oRQbVKpi",
        "outputId": "bda2ae95-3193-49dc-8376-238697b55fc6"
      },
      "execution_count": 4,
      "outputs": [
        {
          "output_type": "stream",
          "name": "stdout",
          "text": [
            "F-value: 28.53\n",
            "P-value: 0.0000\n",
            "The fertilizers have significantly different effects on plant growth (reject H0).\n"
          ]
        }
      ]
    },
    {
      "cell_type": "code",
      "source": [
        "#Question 3\n",
        "from scipy.stats import binom\n",
        "\n",
        "n = 10\n",
        "k = 5\n",
        "p = 0.5\n",
        "probability = binom.pmf(k, n, p)\n",
        "\n",
        "print(f\"Probability of getting exactly {k} heads in {n} coin flips: {probability:.4f}\")\n",
        "\n",
        "#To find the probability of getting a certain number of successes (like 5 heads) in a set number of trials (like 10 coin flips),\n",
        "    # you can use the binomial distribution. For example, using 'scipy.stats.binom', the probability of getting exactly 5 heads in 10\n",
        "    # flips, with each flip having a 50% chance of being heads, is approximately 24.61%."
      ],
      "metadata": {
        "colab": {
          "base_uri": "https://localhost:8080/"
        },
        "id": "oz8YnW2kXMtn",
        "outputId": "cf56e87f-e274-43fe-d47e-973ce7e0b7cd"
      },
      "execution_count": 5,
      "outputs": [
        {
          "output_type": "stream",
          "name": "stdout",
          "text": [
            "Probability of getting exactly 5 heads in 10 coin flips: 0.2461\n"
          ]
        }
      ]
    },
    {
      "cell_type": "code",
      "source": [
        "#Question 4\n",
        "import pandas as pd\n",
        "from scipy.stats import pearsonr, spearmanr\n",
        "\n",
        "data = pd.DataFrame({'age': [23, 25, 30, 35, 40], 'income': [35000, 40000, 50000, 60000, 70000]})\n",
        "\n",
        "age = data['age']\n",
        "income = data['income']\n",
        "pearson_corr, _ = pearsonr(age, income)\n",
        "spearman_corr, _ = spearmanr(age, income)\n",
        "\n",
        "print(f\"Pearson correlation coefficient: {pearson_corr:.4f}\")\n",
        "print(f\"Spearman correlation coefficient: {spearman_corr:.4f}\")\n",
        "\n",
        "#Pearson Correlation: Measures linear relationship.\n",
        "#Spearman Correlation: Measures monotonic relationship, robust to outliers and non-linearities."
      ],
      "metadata": {
        "colab": {
          "base_uri": "https://localhost:8080/"
        },
        "id": "sPvsSEEOYDcG",
        "outputId": "98fa419d-8f74-4bc6-820a-1257357abec4"
      },
      "execution_count": 6,
      "outputs": [
        {
          "output_type": "stream",
          "name": "stdout",
          "text": [
            "Pearson correlation coefficient: 0.9997\n",
            "Spearman correlation coefficient: 1.0000\n"
          ]
        }
      ]
    },
    {
      "cell_type": "code",
      "source": [
        "#Question 5\n",
        "import pandas as pd\n",
        "import matplotlib.pyplot as plt\n",
        "\n",
        "data = pd.DataFrame({'age': [23, 25, 30, 35, 40], 'income': [35000, 40000, 50000, 60000, 70000]})\n",
        "\n",
        "age = data['age']\n",
        "income = data['income']\n",
        "\n",
        "plt.figure(figsize=(8, 6))\n",
        "plt.scatter(age, income, color='blue', alpha=0.8)\n",
        "plt.title('Scatter Plot of Age vs Income')\n",
        "plt.xlabel('Age')\n",
        "plt.ylabel('Income')\n",
        "plt.grid(True)\n",
        "plt.show()"
      ],
      "metadata": {
        "colab": {
          "base_uri": "https://localhost:8080/",
          "height": 564
        },
        "id": "REnkWyr1YN19",
        "outputId": "5c7cf251-13db-4041-dc7c-2230c8074398"
      },
      "execution_count": 7,
      "outputs": [
        {
          "output_type": "display_data",
          "data": {
            "text/plain": [
              "<Figure size 800x600 with 1 Axes>"
            ],
            "image/png": "[encoded data removed]"
          },
          "metadata": {}
        }
      ]
    }
  ]
}