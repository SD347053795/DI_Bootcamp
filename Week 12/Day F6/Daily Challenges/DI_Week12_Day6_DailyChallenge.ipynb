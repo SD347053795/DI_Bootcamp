{
  "nbformat": 4,
  "nbformat_minor": 0,
  "metadata": {
    "colab": {
      "provenance": []
    },
    "kernelspec": {
      "name": "python3",
      "display_name": "Python 3"
    },
    "language_info": {
      "name": "python"
    }
  },
  "cells": [
    {
      "cell_type": "code",
      "execution_count": 1,
      "metadata": {
        "colab": {
          "base_uri": "https://localhost:8080/"
        },
        "id": "OayDNU9NbzAg",
        "outputId": "fdc2f815-d30b-442c-a760-d396926ed5ba"
      },
      "outputs": [
        {
          "output_type": "stream",
          "name": "stdout",
          "text": [
            "Collecting bs4\n",
            "  Downloading bs4-0.0.2-py2.py3-none-any.whl (1.2 kB)\n",
            "Requirement already satisfied: beautifulsoup4 in /usr/local/lib/python3.10/dist-packages (from bs4) (4.12.3)\n",
            "Requirement already satisfied: soupsieve>1.2 in /usr/local/lib/python3.10/dist-packages (from beautifulsoup4->bs4) (2.5)\n",
            "Installing collected packages: bs4\n",
            "Successfully installed bs4-0.0.2\n",
            "Requirement already satisfied: requests in /usr/local/lib/python3.10/dist-packages (2.31.0)\n",
            "Requirement already satisfied: charset-normalizer<4,>=2 in /usr/local/lib/python3.10/dist-packages (from requests) (3.3.2)\n",
            "Requirement already satisfied: idna<4,>=2.5 in /usr/local/lib/python3.10/dist-packages (from requests) (3.7)\n",
            "Requirement already satisfied: urllib3<3,>=1.21.1 in /usr/local/lib/python3.10/dist-packages (from requests) (2.0.7)\n",
            "Requirement already satisfied: certifi>=2017.4.17 in /usr/local/lib/python3.10/dist-packages (from requests) (2024.7.4)\n"
          ]
        }
      ],
      "source": [
        "!pip install bs4\n",
        "!pip install requests"
      ]
    },
    {
      "cell_type": "code",
      "source": [
        "import requests\n",
        "from bs4 import BeautifulSoup\n",
        "import pandas as pd\n",
        "\n",
        "url = \"https://github.com/topics\"\n",
        "response = requests.get(url)\n",
        "print(f\"Status Code: {response.status_code}\")\n",
        "print(\"First 100 characters of HTML content:\")\n",
        "print(response.text[:100])\n",
        "with open('webpage.html', 'w', encoding='utf-8') as file:\n",
        "    file.write(response.text)\n",
        "with open('webpage.html', 'r', encoding='utf-8') as file:\n",
        "    html_content = file.read()\n",
        "soup = BeautifulSoup(html_content, 'html.parser')\n",
        "titles = [tag.get_text(strip=True) for tag in soup.find_all('p', class_='f3 lh-condensed mb-0 mt-1 Link--primary')]\n",
        "descriptions = [tag.get_text(strip=True) for tag in soup.find_all('p', class_='f5 color-fg-muted mb-0 mt-1')]\n",
        "print(f\"Number of titles: {len(titles)}\")\n",
        "print(f\"Titles: {titles[:5]}\")\n",
        "\n",
        "print(f\"Number of descriptions: {len(descriptions)}\")\n",
        "print(f\"Descriptions: {descriptions[:5]}\")\n",
        "data = {\n",
        "    'title': titles,\n",
        "    'description': descriptions\n",
        "}\n",
        "df = pd.DataFrame(data)\n",
        "print(\"DataFrame:\")\n",
        "print(df.head())"
      ],
      "metadata": {
        "colab": {
          "base_uri": "https://localhost:8080/"
        },
        "id": "qOwUIB6mcRS0",
        "outputId": "d43c5d72-6b26-48c5-e496-46c838d6c632"
      },
      "execution_count": 2,
      "outputs": [
        {
          "output_type": "stream",
          "name": "stdout",
          "text": [
            "Status Code: 200\n",
            "First 100 characters of HTML content:\n",
            "\n",
            "\n",
            "<!DOCTYPE html>\n",
            "<html\n",
            "  lang=\"en\"\n",
            "  \n",
            "  data-color-mode=\"auto\" data-light-theme=\"light\" data-dark-t\n",
            "Number of titles: 30\n",
            "Titles: ['3D', 'Ajax', 'Algorithm', 'Amp', 'Android']\n",
            "Number of descriptions: 30\n",
            "Descriptions: ['3D refers to the use of three-dimensional graphics, modeling, and animation in various industries.', 'Ajax is a technique for creating interactive web applications.', 'Algorithms are self-contained sequences that carry out a variety of tasks.', 'Amp is a non-blocking concurrency library for PHP.', 'Android is an operating system built by Google designed for mobile devices.']\n",
            "DataFrame:\n",
            "       title                                        description\n",
            "0         3D  3D refers to the use of three-dimensional grap...\n",
            "1       Ajax  Ajax is a technique for creating interactive w...\n",
            "2  Algorithm  Algorithms are self-contained sequences that c...\n",
            "3        Amp  Amp is a non-blocking concurrency library for ...\n",
            "4    Android  Android is an operating system built by Google...\n"
          ]
        }
      ]
    }
  ]
}